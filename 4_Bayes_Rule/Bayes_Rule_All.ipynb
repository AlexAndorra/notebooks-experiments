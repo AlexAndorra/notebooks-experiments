{
 "cells": [
  {
   "cell_type": "markdown",
   "id": "db54a5b6",
   "metadata": {
    "hideCode": false,
    "hidePrompt": false,
    "slideshow": {
     "slide_type": "skip"
    }
   },
   "source": [
    " # Lesson Bayes\n",
    " Rev 2.1: 2-27-22"
   ]
  },
  {
   "cell_type": "code",
   "execution_count": 10,
   "id": "0991585a",
   "metadata": {
    "hideCode": false,
    "hidePrompt": false,
    "slideshow": {
     "slide_type": "skip"
    }
   },
   "outputs": [],
   "source": [
    "import arviz as az\n",
    "import matplotlib.pyplot as plt\n",
    "import numpy as np\n",
    "import pandas as pd\n",
    "import pymc as pm\n",
    "import scipy\n",
    "from scipy import stats"
   ]
  },
  {
   "cell_type": "markdown",
   "id": "fb2926cb",
   "metadata": {},
   "source": [
    "# Lesson: Bayes Deep Dive\n",
    "\n",
    "$$ \n",
    "\\underbrace{p(\\boldsymbol{\\theta} \\mid \\boldsymbol{Y})}_{\\text{posterior}} = \\frac{\\overbrace{p(\\boldsymbol{Y} \\mid \\boldsymbol{\\theta})}^{\\text{likelihood}}\\; \\overbrace{p(\\boldsymbol{\\theta})}^{\\text{prior}}}{\\underbrace{{p(\\boldsymbol{Y})}}_{\\text{marginal likelihood}}}\n",
    "$$"
   ]
  },
  {
   "cell_type": "markdown",
   "id": "5ff45274",
   "metadata": {
    "slideshow": {
     "slide_type": "notes"
    }
   },
   "source": [
    "In this lesson were going to focus on Bayes Theorem itself"
   ]
  },
  {
   "cell_type": "markdown",
   "id": "262b2438",
   "metadata": {
    "slideshow": {
     "slide_type": "slide"
    }
   },
   "source": [
    "<img src=\"img/BayesianUpdate.png\" width=\"1200\">"
   ]
  },
  {
   "cell_type": "markdown",
   "id": "efaa90bb",
   "metadata": {
    "slideshow": {
     "slide_type": "notes"
    }
   },
   "source": [
    "Remember this slide from the earlier lesson. In this lesson we're going cover everything on this slide, and more"
   ]
  },
  {
   "cell_type": "markdown",
   "id": "8e2948c7",
   "metadata": {
    "slideshow": {
     "slide_type": "slide"
    }
   },
   "source": [
    "## Breaking down the A/B Test model"
   ]
  },
  {
   "cell_type": "code",
   "execution_count": 11,
   "id": "bb8f7e24",
   "metadata": {},
   "outputs": [
    {
     "name": "stderr",
     "output_type": "stream",
     "text": [
      "Auto-assigning NUTS sampler...\n",
      "Initializing NUTS using jitter+adapt_diag...\n",
      "Multiprocess sampling (4 chains in 4 jobs)\n",
      "NUTS: [conversion_rate]\n"
     ]
    },
    {
     "data": {
      "text/html": [
       "\n",
       "    <div>\n",
       "        <style>\n",
       "            /* Turns off some styling */\n",
       "            progress {\n",
       "                /* gets rid of default border in Firefox and Opera. */\n",
       "                border: none;\n",
       "                /* Needs to be in here for Safari polyfill so background images work as expected. */\n",
       "                background-size: auto;\n",
       "            }\n",
       "            .progress-bar-interrupted, .progress-bar-interrupted::-webkit-progress-bar {\n",
       "                background: #F44336;\n",
       "            }\n",
       "        </style>\n",
       "      <progress value='8000' class='' max='8000' style='width:300px; height:20px; vertical-align: middle;'></progress>\n",
       "      100.00% [8000/8000 00:01<00:00 Sampling 4 chains, 0 divergences]\n",
       "    </div>\n",
       "    "
      ],
      "text/plain": [
       "<IPython.core.display.HTML object>"
      ]
     },
     "metadata": {},
     "output_type": "display_data"
    },
    {
     "name": "stderr",
     "output_type": "stream",
     "text": [
      "Sampling 4 chains for 1_000 tune and 1_000 draw iterations (4_000 + 4_000 draws total) took 1 seconds.\n"
     ]
    },
    {
     "data": {
      "text/html": [
       "\n",
       "    <div>\n",
       "        <style>\n",
       "            /* Turns off some styling */\n",
       "            progress {\n",
       "                /* gets rid of default border in Firefox and Opera. */\n",
       "                border: none;\n",
       "                /* Needs to be in here for Safari polyfill so background images work as expected. */\n",
       "                background-size: auto;\n",
       "            }\n",
       "            .progress-bar-interrupted, .progress-bar-interrupted::-webkit-progress-bar {\n",
       "                background: #F44336;\n",
       "            }\n",
       "        </style>\n",
       "      <progress value='4000' class='' max='4000' style='width:300px; height:20px; vertical-align: middle;'></progress>\n",
       "      100.00% [4000/4000 00:00<00:00]\n",
       "    </div>\n",
       "    "
      ],
      "text/plain": [
       "<IPython.core.display.HTML object>"
      ]
     },
     "metadata": {},
     "output_type": "display_data"
    }
   ],
   "source": [
    "# Generate random data to see if we can recover parameters in this lesson\n",
    "np.random.seed(3)\n",
    "n_visitors = 1000\n",
    "conversion_rate=.3\n",
    "\n",
    "# Simulate 286 visits\n",
    "observed_visits = stats.bernoulli(p=conversion_rate).rvs(n_visitors)\n",
    "observed_conversions = observed_visits.sum()\n",
    "\n",
    "with pm.Model():\n",
    "    \n",
    "    # Parameter we want to infer with prior\n",
    "    conversion_rate = pm.Beta(\"conversion_rate\", 2, 10)\n",
    "    \n",
    "    # Likelihood of observing data given parameter\n",
    "    likelihood = pm.Binomial(\"likelihood\", \n",
    "                                p=conversion_rate, \n",
    "                                n=n_visitors,\n",
    "                                observed=observed_conversions)\n",
    "    \n",
    "    # Posterior Estimation\n",
    "    idata = pm.sample()\n",
    "    \n",
    "    # Prior Predictive\n",
    "    idata.extend(pm.sample_prior_predictive())\n",
    "    \n",
    "    # Posterior Predictive\n",
    "    idata.extend(pm.sample_posterior_predictive(idata))\n",
    "    "
   ]
  },
  {
   "cell_type": "markdown",
   "id": "f499f2b6",
   "metadata": {},
   "source": [
    "We're going to do that by breaking down the AB testing model you're oh so familiar with. We'll dive into detail in what every single line is doing in this model and code"
   ]
  },
  {
   "cell_type": "markdown",
   "id": "b23d4844",
   "metadata": {
    "slideshow": {
     "slide_type": "slide"
    }
   },
   "source": [
    "## Prior Distribution\n",
    "* How we incorporate domain knowledge\n",
    "* Regularization for Bayesian Models\n"
   ]
  },
  {
   "cell_type": "markdown",
   "id": "59eb28f2",
   "metadata": {},
   "source": [
    "## Likelihood Distribution\n",
    "* The measure of observation plausibility\n",
    "* The connection between the data space and parameter space"
   ]
  },
  {
   "cell_type": "markdown",
   "id": "b9f8a5bb",
   "metadata": {},
   "source": [
    "## Posterior Distribution\n",
    "* The distribution every Bayesian is seeking\n",
    "* Our updated beliefs after incorporating the data"
   ]
  },
  {
   "cell_type": "markdown",
   "id": "72e30123",
   "metadata": {},
   "source": [
    "## The predictive distributions\n",
    "  * From parameter space to data space\n",
    "  * Two types\n",
    "      * Prior Predictive\n",
    "      * Posterior Predictive"
   ]
  },
  {
   "cell_type": "markdown",
   "id": "45a89324",
   "metadata": {},
   "source": [
    "## Markov Chain Monte Carlo\n",
    "* Magic Inference Button TM\n",
    "* The computational sampling algorithm that makes Modern Bayes possible\n",
    "    * This is the core of the magic machine\n"
   ]
  },
  {
   "cell_type": "markdown",
   "id": "e94e440c",
   "metadata": {},
   "source": [
    "Specifically we're going to go through each one of these terms and talk through the their theoretical meaning and their practical intuition"
   ]
  },
  {
   "cell_type": "markdown",
   "id": "5514eee5",
   "metadata": {
    "hideCode": false,
    "hidePrompt": false,
    "slideshow": {
     "slide_type": "slide"
    }
   },
   "source": [
    "# Priors\n",
    "Expressing plausibility before seeing data\n",
    "\n",
    "$$ \n",
    "p(\\boldsymbol{\\theta} \\mid \\boldsymbol{Y}) = \\frac{p(\\boldsymbol{Y} \\mid \\boldsymbol{\\theta})\\; \\overbrace{p(\\boldsymbol{\\theta})}^{\\text{prior}}}{{p(\\boldsymbol{Y})}}\n",
    "$$"
   ]
  },
  {
   "cell_type": "markdown",
   "id": "7ae3c455",
   "metadata": {
    "slideshow": {
     "slide_type": "slide"
    }
   },
   "source": [
    "<img src=\"img/PriorSlide.png\" width=\"1200\">"
   ]
  },
  {
   "cell_type": "markdown",
   "id": "ccd369ec",
   "metadata": {
    "hideCode": false,
    "hidePrompt": false,
    "slideshow": {
     "slide_type": "slide"
    }
   },
   "source": [
    "## A/B Testing: What do we know before we see the data?\n",
    "Before running the experiment what do we believe the conversion ratio could be?\n",
    "\n",
    "* Any value between 0% and 100% equally?\n",
    "* Probably 20% based on past experience?\n",
    "* Definitely not above 40%?"
   ]
  },
  {
   "cell_type": "markdown",
   "id": "a0941b91",
   "metadata": {
    "hideCode": true,
    "hidePrompt": false,
    "slideshow": {
     "slide_type": "slide"
    }
   },
   "source": [
    "## Priors distributions codify expert knowledge\n",
    "Each of these distributions showcase a different belief"
   ]
  },
  {
   "cell_type": "code",
   "execution_count": 12,
   "id": "b041d5a6",
   "metadata": {
    "hideCode": false,
    "hidePrompt": false
   },
   "outputs": [
    {
     "data": {
      "image/png": "[encoded data removed]",
      "text/plain": [
       "<Figure size 1800x360 with 3 Axes>"
      ]
     },
     "metadata": {
      "needs_background": "light"
     },
     "output_type": "display_data"
    }
   ],
   "source": [
    "import matplotlib.ticker as mtick\n",
    "\n",
    "def priors(labels):\n",
    "    fig, axes = plt.subplots(1, 3, figsize=(25,5))\n",
    "\n",
    "    x = np.linspace(0,1,100)\n",
    "\n",
    "    unif = stats.uniform(0,1)\n",
    "    axes[0].plot(x, unif.pdf(x), lw=5)\n",
    "    axes[0].set_title(labels[0], fontsize=25)\n",
    "\n",
    "    beta = stats.beta(2,6)\n",
    "    axes[1].plot(x, beta.pdf(x), lw=5)\n",
    "    axes[1].set_title(labels[1], fontsize=25)\n",
    "\n",
    "\n",
    "    truncated = stats.beta(4,12)\n",
    "    pdf = beta.pdf(x)\n",
    "    pdf[x>.4] = 0\n",
    "    axes[2].plot(x, pdf, lw=5)\n",
    "    axes[2].set_title(labels[2], fontsize=25)\n",
    "\n",
    "    for ax in axes:\n",
    "        ax.set_yticks([])\n",
    "        ax.xaxis.set_major_formatter(mtick.PercentFormatter(1.0))\n",
    "        ax.tick_params(axis=\"x\", labelsize=20)\n",
    "    return \n",
    "\n",
    "labels = [\"Uniform Prior\", \"Beta Prior\", \"Truncated Prior\"]\n",
    "priors(labels)"
   ]
  },
  {
   "cell_type": "markdown",
   "id": "fce34efb",
   "metadata": {},
   "source": [
    "## Expressing a prior in PyMC"
   ]
  },
  {
   "cell_type": "code",
   "execution_count": 13,
   "id": "36d58353",
   "metadata": {},
   "outputs": [],
   "source": [
    "with pm.Model() as model_a:\n",
    "    \n",
    "    # Parameter we want to infer with prior\n",
    "    conversion_rate = pm.Beta(\"conversion_rate\", 2, 10)"
   ]
  },
  {
   "cell_type": "markdown",
   "id": "58972deb",
   "metadata": {
    "hideCode": false,
    "hidePrompt": false,
    "slideshow": {
     "slide_type": "slide"
    }
   },
   "source": [
    "## The rationale behind the prior is what's important\n",
    "\n",
    "You may be now thinking \"Well how do I know the right/best/correct prior?\" The truth is you won't.\n",
    "\n",
    "There's a famous quote stating \"All models are wrong, some are useful\"\n",
    "\n",
    "When selecting priors the task is not to pick the right prior *independent of any other factor*, but one that you can justify in context with\n",
    "* the rest of the model\n",
    "* how your model will be used in reality\n",
    "* the experience of domain experts"
   ]
  },
  {
   "attachments": {
    "image.png": {
     "image/png": "[encoded data removed]"
    }
   },
   "cell_type": "markdown",
   "id": "64bedf63",
   "metadata": {
    "hideCode": false,
    "hidePrompt": false,
    "slideshow": {
     "slide_type": "slide"
    }
   },
   "source": [
    "## Priors are a form of regularization\n",
    "\n",
    "\n",
    "![image.png](attachment:image.png)\n",
    "**Source**: scikit-learn documentation"
   ]
  },
  {
   "cell_type": "markdown",
   "id": "9df21674",
   "metadata": {},
   "source": [
    "Another benefit of priors is they can be utilized to focus the models on reasonable possibilities and not far flung parameters that happen optimize a metric.\n",
    "\n",
    "In other words we can use priors to\n",
    "* Highlight reasonable possible parameters\n",
    "* Penalize unreasonable possible parameters\n",
    "\n",
    "For example in the case below if we were using a Bayesian model to estimate the degree of fit of a polynomial, we could choose to put a prior with high beliefs on polynomial degree 2-6, but lesser belief on 0, 1 and greater than 8"
   ]
  },
  {
   "cell_type": "markdown",
   "id": "9ed34162",
   "metadata": {
    "hideCode": false,
    "hidePrompt": false,
    "slideshow": {
     "slide_type": "slide"
    }
   },
   "source": [
    "## Section Recap\n",
    "* Priors distributions express the plausibility of parameters prior to seeing data\n",
    "* When choosing a prior focus on the rationale behind the prior\n",
    "  * not picking the \"right\" prior\n"
   ]
  },
  {
   "cell_type": "markdown",
   "id": "0d35826a",
   "metadata": {
    "hideCode": false,
    "hidePrompt": false,
    "slideshow": {
     "slide_type": "slide"
    }
   },
   "source": [
    "# Likelihoods\n",
    "The plausibility of the data given a parameter  \n",
    "\n",
    "\n",
    "$$ \n",
    "p(\\boldsymbol{\\theta} \\mid \\boldsymbol{Y}) = \\frac{\\overbrace{p(\\boldsymbol{Y} \\mid \\boldsymbol{\\theta})}^{\\text{Likelihood}}\\; p(\\boldsymbol{\\theta})}{{p(\\boldsymbol{Y})}}\n",
    "$$"
   ]
  },
  {
   "cell_type": "markdown",
   "id": "3608cf19",
   "metadata": {},
   "source": [
    "<img src=\"img/LikelihoodSlide.png\" width=\"1200\">"
   ]
  },
  {
   "cell_type": "markdown",
   "id": "9ba5fda9",
   "metadata": {},
   "source": [
    "# The connection between data space and parameter space\n",
    "\n",
    "```python\n",
    "likelihood = pm.Binomial(\"likelihood\", \n",
    "                            p=conversion_rate, \n",
    "                            n=n_visitors,\n",
    "                            observed=observed_conversions)\n",
    "```"
   ]
  },
  {
   "cell_type": "markdown",
   "id": "802f023a",
   "metadata": {
    "hideCode": false,
    "hidePrompt": false,
    "slideshow": {
     "slide_type": "slide"
    }
   },
   "source": [
    "## Ranking possible conversion values?\n",
    "For our A/B test example let's say we on variant B we see *100* visits and *85* of them convert.\n",
    "\n",
    "What is the plausibility that the true conversion rate, p(conversion) is:\n",
    "* 1%\n",
    "* 100%\n",
    "* 80%\n",
    "* 95%\n",
    "\n",
    "Pause the video here and rank these from most to least plausible before continuing on"
   ]
  },
  {
   "cell_type": "markdown",
   "id": "92ff4d85",
   "metadata": {
    "hideCode": false,
    "hidePrompt": false,
    "slideshow": {
     "slide_type": "slide"
    }
   },
   "source": [
    "## Intuitively ranking `p(conversion)` values?\n",
    "\n",
    "1. 80%\n",
    "2. 95%\n",
    "3. 1%\n",
    "4. 100%\n"
   ]
  },
  {
   "cell_type": "markdown",
   "id": "0659f0fd",
   "metadata": {},
   "source": [
    "\n",
    "Out of 100 visits, 85 converted. That brings us to an *empirical* conversion rate of 85%, but as Bayesians we also want to know the plausibility of all other conversion rates.\n",
    "\n",
    "Intuitively we know a 100% conversion rate impossible. If even 1 person didn't convert the true conversion rate can't be 100%.\n",
    "\n",
    "1% is highly implausible but *it is still possible*. It may be that in our sample of 100 we were lucky to get 85, but it's not likely.\n",
    "\n",
    "Intuition may not be enough to differentiate  80% and 95%, let's show how to calculate likelihood"
   ]
  },
  {
   "cell_type": "markdown",
   "id": "c95774ef",
   "metadata": {
    "slideshow": {
     "slide_type": "slide"
    }
   },
   "source": [
    "## Calculating Likelihood is just calculating PMF (or PDF)"
   ]
  },
  {
   "cell_type": "code",
   "execution_count": 14,
   "id": "bcaebb1f",
   "metadata": {
    "hideCode": false,
    "hidePrompt": false
   },
   "outputs": [
    {
     "data": {
      "text/plain": [
       "0.0480617937007464"
      ]
     },
     "execution_count": 14,
     "metadata": {},
     "output_type": "execute_result"
    }
   ],
   "source": [
    "num_conversions, num_visitors = 85, 100\n",
    "possible_true_conversion_rate = .80\n",
    "\n",
    "binom = stats.binom(p=possible_true_conversion_rate, n=num_visitors)\n",
    "binom.pmf(num_conversions)"
   ]
  },
  {
   "cell_type": "markdown",
   "id": "f1d5b53a",
   "metadata": {
    "hideCode": false,
    "hidePrompt": false,
    "slideshow": {
     "slide_type": "notes"
    }
   },
   "source": [
    "The calculation for a likelihood is just calculating the PDF! We plug in a possible conversion value, and the data and we get a value back.\n",
    "\n",
    "Remember though that the PMF, or PDF, values only mean something relative to each other. We need to compare our likelihood at 80% with the one at 95%\n",
    "\n"
   ]
  },
  {
   "cell_type": "markdown",
   "id": "b49bb25d",
   "metadata": {
    "slideshow": {
     "slide_type": "slide"
    }
   },
   "source": [
    "## Comparing Relative Likelihoods\n"
   ]
  },
  {
   "cell_type": "code",
   "execution_count": 15,
   "id": "2026dbfe",
   "metadata": {
    "hideCode": false,
    "hidePrompt": false
   },
   "outputs": [
    {
     "data": {
      "text/html": [
       "<div>\n",
       "<style scoped>\n",
       "    .dataframe tbody tr th:only-of-type {\n",
       "        vertical-align: middle;\n",
       "    }\n",
       "\n",
       "    .dataframe tbody tr th {\n",
       "        vertical-align: top;\n",
       "    }\n",
       "\n",
       "    .dataframe thead th {\n",
       "        text-align: right;\n",
       "    }\n",
       "</style>\n",
       "<table border=\"1\" class=\"dataframe\">\n",
       "  <thead>\n",
       "    <tr style=\"text-align: right;\">\n",
       "      <th></th>\n",
       "      <th>possible_conversion_date</th>\n",
       "      <th>calculated_likelihood</th>\n",
       "    </tr>\n",
       "  </thead>\n",
       "  <tbody>\n",
       "    <tr>\n",
       "      <th>0</th>\n",
       "      <td>0.01</td>\n",
       "      <td>2.178859e-153</td>\n",
       "    </tr>\n",
       "    <tr>\n",
       "      <th>1</th>\n",
       "      <td>0.80</td>\n",
       "      <td>4.806179e-02</td>\n",
       "    </tr>\n",
       "    <tr>\n",
       "      <th>2</th>\n",
       "      <td>0.95</td>\n",
       "      <td>9.880016e-05</td>\n",
       "    </tr>\n",
       "    <tr>\n",
       "      <th>3</th>\n",
       "      <td>1.00</td>\n",
       "      <td>0.000000e+00</td>\n",
       "    </tr>\n",
       "  </tbody>\n",
       "</table>\n",
       "</div>"
      ],
      "text/plain": [
       "   possible_conversion_date  calculated_likelihood\n",
       "0                      0.01          2.178859e-153\n",
       "1                      0.80           4.806179e-02\n",
       "2                      0.95           9.880016e-05\n",
       "3                      1.00           0.000000e+00"
      ]
     },
     "execution_count": 15,
     "metadata": {},
     "output_type": "execute_result"
    }
   ],
   "source": [
    "multiple_possible_true_conversion_rates = [.01, .8, .95, 1]\n",
    "\n",
    "binom = stats.binom(p=multiple_possible_true_conversion_rates, n=num_visitors)\n",
    "likelihoods = binom.pmf(num_conversions)\n",
    "pd.DataFrame({\"possible_conversion_date\":multiple_possible_true_conversion_rates,\n",
    "              \"calculated_likelihood\":likelihoods})"
   ]
  },
  {
   "cell_type": "markdown",
   "id": "1b033d7b",
   "metadata": {
    "hideCode": false,
    "hidePrompt": false,
    "slideshow": {
     "slide_type": "notes"
    }
   },
   "source": [
    "The results match our intuition. 100% conversion is impossible, given a value of zero, 1% is highly unlikely, and comparing 80% and 95%, 80% is more likely\n",
    "\n",
    "This is great, now we have a way of quantifying the plausibility of the observed data given a parameter.\n",
    "\n",
    "Let's use a handy trick from SciPY where we can plug in all four parameter values and calculate the likelihood in one go."
   ]
  },
  {
   "cell_type": "markdown",
   "id": "0c22cf7a",
   "metadata": {
    "hideCode": false,
    "hidePrompt": false,
    "slideshow": {
     "slide_type": "slide"
    }
   },
   "source": [
    "## What is the most plausible line?\n"
   ]
  },
  {
   "cell_type": "code",
   "execution_count": 16,
   "id": "76755743",
   "metadata": {
    "hideCode": true,
    "hidePrompt": false
   },
   "outputs": [
    {
     "data": {
      "image/png": "[encoded data removed]",
      "text/plain": [
       "<Figure size 1152x432 with 1 Axes>"
      ]
     },
     "metadata": {
      "needs_background": "light"
     },
     "output_type": "display_data"
    }
   ],
   "source": [
    "RANDOM_SEED = 8265\n",
    "np.random.seed(RANDOM_SEED)\n",
    "x = np.linspace(-0, 20, 100)\n",
    "slope_true = 2.5\n",
    "\n",
    "y_obs = x*slope_true + stats.norm(0,4).rvs(100)\n",
    "\n",
    "fig, ax = plt.subplots(figsize=(16,6))\n",
    "ax.scatter(x, y_obs, alpha=.5, label=\"Observed\")\n",
    "\n",
    "lw=4\n",
    "ax.plot(x, slope_true*x, c=\"g\", lw=lw, ls=\"--\", label=\"Estimated Line 1\" )\n",
    "ax.plot(x, 4*x, c=\"r\", lw=lw, ls=\"--\", label=\"Estimated Line 2\")\n",
    "ax.plot(x, (slope_true*x) -10, c=\"orange\", lw=lw, ls=\"--\", label=\"Estimated Line 3\")\n",
    "\n",
    "plt.legend();"
   ]
  },
  {
   "cell_type": "markdown",
   "id": "e22da8e5",
   "metadata": {
    "slideshow": {
     "slide_type": "notes"
    }
   },
   "source": [
    "Plausibility can exist in more than two dimensions\n",
    "Linear regressions have at least two parameters, but all the same concepts apply\n",
    "\n",
    "Which line seems the most plausible to you? The red one seems to have the right intercept, but the wrong slope.\n",
    "The yellow one has the right slope by wrong intercept\n",
    "The green one seems to get both right and fits the data well.\n",
    "\n",
    "When we revisit linear regression later in the course, remember this inuition"
   ]
  },
  {
   "cell_type": "markdown",
   "id": "a7d06911",
   "metadata": {},
   "source": [
    "## PyMC will automatically calculate likelihood\n"
   ]
  },
  {
   "cell_type": "code",
   "execution_count": 17,
   "id": "0212037c",
   "metadata": {},
   "outputs": [],
   "source": [
    "with pm.Model():\n",
    "    \n",
    "    # Parameter we want to infer with prior\n",
    "    conversion_rate = pm.Beta(\"conversion_rate\", 2, 10)\n",
    "    \n",
    "    # Connection between parameter and observations\n",
    "    likelihood = pm.Binomial(\"likelihood\", \n",
    "                                p=conversion_rate, \n",
    "                                n=n_visitors,\n",
    "                                observed=observed_conversions)"
   ]
  },
  {
   "cell_type": "markdown",
   "id": "c37e6654",
   "metadata": {
    "slideshow": {
     "slide_type": "notes"
    }
   },
   "source": [
    "Now that you know the fundamental math and have an intuition behind likelihood I'm happy to tell you, PyMC will do all the work for you.\n",
    "\n",
    "All you need to do is specify the likelihood distribution is add `observed` as an argument. Remember likelihood is the link between parameter space and observed space.\n",
    "\n",
    "With all that you're prepped for the next, and most important topic, getting the posterior"
   ]
  },
  {
   "cell_type": "markdown",
   "id": "0235e448",
   "metadata": {
    "hideCode": false,
    "hidePrompt": false,
    "slideshow": {
     "slide_type": "slide"
    }
   },
   "source": [
    "## Section Recap\n",
    "* Likelihood measures the plausibility of parameters given data\n",
    "    * It answers the question \"Given this observed data what parameters are the most likely to have produced it?\"\n",
    "* Likelihood is measured by the PDF or PMF the data given a fully specified distribution"
   ]
  },
  {
   "cell_type": "markdown",
   "id": "df1e245d",
   "metadata": {
    "hideCode": false,
    "hidePrompt": false,
    "slideshow": {
     "slide_type": "slide"
    }
   },
   "source": [
    "# Posterior\n",
    "The coveted distribution that enables *inference*\n",
    "\n",
    "$$ \n",
    "\\overbrace{p(\\boldsymbol{\\theta} \\mid \\boldsymbol{Y})}^{\\text{Posterior}} = \\frac{p(\\boldsymbol{Y} \\mid \\boldsymbol{\\theta})\\; p(\\boldsymbol{\\theta})}{{p(\\boldsymbol{Y})}}\n",
    "$$"
   ]
  },
  {
   "cell_type": "markdown",
   "id": "71965b25",
   "metadata": {
    "hideCode": false,
    "hidePrompt": false,
    "slideshow": {
     "slide_type": "slide"
    }
   },
   "source": [
    "## The fundamental question\n",
    "If we observe something, what can we infer?"
   ]
  },
  {
   "cell_type": "markdown",
   "id": "b64bc1e7",
   "metadata": {
    "slideshow": {
     "slide_type": "notes"
    }
   },
   "source": [
    "Or as statistician would say \n",
    "\n",
    "If we have \n",
    "1. *observed samples* from the world\n",
    "2. a *model* of how the world works\n",
    "3. a *prior* belief\n",
    "\n",
    "What is our updated belief after seeing our observations? \n",
    "\n",
    "It's the posterior distribution"
   ]
  },
  {
   "cell_type": "markdown",
   "id": "4110143d",
   "metadata": {},
   "source": [
    "<img src=\"img/PosteriorSlide.png\" width=\"1200\">"
   ]
  },
  {
   "cell_type": "markdown",
   "id": "c5ba9231",
   "metadata": {
    "hideCode": false,
    "hidePrompt": false
   },
   "source": [
    "## The magic inference button"
   ]
  },
  {
   "cell_type": "code",
   "execution_count": 18,
   "id": "c1d72807",
   "metadata": {},
   "outputs": [
    {
     "name": "stderr",
     "output_type": "stream",
     "text": [
      "Auto-assigning NUTS sampler...\n",
      "Initializing NUTS using jitter+adapt_diag...\n",
      "Multiprocess sampling (4 chains in 4 jobs)\n",
      "NUTS: [conversion_rate]\n"
     ]
    },
    {
     "data": {
      "text/html": [
       "\n",
       "    <div>\n",
       "        <style>\n",
       "            /* Turns off some styling */\n",
       "            progress {\n",
       "                /* gets rid of default border in Firefox and Opera. */\n",
       "                border: none;\n",
       "                /* Needs to be in here for Safari polyfill so background images work as expected. */\n",
       "                background-size: auto;\n",
       "            }\n",
       "            .progress-bar-interrupted, .progress-bar-interrupted::-webkit-progress-bar {\n",
       "                background: #F44336;\n",
       "            }\n",
       "        </style>\n",
       "      <progress value='8000' class='' max='8000' style='width:300px; height:20px; vertical-align: middle;'></progress>\n",
       "      100.00% [8000/8000 00:01<00:00 Sampling 4 chains, 0 divergences]\n",
       "    </div>\n",
       "    "
      ],
      "text/plain": [
       "<IPython.core.display.HTML object>"
      ]
     },
     "metadata": {},
     "output_type": "display_data"
    },
    {
     "name": "stderr",
     "output_type": "stream",
     "text": [
      "Sampling 4 chains for 1_000 tune and 1_000 draw iterations (4_000 + 4_000 draws total) took 1 seconds.\n"
     ]
    }
   ],
   "source": [
    "with pm.Model() as ab_test_model:\n",
    "    \n",
    "    # parameter we want to infer with prior\n",
    "    conversion_rate = pm.Beta(\"conversion_rate\", 2, 10)\n",
    "\n",
    "    \n",
    "    # Connection between parameter and observations\n",
    "    likelihood = pm.Binomial(\"likelihood\", \n",
    "                                p=conversion_rate, \n",
    "                                n=n_visitors,\n",
    "                                observed=observed_conversions)\n",
    "    \n",
    "    # The magic inference Button\n",
    "    idata = pm.sample()"
   ]
  },
  {
   "cell_type": "markdown",
   "id": "98093f31",
   "metadata": {
    "hideCode": false,
    "hidePrompt": false,
    "slideshow": {
     "slide_type": "notes"
    }
   },
   "source": [
    "Remember, to get a posterior we need\n",
    "* Prior(s)\n",
    "* Data\n",
    "* Likelihood\n",
    "\n",
    "Once we express these in PyMC all we need to do is hit the magic inference button"
   ]
  },
  {
   "cell_type": "markdown",
   "id": "eb367635",
   "metadata": {},
   "source": [
    "## Our posterior samples"
   ]
  },
  {
   "cell_type": "code",
   "execution_count": 19,
   "id": "18a40278",
   "metadata": {},
   "outputs": [
    {
     "data": {
      "text/html": [
       "<div><svg style=\"position: absolute; width: 0; height: 0; overflow: hidden\">\n",
       "<defs>\n",
       "<symbol id=\"icon-database\" viewBox=\"0 0 32 32\">\n",
       "<path d=\"M16 0c-8.837 0-16 2.239-16 5v4c0 2.761 7.163 5 16 5s16-2.239 16-5v-4c0-2.761-7.163-5-16-5z\"></path>\n",
       "<path d=\"M16 17c-8.837 0-16-2.239-16-5v6c0 2.761 7.163 5 16 5s16-2.239 16-5v-6c0 2.761-7.163 5-16 5z\"></path>\n",
       "<path d=\"M16 26c-8.837 0-16-2.239-16-5v6c0 2.761 7.163 5 16 5s16-2.239 16-5v-6c0 2.761-7.163 5-16 5z\"></path>\n",
       "</symbol>\n",
       "<symbol id=\"icon-file-text2\" viewBox=\"0 0 32 32\">\n",
       "<path d=\"M28.681 7.159c-0.694-0.947-1.662-2.053-2.724-3.116s-2.169-2.030-3.116-2.724c-1.612-1.182-2.393-1.319-2.841-1.319h-15.5c-1.378 0-2.5 1.121-2.5 2.5v27c0 1.378 1.122 2.5 2.5 2.5h23c1.378 0 2.5-1.122 2.5-2.5v-19.5c0-0.448-0.137-1.23-1.319-2.841zM24.543 5.457c0.959 0.959 1.712 1.825 2.268 2.543h-4.811v-4.811c0.718 0.556 1.584 1.309 2.543 2.268zM28 29.5c0 0.271-0.229 0.5-0.5 0.5h-23c-0.271 0-0.5-0.229-0.5-0.5v-27c0-0.271 0.229-0.5 0.5-0.5 0 0 15.499-0 15.5 0v7c0 0.552 0.448 1 1 1h7v19.5z\"></path>\n",
       "<path d=\"M23 26h-14c-0.552 0-1-0.448-1-1s0.448-1 1-1h14c0.552 0 1 0.448 1 1s-0.448 1-1 1z\"></path>\n",
       "<path d=\"M23 22h-14c-0.552 0-1-0.448-1-1s0.448-1 1-1h14c0.552 0 1 0.448 1 1s-0.448 1-1 1z\"></path>\n",
       "<path d=\"M23 18h-14c-0.552 0-1-0.448-1-1s0.448-1 1-1h14c0.552 0 1 0.448 1 1s-0.448 1-1 1z\"></path>\n",
       "</symbol>\n",
       "</defs>\n",
       "</svg>\n",
       "<style>/* CSS stylesheet for displaying xarray objects in jupyterlab.\n",
       " *\n",
       " */\n",
       "\n",
       ":root {\n",
       "  --xr-font-color0: var(--jp-content-font-color0, rgba(0, 0, 0, 1));\n",
       "  --xr-font-color2: var(--jp-content-font-color2, rgba(0, 0, 0, 0.54));\n",
       "  --xr-font-color3: var(--jp-content-font-color3, rgba(0, 0, 0, 0.38));\n",
       "  --xr-border-color: var(--jp-border-color2, #e0e0e0);\n",
       "  --xr-disabled-color: var(--jp-layout-color3, #bdbdbd);\n",
       "  --xr-background-color: var(--jp-layout-color0, white);\n",
       "  --xr-background-color-row-even: var(--jp-layout-color1, white);\n",
       "  --xr-background-color-row-odd: var(--jp-layout-color2, #eeeeee);\n",
       "}\n",
       "\n",
       "html[theme=dark],\n",
       "body.vscode-dark {\n",
       "  --xr-font-color0: rgba(255, 255, 255, 1);\n",
       "  --xr-font-color2: rgba(255, 255, 255, 0.54);\n",
       "  --xr-font-color3: rgba(255, 255, 255, 0.38);\n",
       "  --xr-border-color: #1F1F1F;\n",
       "  --xr-disabled-color: #515151;\n",
       "  --xr-background-color: #111111;\n",
       "  --xr-background-color-row-even: #111111;\n",
       "  --xr-background-color-row-odd: #313131;\n",
       "}\n",
       "\n",
       ".xr-wrap {\n",
       "  display: block;\n",
       "  min-width: 300px;\n",
       "  max-width: 700px;\n",
       "}\n",
       "\n",
       ".xr-text-repr-fallback {\n",
       "  /* fallback to plain text repr when CSS is not injected (untrusted notebook) */\n",
       "  display: none;\n",
       "}\n",
       "\n",
       ".xr-header {\n",
       "  padding-top: 6px;\n",
       "  padding-bottom: 6px;\n",
       "  margin-bottom: 4px;\n",
       "  border-bottom: solid 1px var(--xr-border-color);\n",
       "}\n",
       "\n",
       ".xr-header > div,\n",
       ".xr-header > ul {\n",
       "  display: inline;\n",
       "  margin-top: 0;\n",
       "  margin-bottom: 0;\n",
       "}\n",
       "\n",
       ".xr-obj-type,\n",
       ".xr-array-name {\n",
       "  margin-left: 2px;\n",
       "  margin-right: 10px;\n",
       "}\n",
       "\n",
       ".xr-obj-type {\n",
       "  color: var(--xr-font-color2);\n",
       "}\n",
       "\n",
       ".xr-sections {\n",
       "  padding-left: 0 !important;\n",
       "  display: grid;\n",
       "  grid-template-columns: 150px auto auto 1fr 20px 20px;\n",
       "}\n",
       "\n",
       ".xr-section-item {\n",
       "  display: contents;\n",
       "}\n",
       "\n",
       ".xr-section-item input {\n",
       "  display: none;\n",
       "}\n",
       "\n",
       ".xr-section-item input + label {\n",
       "  color: var(--xr-disabled-color);\n",
       "}\n",
       "\n",
       ".xr-section-item input:enabled + label {\n",
       "  cursor: pointer;\n",
       "  color: var(--xr-font-color2);\n",
       "}\n",
       "\n",
       ".xr-section-item input:enabled + label:hover {\n",
       "  color: var(--xr-font-color0);\n",
       "}\n",
       "\n",
       ".xr-section-summary {\n",
       "  grid-column: 1;\n",
       "  color: var(--xr-font-color2);\n",
       "  font-weight: 500;\n",
       "}\n",
       "\n",
       ".xr-section-summary > span {\n",
       "  display: inline-block;\n",
       "  padding-left: 0.5em;\n",
       "}\n",
       "\n",
       ".xr-section-summary-in:disabled + label {\n",
       "  color: var(--xr-font-color2);\n",
       "}\n",
       "\n",
       ".xr-section-summary-in + label:before {\n",
       "  display: inline-block;\n",
       "  content: '►';\n",
       "  font-size: 11px;\n",
       "  width: 15px;\n",
       "  text-align: center;\n",
       "}\n",
       "\n",
       ".xr-section-summary-in:disabled + label:before {\n",
       "  color: var(--xr-disabled-color);\n",
       "}\n",
       "\n",
       ".xr-section-summary-in:checked + label:before {\n",
       "  content: '▼';\n",
       "}\n",
       "\n",
       ".xr-section-summary-in:checked + label > span {\n",
       "  display: none;\n",
       "}\n",
       "\n",
       ".xr-section-summary,\n",
       ".xr-section-inline-details {\n",
       "  padding-top: 4px;\n",
       "  padding-bottom: 4px;\n",
       "}\n",
       "\n",
       ".xr-section-inline-details {\n",
       "  grid-column: 2 / -1;\n",
       "}\n",
       "\n",
       ".xr-section-details {\n",
       "  display: none;\n",
       "  grid-column: 1 / -1;\n",
       "  margin-bottom: 5px;\n",
       "}\n",
       "\n",
       ".xr-section-summary-in:checked ~ .xr-section-details {\n",
       "  display: contents;\n",
       "}\n",
       "\n",
       ".xr-array-wrap {\n",
       "  grid-column: 1 / -1;\n",
       "  display: grid;\n",
       "  grid-template-columns: 20px auto;\n",
       "}\n",
       "\n",
       ".xr-array-wrap > label {\n",
       "  grid-column: 1;\n",
       "  vertical-align: top;\n",
       "}\n",
       "\n",
       ".xr-preview {\n",
       "  color: var(--xr-font-color3);\n",
       "}\n",
       "\n",
       ".xr-array-preview,\n",
       ".xr-array-data {\n",
       "  padding: 0 5px !important;\n",
       "  grid-column: 2;\n",
       "}\n",
       "\n",
       ".xr-array-data,\n",
       ".xr-array-in:checked ~ .xr-array-preview {\n",
       "  display: none;\n",
       "}\n",
       "\n",
       ".xr-array-in:checked ~ .xr-array-data,\n",
       ".xr-array-preview {\n",
       "  display: inline-block;\n",
       "}\n",
       "\n",
       ".xr-dim-list {\n",
       "  display: inline-block !important;\n",
       "  list-style: none;\n",
       "  padding: 0 !important;\n",
       "  margin: 0;\n",
       "}\n",
       "\n",
       ".xr-dim-list li {\n",
       "  display: inline-block;\n",
       "  padding: 0;\n",
       "  margin: 0;\n",
       "}\n",
       "\n",
       ".xr-dim-list:before {\n",
       "  content: '(';\n",
       "}\n",
       "\n",
       ".xr-dim-list:after {\n",
       "  content: ')';\n",
       "}\n",
       "\n",
       ".xr-dim-list li:not(:last-child):after {\n",
       "  content: ',';\n",
       "  padding-right: 5px;\n",
       "}\n",
       "\n",
       ".xr-has-index {\n",
       "  font-weight: bold;\n",
       "}\n",
       "\n",
       ".xr-var-list,\n",
       ".xr-var-item {\n",
       "  display: contents;\n",
       "}\n",
       "\n",
       ".xr-var-item > div,\n",
       ".xr-var-item label,\n",
       ".xr-var-item > .xr-var-name span {\n",
       "  background-color: var(--xr-background-color-row-even);\n",
       "  margin-bottom: 0;\n",
       "}\n",
       "\n",
       ".xr-var-item > .xr-var-name:hover span {\n",
       "  padding-right: 5px;\n",
       "}\n",
       "\n",
       ".xr-var-list > li:nth-child(odd) > div,\n",
       ".xr-var-list > li:nth-child(odd) > label,\n",
       ".xr-var-list > li:nth-child(odd) > .xr-var-name span {\n",
       "  background-color: var(--xr-background-color-row-odd);\n",
       "}\n",
       "\n",
       ".xr-var-name {\n",
       "  grid-column: 1;\n",
       "}\n",
       "\n",
       ".xr-var-dims {\n",
       "  grid-column: 2;\n",
       "}\n",
       "\n",
       ".xr-var-dtype {\n",
       "  grid-column: 3;\n",
       "  text-align: right;\n",
       "  color: var(--xr-font-color2);\n",
       "}\n",
       "\n",
       ".xr-var-preview {\n",
       "  grid-column: 4;\n",
       "}\n",
       "\n",
       ".xr-var-name,\n",
       ".xr-var-dims,\n",
       ".xr-var-dtype,\n",
       ".xr-preview,\n",
       ".xr-attrs dt {\n",
       "  white-space: nowrap;\n",
       "  overflow: hidden;\n",
       "  text-overflow: ellipsis;\n",
       "  padding-right: 10px;\n",
       "}\n",
       "\n",
       ".xr-var-name:hover,\n",
       ".xr-var-dims:hover,\n",
       ".xr-var-dtype:hover,\n",
       ".xr-attrs dt:hover {\n",
       "  overflow: visible;\n",
       "  width: auto;\n",
       "  z-index: 1;\n",
       "}\n",
       "\n",
       ".xr-var-attrs,\n",
       ".xr-var-data {\n",
       "  display: none;\n",
       "  background-color: var(--xr-background-color) !important;\n",
       "  padding-bottom: 5px !important;\n",
       "}\n",
       "\n",
       ".xr-var-attrs-in:checked ~ .xr-var-attrs,\n",
       ".xr-var-data-in:checked ~ .xr-var-data {\n",
       "  display: block;\n",
       "}\n",
       "\n",
       ".xr-var-data > table {\n",
       "  float: right;\n",
       "}\n",
       "\n",
       ".xr-var-name span,\n",
       ".xr-var-data,\n",
       ".xr-attrs {\n",
       "  padding-left: 25px !important;\n",
       "}\n",
       "\n",
       ".xr-attrs,\n",
       ".xr-var-attrs,\n",
       ".xr-var-data {\n",
       "  grid-column: 1 / -1;\n",
       "}\n",
       "\n",
       "dl.xr-attrs {\n",
       "  padding: 0;\n",
       "  margin: 0;\n",
       "  display: grid;\n",
       "  grid-template-columns: 125px auto;\n",
       "}\n",
       "\n",
       ".xr-attrs dt,\n",
       ".xr-attrs dd {\n",
       "  padding: 0;\n",
       "  margin: 0;\n",
       "  float: left;\n",
       "  padding-right: 10px;\n",
       "  width: auto;\n",
       "}\n",
       "\n",
       ".xr-attrs dt {\n",
       "  font-weight: normal;\n",
       "  grid-column: 1;\n",
       "}\n",
       "\n",
       ".xr-attrs dt:hover span {\n",
       "  display: inline-block;\n",
       "  background: var(--xr-background-color);\n",
       "  padding-right: 10px;\n",
       "}\n",
       "\n",
       ".xr-attrs dd {\n",
       "  grid-column: 2;\n",
       "  white-space: pre-wrap;\n",
       "  word-break: break-all;\n",
       "}\n",
       "\n",
       ".xr-icon-database,\n",
       ".xr-icon-file-text2 {\n",
       "  display: inline-block;\n",
       "  vertical-align: middle;\n",
       "  width: 1em;\n",
       "  height: 1.5em !important;\n",
       "  stroke-width: 0;\n",
       "  stroke: currentColor;\n",
       "  fill: currentColor;\n",
       "}\n",
       "</style><pre class='xr-text-repr-fallback'>&lt;xarray.Dataset&gt;\n",
       "Dimensions:          (chain: 4, draw: 1000)\n",
       "Coordinates:\n",
       "  * chain            (chain) int64 0 1 2 3\n",
       "  * draw             (draw) int64 0 1 2 3 4 5 6 ... 993 994 995 996 997 998 999\n",
       "Data variables:\n",
       "    conversion_rate  (chain, draw) float64 0.2927 0.2933 ... 0.3202 0.3163\n",
       "Attributes:\n",
       "    created_at:                 2022-05-01T00:34:03.933754\n",
       "    arviz_version:              0.12.0\n",
       "    inference_library:          pymc\n",
       "    inference_library_version:  4.0.0b5\n",
       "    sampling_time:              1.3009212017059326\n",
       "    tuning_steps:               1000</pre><div class='xr-wrap' hidden><div class='xr-header'><div class='xr-obj-type'>xarray.Dataset</div></div><ul class='xr-sections'><li class='xr-section-item'><input id='section-37416fe1-b7d3-4b93-be65-53c0f402662d' class='xr-section-summary-in' type='checkbox' disabled ><label for='section-37416fe1-b7d3-4b93-be65-53c0f402662d' class='xr-section-summary'  title='Expand/collapse section'>Dimensions:</label><div class='xr-section-inline-details'><ul class='xr-dim-list'><li><span class='xr-has-index'>chain</span>: 4</li><li><span class='xr-has-index'>draw</span>: 1000</li></ul></div><div class='xr-section-details'></div></li><li class='xr-section-item'><input id='section-0b897a76-f730-45ec-8c33-8fc8aeb41708' class='xr-section-summary-in' type='checkbox'  checked><label for='section-0b897a76-f730-45ec-8c33-8fc8aeb41708' class='xr-section-summary' >Coordinates: <span>(2)</span></label><div class='xr-section-inline-details'></div><div class='xr-section-details'><ul class='xr-var-list'><li class='xr-var-item'><div class='xr-var-name'><span class='xr-has-index'>chain</span></div><div class='xr-var-dims'>(chain)</div><div class='xr-var-dtype'>int64</div><div class='xr-var-preview xr-preview'>0 1 2 3</div><input id='attrs-830cb36a-50dd-4f29-9714-37947ecdc323' class='xr-var-attrs-in' type='checkbox' disabled><label for='attrs-830cb36a-50dd-4f29-9714-37947ecdc323' title='Show/Hide attributes'><svg class='icon xr-icon-file-text2'><use xlink:href='#icon-file-text2'></use></svg></label><input id='data-c243bb3e-0d5d-4e86-b487-c8142f38444e' class='xr-var-data-in' type='checkbox'><label for='data-c243bb3e-0d5d-4e86-b487-c8142f38444e' title='Show/Hide data repr'><svg class='icon xr-icon-database'><use xlink:href='#icon-database'></use></svg></label><div class='xr-var-attrs'><dl class='xr-attrs'></dl></div><div class='xr-var-data'><pre>array([0, 1, 2, 3])</pre></div></li><li class='xr-var-item'><div class='xr-var-name'><span class='xr-has-index'>draw</span></div><div class='xr-var-dims'>(draw)</div><div class='xr-var-dtype'>int64</div><div class='xr-var-preview xr-preview'>0 1 2 3 4 5 ... 995 996 997 998 999</div><input id='attrs-7f72d80a-dc10-48c2-a931-d39e674c22b4' class='xr-var-attrs-in' type='checkbox' disabled><label for='attrs-7f72d80a-dc10-48c2-a931-d39e674c22b4' title='Show/Hide attributes'><svg class='icon xr-icon-file-text2'><use xlink:href='#icon-file-text2'></use></svg></label><input id='data-3df79e24-43b4-4a71-97c5-145d73f2d140' class='xr-var-data-in' type='checkbox'><label for='data-3df79e24-43b4-4a71-97c5-145d73f2d140' title='Show/Hide data repr'><svg class='icon xr-icon-database'><use xlink:href='#icon-database'></use></svg></label><div class='xr-var-attrs'><dl class='xr-attrs'></dl></div><div class='xr-var-data'><pre>array([  0,   1,   2, ..., 997, 998, 999])</pre></div></li></ul></div></li><li class='xr-section-item'><input id='section-02e7599a-d783-4b6e-8582-db1fa18f606e' class='xr-section-summary-in' type='checkbox'  checked><label for='section-02e7599a-d783-4b6e-8582-db1fa18f606e' class='xr-section-summary' >Data variables: <span>(1)</span></label><div class='xr-section-inline-details'></div><div class='xr-section-details'><ul class='xr-var-list'><li class='xr-var-item'><div class='xr-var-name'><span>conversion_rate</span></div><div class='xr-var-dims'>(chain, draw)</div><div class='xr-var-dtype'>float64</div><div class='xr-var-preview xr-preview'>0.2927 0.2933 ... 0.3202 0.3163</div><input id='attrs-b37fbd21-7ac3-451b-b148-ce4cca57c34a' class='xr-var-attrs-in' type='checkbox' disabled><label for='attrs-b37fbd21-7ac3-451b-b148-ce4cca57c34a' title='Show/Hide attributes'><svg class='icon xr-icon-file-text2'><use xlink:href='#icon-file-text2'></use></svg></label><input id='data-965532a6-b2a1-43f2-a6fa-8e22695098ba' class='xr-var-data-in' type='checkbox'><label for='data-965532a6-b2a1-43f2-a6fa-8e22695098ba' title='Show/Hide data repr'><svg class='icon xr-icon-database'><use xlink:href='#icon-database'></use></svg></label><div class='xr-var-attrs'><dl class='xr-attrs'></dl></div><div class='xr-var-data'><pre>array([[0.29274874, 0.29326045, 0.30317207, ..., 0.2695652 , 0.28774118,\n",
       "        0.28774118],\n",
       "       [0.306287  , 0.30004705, 0.29386377, ..., 0.27838101, 0.27838101,\n",
       "        0.27336298],\n",
       "       [0.28706319, 0.27084794, 0.31517597, ..., 0.29985618, 0.29985618,\n",
       "        0.30567606],\n",
       "       [0.29613077, 0.29613077, 0.29613077, ..., 0.32597195, 0.32016096,\n",
       "        0.3162862 ]])</pre></div></li></ul></div></li><li class='xr-section-item'><input id='section-5ff1b572-fefd-4a4c-985a-d09bd6f70795' class='xr-section-summary-in' type='checkbox'  checked><label for='section-5ff1b572-fefd-4a4c-985a-d09bd6f70795' class='xr-section-summary' >Attributes: <span>(6)</span></label><div class='xr-section-inline-details'></div><div class='xr-section-details'><dl class='xr-attrs'><dt><span>created_at :</span></dt><dd>2022-05-01T00:34:03.933754</dd><dt><span>arviz_version :</span></dt><dd>0.12.0</dd><dt><span>inference_library :</span></dt><dd>pymc</dd><dt><span>inference_library_version :</span></dt><dd>4.0.0b5</dd><dt><span>sampling_time :</span></dt><dd>1.3009212017059326</dd><dt><span>tuning_steps :</span></dt><dd>1000</dd></dl></div></li></ul></div></div>"
      ],
      "text/plain": [
       "<xarray.Dataset>\n",
       "Dimensions:          (chain: 4, draw: 1000)\n",
       "Coordinates:\n",
       "  * chain            (chain) int64 0 1 2 3\n",
       "  * draw             (draw) int64 0 1 2 3 4 5 6 ... 993 994 995 996 997 998 999\n",
       "Data variables:\n",
       "    conversion_rate  (chain, draw) float64 0.2927 0.2933 ... 0.3202 0.3163\n",
       "Attributes:\n",
       "    created_at:                 2022-05-01T00:34:03.933754\n",
       "    arviz_version:              0.12.0\n",
       "    inference_library:          pymc\n",
       "    inference_library_version:  4.0.0b5\n",
       "    sampling_time:              1.3009212017059326\n",
       "    tuning_steps:               1000"
      ]
     },
     "execution_count": 19,
     "metadata": {},
     "output_type": "execute_result"
    }
   ],
   "source": [
    "idata.posterior"
   ]
  },
  {
   "cell_type": "markdown",
   "id": "76df3240",
   "metadata": {},
   "source": [
    "## We get 30% (almost)"
   ]
  },
  {
   "cell_type": "code",
   "execution_count": 20,
   "id": "a7d5aa4b",
   "metadata": {},
   "outputs": [
    {
     "data": {
      "image/png": "[encoded data removed]",
      "text/plain": [
       "<Figure size 1152x432 with 1 Axes>"
      ]
     },
     "metadata": {
      "needs_background": "light"
     },
     "output_type": "display_data"
    }
   ],
   "source": [
    "fig, ax = plt.subplots(figsize=(16, 6))\n",
    "az.plot_posterior(idata.posterior, ax=ax);"
   ]
  },
  {
   "cell_type": "markdown",
   "id": "2b344c36",
   "metadata": {
    "slideshow": {
     "slide_type": "notes"
    }
   },
   "source": [
    "With that PyMC combines the prior distribution, likelihood distribution, and data together and is able to estimate our hidden conversion rate that we set at the start of the lesson!"
   ]
  },
  {
   "cell_type": "markdown",
   "id": "fb93711c",
   "metadata": {},
   "source": [
    "## Everything all together"
   ]
  },
  {
   "cell_type": "code",
   "execution_count": 62,
   "id": "4e4fbb1d",
   "metadata": {},
   "outputs": [
    {
     "name": "stderr",
     "output_type": "stream",
     "text": [
      "Auto-assigning NUTS sampler...\n",
      "Initializing NUTS using jitter+adapt_diag...\n",
      "Multiprocess sampling (4 chains in 4 jobs)\n",
      "NUTS: [conversion_rate]\n"
     ]
    },
    {
     "data": {
      "text/html": [
       "\n",
       "    <div>\n",
       "        <style>\n",
       "            /* Turns off some styling */\n",
       "            progress {\n",
       "                /* gets rid of default border in Firefox and Opera. */\n",
       "                border: none;\n",
       "                /* Needs to be in here for Safari polyfill so background images work as expected. */\n",
       "                background-size: auto;\n",
       "            }\n",
       "            .progress-bar-interrupted, .progress-bar-interrupted::-webkit-progress-bar {\n",
       "                background: #F44336;\n",
       "            }\n",
       "        </style>\n",
       "      <progress value='8000' class='' max='8000' style='width:300px; height:20px; vertical-align: middle;'></progress>\n",
       "      100.00% [8000/8000 00:01<00:00 Sampling 4 chains, 0 divergences]\n",
       "    </div>\n",
       "    "
      ],
      "text/plain": [
       "<IPython.core.display.HTML object>"
      ]
     },
     "metadata": {},
     "output_type": "display_data"
    },
    {
     "name": "stderr",
     "output_type": "stream",
     "text": [
      "Sampling 4 chains for 1_000 tune and 1_000 draw iterations (4_000 + 4_000 draws total) took 1 seconds.\n"
     ]
    }
   ],
   "source": [
    "# Generate random data to see if we can recover parameters in this lesson\n",
    "np.random.seed(3)\n",
    "n_visitors = 1000\n",
    "conversion_rate=.3\n",
    "\n",
    "# Simulate 1000 visits\n",
    "observed_visits = stats.bernoulli(p=conversion_rate).rvs(n_visitors)\n",
    "observed_conversions = observed_visits.sum()\n",
    "\n",
    "with pm.Model() as ab_test_model:\n",
    "    \n",
    "    # parameter we want to infer with prior\n",
    "    conversion_rate = pm.Beta(\"conversion_rate\", 2, 10)\n",
    "\n",
    "    \n",
    "    # Connection between parameter and observations\n",
    "    likelihood = pm.Binomial(\"likelihood\", \n",
    "                                p=conversion_rate, \n",
    "                                n=n_visitors,\n",
    "                                observed=observed_conversions)\n",
    "    \n",
    "    # The magic inference Button\n",
    "    idata = pm.sample()\n",
    "    \n",
    "    "
   ]
  },
  {
   "cell_type": "code",
   "execution_count": 63,
   "id": "7867904e",
   "metadata": {},
   "outputs": [
    {
     "data": {
      "image/png": "[encoded data removed]",
      "text/plain": [
       "<Figure size 1152x432 with 1 Axes>"
      ]
     },
     "metadata": {
      "needs_background": "light"
     },
     "output_type": "display_data"
    }
   ],
   "source": [
    "fig, ax = plt.subplots(figsize=(16, 6))\n",
    "az.plot_posterior(idata.posterior, ax=ax);"
   ]
  },
  {
   "cell_type": "markdown",
   "id": "cdbeeb02",
   "metadata": {},
   "source": [
    "To show you that I don't have any tricks up my sleeve let's do this together. In the first step we'll set some parameters and simulate some data. This way we know what the true conversion rate is, and we can see if we can recover it using our model.\n",
    "\n",
    "We then code our model, starting with the model context, then our prior, likelihood, and sampler. Now that we've fully built our magic machine lets hit the magic inference button. With our MCMC samples done lets plot our posterior and see what we get!\n",
    "\n",
    "Awesome, we're really close to the true conversion rate, definitely close enough for practical purposes. \n",
    "\n"
   ]
  },
  {
   "cell_type": "markdown",
   "id": "f0d56c39",
   "metadata": {
    "hideCode": false,
    "hidePrompt": false,
    "slideshow": {
     "slide_type": "slide"
    }
   },
   "source": [
    "# Change the prior and data and see the effects\n",
    "Download this notebook and change the prior and data and see what happens. Try using\n",
    "* A wide prior\n",
    "* More observations\n",
    "* Less observations\n",
    "* Different level of conversions"
   ]
  },
  {
   "cell_type": "markdown",
   "id": "64232b39",
   "metadata": {},
   "source": [
    "One of your exercises will be to simulate data, share that data is a discourse post, and see if someone else can recover the true p value, so hope you were paying attention!\n",
    "\n"
   ]
  },
  {
   "cell_type": "markdown",
   "id": "f9976019",
   "metadata": {
    "slideshow": {
     "slide_type": "slide"
    }
   },
   "source": [
    "<img src=\"img/Congrats.gif\" width=\"1200\">"
   ]
  },
  {
   "cell_type": "markdown",
   "id": "4af520c5",
   "metadata": {
    "slideshow": {
     "slide_type": "notes"
    }
   },
   "source": [
    "At this point you know now how to put together the magic machine and all the pieces of it! This honestly is a huge accomplishment, most people don't get to this depth of understanding but you have.\n",
    "\n",
    "With this deep knowledge you'll be incredibly adept at specifying, understanding, and working with bayesian models, making you that Bayesian ninja."
   ]
  },
  {
   "cell_type": "markdown",
   "id": "630aa95c",
   "metadata": {
    "hideCode": false,
    "hidePrompt": false,
    "slideshow": {
     "slide_type": "slide"
    }
   },
   "source": [
    "# Section Recap\n",
    "* Posterior distributions \n",
    "    * allow us to perform *inference* the goal of statistics\n",
    "    * incorporate the data, the model, and our priors\n",
    "* Bayesian updating is the process of combining prior, likelihood, data\n",
    "* Posterior estimation is not always \"easy or straightforward\"\n",
    "    * PPLs typically estimate the posterior with a sampling technique called MCMC "
   ]
  },
  {
   "cell_type": "markdown",
   "id": "b5129f0f",
   "metadata": {
    "slideshow": {
     "slide_type": "slide"
    }
   },
   "source": [
    "# Prior and Posterior distributions\n",
    "From parameter space to observed data space\n"
   ]
  },
  {
   "cell_type": "markdown",
   "id": "79539ade",
   "metadata": {},
   "source": [
    "<img src=\"img/PredictiveDistributions.png\" width=\"1200\">"
   ]
  },
  {
   "cell_type": "markdown",
   "id": "c6f6e4b0",
   "metadata": {
    "slideshow": {
     "slide_type": "notes"
    }
   },
   "source": [
    "So far with prior, and posterior we've been in parameter space, estimating conversion rate, but if we want to know how many people we believe will convert, that is what we will observe, we'll need to flip from parameter space to observed, or data, space"
   ]
  },
  {
   "cell_type": "markdown",
   "id": "a475c360",
   "metadata": {},
   "source": []
  },
  {
   "cell_type": "markdown",
   "id": "fcc2541d",
   "metadata": {
    "slideshow": {
     "slide_type": "slide"
    }
   },
   "source": [
    "## Prior Predictive Distribution"
   ]
  },
  {
   "cell_type": "code",
   "execution_count": 70,
   "id": "5d299df2",
   "metadata": {},
   "outputs": [],
   "source": [
    "with pm.Model() as ab_test_model:\n",
    "    \n",
    "    # parameter we want to infer with prior\n",
    "    conversion_rate = pm.Beta(\"conversion_rate\", 2, 10)\n",
    "\n",
    "    \n",
    "    # Connection between parameter and observations\n",
    "    likelihood = pm.Binomial(\"num_conversions\", \n",
    "                                p=conversion_rate, \n",
    "                                n=n_visitors,\n",
    "                                observed=observed_conversions)\n",
    "    \n",
    "    prior_a = pm.sample_prior_predictive()\n",
    "   "
   ]
  },
  {
   "cell_type": "code",
   "execution_count": 23,
   "id": "4c8c6086",
   "metadata": {
    "slideshow": {
     "slide_type": "skip"
    }
   },
   "outputs": [
    {
     "data": {
      "text/html": [
       "\n",
       "            <div>\n",
       "              <div class='xr-header'>\n",
       "                <div class=\"xr-obj-type\">arviz.InferenceData</div>\n",
       "              </div>\n",
       "              <ul class=\"xr-sections group-sections\">\n",
       "              \n",
       "            <li class = \"xr-section-item\">\n",
       "                  <input id=\"idata_prior6669219e-52c0-43ff-96c6-9768c117e112\" class=\"xr-section-summary-in\" type=\"checkbox\">\n",
       "                  <label for=\"idata_prior6669219e-52c0-43ff-96c6-9768c117e112\" class = \"xr-section-summary\">prior</label>\n",
       "                  <div class=\"xr-section-inline-details\"></div>\n",
       "                  <div class=\"xr-section-details\">\n",
       "                      <ul id=\"xr-dataset-coord-list\" class=\"xr-var-list\">\n",
       "                          <div style=\"padding-left:2rem;\"><div><svg style=\"position: absolute; width: 0; height: 0; overflow: hidden\">\n",
       "<defs>\n",
       "<symbol id=\"icon-database\" viewBox=\"0 0 32 32\">\n",
       "<path d=\"M16 0c-8.837 0-16 2.239-16 5v4c0 2.761 7.163 5 16 5s16-2.239 16-5v-4c0-2.761-7.163-5-16-5z\"></path>\n",
       "<path d=\"M16 17c-8.837 0-16-2.239-16-5v6c0 2.761 7.163 5 16 5s16-2.239 16-5v-6c0 2.761-7.163 5-16 5z\"></path>\n",
       "<path d=\"M16 26c-8.837 0-16-2.239-16-5v6c0 2.761 7.163 5 16 5s16-2.239 16-5v-6c0 2.761-7.163 5-16 5z\"></path>\n",
       "</symbol>\n",
       "<symbol id=\"icon-file-text2\" viewBox=\"0 0 32 32\">\n",
       "<path d=\"M28.681 7.159c-0.694-0.947-1.662-2.053-2.724-3.116s-2.169-2.030-3.116-2.724c-1.612-1.182-2.393-1.319-2.841-1.319h-15.5c-1.378 0-2.5 1.121-2.5 2.5v27c0 1.378 1.122 2.5 2.5 2.5h23c1.378 0 2.5-1.122 2.5-2.5v-19.5c0-0.448-0.137-1.23-1.319-2.841zM24.543 5.457c0.959 0.959 1.712 1.825 2.268 2.543h-4.811v-4.811c0.718 0.556 1.584 1.309 2.543 2.268zM28 29.5c0 0.271-0.229 0.5-0.5 0.5h-23c-0.271 0-0.5-0.229-0.5-0.5v-27c0-0.271 0.229-0.5 0.5-0.5 0 0 15.499-0 15.5 0v7c0 0.552 0.448 1 1 1h7v19.5z\"></path>\n",
       "<path d=\"M23 26h-14c-0.552 0-1-0.448-1-1s0.448-1 1-1h14c0.552 0 1 0.448 1 1s-0.448 1-1 1z\"></path>\n",
       "<path d=\"M23 22h-14c-0.552 0-1-0.448-1-1s0.448-1 1-1h14c0.552 0 1 0.448 1 1s-0.448 1-1 1z\"></path>\n",
       "<path d=\"M23 18h-14c-0.552 0-1-0.448-1-1s0.448-1 1-1h14c0.552 0 1 0.448 1 1s-0.448 1-1 1z\"></path>\n",
       "</symbol>\n",
       "</defs>\n",
       "</svg>\n",
       "<style>/* CSS stylesheet for displaying xarray objects in jupyterlab.\n",
       " *\n",
       " */\n",
       "\n",
       ":root {\n",
       "  --xr-font-color0: var(--jp-content-font-color0, rgba(0, 0, 0, 1));\n",
       "  --xr-font-color2: var(--jp-content-font-color2, rgba(0, 0, 0, 0.54));\n",
       "  --xr-font-color3: var(--jp-content-font-color3, rgba(0, 0, 0, 0.38));\n",
       "  --xr-border-color: var(--jp-border-color2, #e0e0e0);\n",
       "  --xr-disabled-color: var(--jp-layout-color3, #bdbdbd);\n",
       "  --xr-background-color: var(--jp-layout-color0, white);\n",
       "  --xr-background-color-row-even: var(--jp-layout-color1, white);\n",
       "  --xr-background-color-row-odd: var(--jp-layout-color2, #eeeeee);\n",
       "}\n",
       "\n",
       "html[theme=dark],\n",
       "body.vscode-dark {\n",
       "  --xr-font-color0: rgba(255, 255, 255, 1);\n",
       "  --xr-font-color2: rgba(255, 255, 255, 0.54);\n",
       "  --xr-font-color3: rgba(255, 255, 255, 0.38);\n",
       "  --xr-border-color: #1F1F1F;\n",
       "  --xr-disabled-color: #515151;\n",
       "  --xr-background-color: #111111;\n",
       "  --xr-background-color-row-even: #111111;\n",
       "  --xr-background-color-row-odd: #313131;\n",
       "}\n",
       "\n",
       ".xr-wrap {\n",
       "  display: block;\n",
       "  min-width: 300px;\n",
       "  max-width: 700px;\n",
       "}\n",
       "\n",
       ".xr-text-repr-fallback {\n",
       "  /* fallback to plain text repr when CSS is not injected (untrusted notebook) */\n",
       "  display: none;\n",
       "}\n",
       "\n",
       ".xr-header {\n",
       "  padding-top: 6px;\n",
       "  padding-bottom: 6px;\n",
       "  margin-bottom: 4px;\n",
       "  border-bottom: solid 1px var(--xr-border-color);\n",
       "}\n",
       "\n",
       ".xr-header > div,\n",
       ".xr-header > ul {\n",
       "  display: inline;\n",
       "  margin-top: 0;\n",
       "  margin-bottom: 0;\n",
       "}\n",
       "\n",
       ".xr-obj-type,\n",
       ".xr-array-name {\n",
       "  margin-left: 2px;\n",
       "  margin-right: 10px;\n",
       "}\n",
       "\n",
       ".xr-obj-type {\n",
       "  color: var(--xr-font-color2);\n",
       "}\n",
       "\n",
       ".xr-sections {\n",
       "  padding-left: 0 !important;\n",
       "  display: grid;\n",
       "  grid-template-columns: 150px auto auto 1fr 20px 20px;\n",
       "}\n",
       "\n",
       ".xr-section-item {\n",
       "  display: contents;\n",
       "}\n",
       "\n",
       ".xr-section-item input {\n",
       "  display: none;\n",
       "}\n",
       "\n",
       ".xr-section-item input + label {\n",
       "  color: var(--xr-disabled-color);\n",
       "}\n",
       "\n",
       ".xr-section-item input:enabled + label {\n",
       "  cursor: pointer;\n",
       "  color: var(--xr-font-color2);\n",
       "}\n",
       "\n",
       ".xr-section-item input:enabled + label:hover {\n",
       "  color: var(--xr-font-color0);\n",
       "}\n",
       "\n",
       ".xr-section-summary {\n",
       "  grid-column: 1;\n",
       "  color: var(--xr-font-color2);\n",
       "  font-weight: 500;\n",
       "}\n",
       "\n",
       ".xr-section-summary > span {\n",
       "  display: inline-block;\n",
       "  padding-left: 0.5em;\n",
       "}\n",
       "\n",
       ".xr-section-summary-in:disabled + label {\n",
       "  color: var(--xr-font-color2);\n",
       "}\n",
       "\n",
       ".xr-section-summary-in + label:before {\n",
       "  display: inline-block;\n",
       "  content: '►';\n",
       "  font-size: 11px;\n",
       "  width: 15px;\n",
       "  text-align: center;\n",
       "}\n",
       "\n",
       ".xr-section-summary-in:disabled + label:before {\n",
       "  color: var(--xr-disabled-color);\n",
       "}\n",
       "\n",
       ".xr-section-summary-in:checked + label:before {\n",
       "  content: '▼';\n",
       "}\n",
       "\n",
       ".xr-section-summary-in:checked + label > span {\n",
       "  display: none;\n",
       "}\n",
       "\n",
       ".xr-section-summary,\n",
       ".xr-section-inline-details {\n",
       "  padding-top: 4px;\n",
       "  padding-bottom: 4px;\n",
       "}\n",
       "\n",
       ".xr-section-inline-details {\n",
       "  grid-column: 2 / -1;\n",
       "}\n",
       "\n",
       ".xr-section-details {\n",
       "  display: none;\n",
       "  grid-column: 1 / -1;\n",
       "  margin-bottom: 5px;\n",
       "}\n",
       "\n",
       ".xr-section-summary-in:checked ~ .xr-section-details {\n",
       "  display: contents;\n",
       "}\n",
       "\n",
       ".xr-array-wrap {\n",
       "  grid-column: 1 / -1;\n",
       "  display: grid;\n",
       "  grid-template-columns: 20px auto;\n",
       "}\n",
       "\n",
       ".xr-array-wrap > label {\n",
       "  grid-column: 1;\n",
       "  vertical-align: top;\n",
       "}\n",
       "\n",
       ".xr-preview {\n",
       "  color: var(--xr-font-color3);\n",
       "}\n",
       "\n",
       ".xr-array-preview,\n",
       ".xr-array-data {\n",
       "  padding: 0 5px !important;\n",
       "  grid-column: 2;\n",
       "}\n",
       "\n",
       ".xr-array-data,\n",
       ".xr-array-in:checked ~ .xr-array-preview {\n",
       "  display: none;\n",
       "}\n",
       "\n",
       ".xr-array-in:checked ~ .xr-array-data,\n",
       ".xr-array-preview {\n",
       "  display: inline-block;\n",
       "}\n",
       "\n",
       ".xr-dim-list {\n",
       "  display: inline-block !important;\n",
       "  list-style: none;\n",
       "  padding: 0 !important;\n",
       "  margin: 0;\n",
       "}\n",
       "\n",
       ".xr-dim-list li {\n",
       "  display: inline-block;\n",
       "  padding: 0;\n",
       "  margin: 0;\n",
       "}\n",
       "\n",
       ".xr-dim-list:before {\n",
       "  content: '(';\n",
       "}\n",
       "\n",
       ".xr-dim-list:after {\n",
       "  content: ')';\n",
       "}\n",
       "\n",
       ".xr-dim-list li:not(:last-child):after {\n",
       "  content: ',';\n",
       "  padding-right: 5px;\n",
       "}\n",
       "\n",
       ".xr-has-index {\n",
       "  font-weight: bold;\n",
       "}\n",
       "\n",
       ".xr-var-list,\n",
       ".xr-var-item {\n",
       "  display: contents;\n",
       "}\n",
       "\n",
       ".xr-var-item > div,\n",
       ".xr-var-item label,\n",
       ".xr-var-item > .xr-var-name span {\n",
       "  background-color: var(--xr-background-color-row-even);\n",
       "  margin-bottom: 0;\n",
       "}\n",
       "\n",
       ".xr-var-item > .xr-var-name:hover span {\n",
       "  padding-right: 5px;\n",
       "}\n",
       "\n",
       ".xr-var-list > li:nth-child(odd) > div,\n",
       ".xr-var-list > li:nth-child(odd) > label,\n",
       ".xr-var-list > li:nth-child(odd) > .xr-var-name span {\n",
       "  background-color: var(--xr-background-color-row-odd);\n",
       "}\n",
       "\n",
       ".xr-var-name {\n",
       "  grid-column: 1;\n",
       "}\n",
       "\n",
       ".xr-var-dims {\n",
       "  grid-column: 2;\n",
       "}\n",
       "\n",
       ".xr-var-dtype {\n",
       "  grid-column: 3;\n",
       "  text-align: right;\n",
       "  color: var(--xr-font-color2);\n",
       "}\n",
       "\n",
       ".xr-var-preview {\n",
       "  grid-column: 4;\n",
       "}\n",
       "\n",
       ".xr-var-name,\n",
       ".xr-var-dims,\n",
       ".xr-var-dtype,\n",
       ".xr-preview,\n",
       ".xr-attrs dt {\n",
       "  white-space: nowrap;\n",
       "  overflow: hidden;\n",
       "  text-overflow: ellipsis;\n",
       "  padding-right: 10px;\n",
       "}\n",
       "\n",
       ".xr-var-name:hover,\n",
       ".xr-var-dims:hover,\n",
       ".xr-var-dtype:hover,\n",
       ".xr-attrs dt:hover {\n",
       "  overflow: visible;\n",
       "  width: auto;\n",
       "  z-index: 1;\n",
       "}\n",
       "\n",
       ".xr-var-attrs,\n",
       ".xr-var-data {\n",
       "  display: none;\n",
       "  background-color: var(--xr-background-color) !important;\n",
       "  padding-bottom: 5px !important;\n",
       "}\n",
       "\n",
       ".xr-var-attrs-in:checked ~ .xr-var-attrs,\n",
       ".xr-var-data-in:checked ~ .xr-var-data {\n",
       "  display: block;\n",
       "}\n",
       "\n",
       ".xr-var-data > table {\n",
       "  float: right;\n",
       "}\n",
       "\n",
       ".xr-var-name span,\n",
       ".xr-var-data,\n",
       ".xr-attrs {\n",
       "  padding-left: 25px !important;\n",
       "}\n",
       "\n",
       ".xr-attrs,\n",
       ".xr-var-attrs,\n",
       ".xr-var-data {\n",
       "  grid-column: 1 / -1;\n",
       "}\n",
       "\n",
       "dl.xr-attrs {\n",
       "  padding: 0;\n",
       "  margin: 0;\n",
       "  display: grid;\n",
       "  grid-template-columns: 125px auto;\n",
       "}\n",
       "\n",
       ".xr-attrs dt,\n",
       ".xr-attrs dd {\n",
       "  padding: 0;\n",
       "  margin: 0;\n",
       "  float: left;\n",
       "  padding-right: 10px;\n",
       "  width: auto;\n",
       "}\n",
       "\n",
       ".xr-attrs dt {\n",
       "  font-weight: normal;\n",
       "  grid-column: 1;\n",
       "}\n",
       "\n",
       ".xr-attrs dt:hover span {\n",
       "  display: inline-block;\n",
       "  background: var(--xr-background-color);\n",
       "  padding-right: 10px;\n",
       "}\n",
       "\n",
       ".xr-attrs dd {\n",
       "  grid-column: 2;\n",
       "  white-space: pre-wrap;\n",
       "  word-break: break-all;\n",
       "}\n",
       "\n",
       ".xr-icon-database,\n",
       ".xr-icon-file-text2 {\n",
       "  display: inline-block;\n",
       "  vertical-align: middle;\n",
       "  width: 1em;\n",
       "  height: 1.5em !important;\n",
       "  stroke-width: 0;\n",
       "  stroke: currentColor;\n",
       "  fill: currentColor;\n",
       "}\n",
       "</style><pre class='xr-text-repr-fallback'>&lt;xarray.Dataset&gt;\n",
       "Dimensions:          (chain: 1, draw: 500)\n",
       "Coordinates:\n",
       "  * chain            (chain) int64 0\n",
       "  * draw             (draw) int64 0 1 2 3 4 5 6 ... 493 494 495 496 497 498 499\n",
       "Data variables:\n",
       "    conversion_rate  (chain, draw) float64 0.1016 0.1228 ... 0.06751 0.04844\n",
       "Attributes:\n",
       "    created_at:                 2022-05-01T00:34:07.273965\n",
       "    arviz_version:              0.12.0\n",
       "    inference_library:          pymc\n",
       "    inference_library_version:  4.0.0b5</pre><div class='xr-wrap' hidden><div class='xr-header'><div class='xr-obj-type'>xarray.Dataset</div></div><ul class='xr-sections'><li class='xr-section-item'><input id='section-88ff2de7-4867-4bdd-ac4c-0a53e8dc4be0' class='xr-section-summary-in' type='checkbox' disabled ><label for='section-88ff2de7-4867-4bdd-ac4c-0a53e8dc4be0' class='xr-section-summary'  title='Expand/collapse section'>Dimensions:</label><div class='xr-section-inline-details'><ul class='xr-dim-list'><li><span class='xr-has-index'>chain</span>: 1</li><li><span class='xr-has-index'>draw</span>: 500</li></ul></div><div class='xr-section-details'></div></li><li class='xr-section-item'><input id='section-28ca96b7-9258-4d5f-9f0d-9bb2b078b9c8' class='xr-section-summary-in' type='checkbox'  checked><label for='section-28ca96b7-9258-4d5f-9f0d-9bb2b078b9c8' class='xr-section-summary' >Coordinates: <span>(2)</span></label><div class='xr-section-inline-details'></div><div class='xr-section-details'><ul class='xr-var-list'><li class='xr-var-item'><div class='xr-var-name'><span class='xr-has-index'>chain</span></div><div class='xr-var-dims'>(chain)</div><div class='xr-var-dtype'>int64</div><div class='xr-var-preview xr-preview'>0</div><input id='attrs-8bb18375-b582-4d2f-9a07-af55891d4e45' class='xr-var-attrs-in' type='checkbox' disabled><label for='attrs-8bb18375-b582-4d2f-9a07-af55891d4e45' title='Show/Hide attributes'><svg class='icon xr-icon-file-text2'><use xlink:href='#icon-file-text2'></use></svg></label><input id='data-56649304-35c5-46e9-b652-54cd5e43ab30' class='xr-var-data-in' type='checkbox'><label for='data-56649304-35c5-46e9-b652-54cd5e43ab30' title='Show/Hide data repr'><svg class='icon xr-icon-database'><use xlink:href='#icon-database'></use></svg></label><div class='xr-var-attrs'><dl class='xr-attrs'></dl></div><div class='xr-var-data'><pre>array([0])</pre></div></li><li class='xr-var-item'><div class='xr-var-name'><span class='xr-has-index'>draw</span></div><div class='xr-var-dims'>(draw)</div><div class='xr-var-dtype'>int64</div><div class='xr-var-preview xr-preview'>0 1 2 3 4 5 ... 495 496 497 498 499</div><input id='attrs-bd5d0e69-8fe2-42ba-950b-bfe0061e6cdc' class='xr-var-attrs-in' type='checkbox' disabled><label for='attrs-bd5d0e69-8fe2-42ba-950b-bfe0061e6cdc' title='Show/Hide attributes'><svg class='icon xr-icon-file-text2'><use xlink:href='#icon-file-text2'></use></svg></label><input id='data-19b452d2-dd1a-412b-990a-e83dc390eb94' class='xr-var-data-in' type='checkbox'><label for='data-19b452d2-dd1a-412b-990a-e83dc390eb94' title='Show/Hide data repr'><svg class='icon xr-icon-database'><use xlink:href='#icon-database'></use></svg></label><div class='xr-var-attrs'><dl class='xr-attrs'></dl></div><div class='xr-var-data'><pre>array([  0,   1,   2, ..., 497, 498, 499])</pre></div></li></ul></div></li><li class='xr-section-item'><input id='section-c331cd57-ffce-4c06-bcd4-949aae89e5a4' class='xr-section-summary-in' type='checkbox'  checked><label for='section-c331cd57-ffce-4c06-bcd4-949aae89e5a4' class='xr-section-summary' >Data variables: <span>(1)</span></label><div class='xr-section-inline-details'></div><div class='xr-section-details'><ul class='xr-var-list'><li class='xr-var-item'><div class='xr-var-name'><span>conversion_rate</span></div><div class='xr-var-dims'>(chain, draw)</div><div class='xr-var-dtype'>float64</div><div class='xr-var-preview xr-preview'>0.1016 0.1228 ... 0.06751 0.04844</div><input id='attrs-436533e4-8a36-40f2-8a9b-41f5063aa294' class='xr-var-attrs-in' type='checkbox' disabled><label for='attrs-436533e4-8a36-40f2-8a9b-41f5063aa294' title='Show/Hide attributes'><svg class='icon xr-icon-file-text2'><use xlink:href='#icon-file-text2'></use></svg></label><input id='data-c0d31336-21e2-4416-b36f-c62a4abf77d4' class='xr-var-data-in' type='checkbox'><label for='data-c0d31336-21e2-4416-b36f-c62a4abf77d4' title='Show/Hide data repr'><svg class='icon xr-icon-database'><use xlink:href='#icon-database'></use></svg></label><div class='xr-var-attrs'><dl class='xr-attrs'></dl></div><div class='xr-var-data'><pre>array([[0.10160987, 0.12277161, 0.11890316, 0.20402655, 0.2729039 ,\n",
       "        0.13956535, 0.07434108, 0.16765627, 0.06906247, 0.14160873,\n",
       "        0.11514118, 0.05792496, 0.20125778, 0.20307762, 0.26903702,\n",
       "        0.07202199, 0.25216411, 0.24507413, 0.27743233, 0.23720082,\n",
       "        0.22224624, 0.17847788, 0.14167486, 0.12877251, 0.14657306,\n",
       "        0.06394299, 0.09086398, 0.06876416, 0.13416174, 0.08978785,\n",
       "        0.21406739, 0.15355048, 0.1285189 , 0.21202116, 0.39485301,\n",
       "        0.41047808, 0.1691948 , 0.15865295, 0.10430737, 0.03470307,\n",
       "        0.29301501, 0.27744852, 0.09689714, 0.18764666, 0.33150805,\n",
       "        0.10914745, 0.0788615 , 0.0992421 , 0.14716682, 0.20088163,\n",
       "        0.21009956, 0.19870834, 0.3251394 , 0.04571608, 0.1732729 ,\n",
       "        0.26523621, 0.16600264, 0.0838273 , 0.19183768, 0.18870445,\n",
       "        0.11604905, 0.11449657, 0.30440273, 0.13754734, 0.12091388,\n",
       "        0.26199343, 0.15036473, 0.09659182, 0.00989482, 0.2279888 ,\n",
       "        0.13919094, 0.10590841, 0.33396531, 0.13429181, 0.27914844,\n",
       "        0.11676938, 0.11003365, 0.5549839 , 0.19766828, 0.14598683,\n",
       "        0.21099102, 0.21900542, 0.28297948, 0.14976903, 0.16887353,\n",
       "        0.06400074, 0.13073997, 0.17643385, 0.10272697, 0.12786459,\n",
       "        0.35323479, 0.05811843, 0.11857649, 0.3230444 , 0.02586338,\n",
       "        0.10087411, 0.20723971, 0.24297484, 0.18496943, 0.05296044,\n",
       "...\n",
       "        0.19081173, 0.07270042, 0.16755904, 0.22550701, 0.23728446,\n",
       "        0.22187606, 0.0815705 , 0.24264263, 0.12902291, 0.03305294,\n",
       "        0.19250832, 0.11842667, 0.12979893, 0.07588532, 0.108442  ,\n",
       "        0.19114446, 0.22918328, 0.26952348, 0.32143255, 0.06087443,\n",
       "        0.17293737, 0.16623642, 0.11222726, 0.03482951, 0.07531884,\n",
       "        0.2363288 , 0.19211455, 0.10741051, 0.12265158, 0.353235  ,\n",
       "        0.03015827, 0.17591535, 0.22486894, 0.29263858, 0.26230749,\n",
       "        0.05954521, 0.10581909, 0.15193166, 0.15238568, 0.28481041,\n",
       "        0.20435559, 0.2552239 , 0.39131852, 0.05635754, 0.15683384,\n",
       "        0.36950468, 0.23043497, 0.19375275, 0.5030034 , 0.35813623,\n",
       "        0.24635542, 0.15174758, 0.2843205 , 0.08403783, 0.33297579,\n",
       "        0.12198769, 0.13666462, 0.17646835, 0.09385558, 0.2640582 ,\n",
       "        0.06570718, 0.45360473, 0.16650591, 0.01869195, 0.07919518,\n",
       "        0.37334815, 0.07503298, 0.53576381, 0.23479969, 0.28754076,\n",
       "        0.1638882 , 0.07523467, 0.14185929, 0.12188181, 0.42595959,\n",
       "        0.11485827, 0.14684812, 0.31098607, 0.15024605, 0.05783951,\n",
       "        0.42279717, 0.17352932, 0.12912072, 0.21986863, 0.20271326,\n",
       "        0.05280762, 0.25949963, 0.12752505, 0.13771211, 0.13422201,\n",
       "        0.16228285, 0.21263978, 0.05302793, 0.0445278 , 0.05912487,\n",
       "        0.20689638, 0.13059098, 0.20022474, 0.0675096 , 0.04843657]])</pre></div></li></ul></div></li><li class='xr-section-item'><input id='section-d346c91e-9874-40ae-862e-222965bec47e' class='xr-section-summary-in' type='checkbox'  checked><label for='section-d346c91e-9874-40ae-862e-222965bec47e' class='xr-section-summary' >Attributes: <span>(4)</span></label><div class='xr-section-inline-details'></div><div class='xr-section-details'><dl class='xr-attrs'><dt><span>created_at :</span></dt><dd>2022-05-01T00:34:07.273965</dd><dt><span>arviz_version :</span></dt><dd>0.12.0</dd><dt><span>inference_library :</span></dt><dd>pymc</dd><dt><span>inference_library_version :</span></dt><dd>4.0.0b5</dd></dl></div></li></ul></div></div><br></div>\n",
       "                      </ul>\n",
       "                  </div>\n",
       "            </li>\n",
       "            \n",
       "            <li class = \"xr-section-item\">\n",
       "                  <input id=\"idata_prior_predictive55a81a12-5bee-4309-ad75-0ca922fb0992\" class=\"xr-section-summary-in\" type=\"checkbox\">\n",
       "                  <label for=\"idata_prior_predictive55a81a12-5bee-4309-ad75-0ca922fb0992\" class = \"xr-section-summary\">prior_predictive</label>\n",
       "                  <div class=\"xr-section-inline-details\"></div>\n",
       "                  <div class=\"xr-section-details\">\n",
       "                      <ul id=\"xr-dataset-coord-list\" class=\"xr-var-list\">\n",
       "                          <div style=\"padding-left:2rem;\"><div><svg style=\"position: absolute; width: 0; height: 0; overflow: hidden\">\n",
       "<defs>\n",
       "<symbol id=\"icon-database\" viewBox=\"0 0 32 32\">\n",
       "<path d=\"M16 0c-8.837 0-16 2.239-16 5v4c0 2.761 7.163 5 16 5s16-2.239 16-5v-4c0-2.761-7.163-5-16-5z\"></path>\n",
       "<path d=\"M16 17c-8.837 0-16-2.239-16-5v6c0 2.761 7.163 5 16 5s16-2.239 16-5v-6c0 2.761-7.163 5-16 5z\"></path>\n",
       "<path d=\"M16 26c-8.837 0-16-2.239-16-5v6c0 2.761 7.163 5 16 5s16-2.239 16-5v-6c0 2.761-7.163 5-16 5z\"></path>\n",
       "</symbol>\n",
       "<symbol id=\"icon-file-text2\" viewBox=\"0 0 32 32\">\n",
       "<path d=\"M28.681 7.159c-0.694-0.947-1.662-2.053-2.724-3.116s-2.169-2.030-3.116-2.724c-1.612-1.182-2.393-1.319-2.841-1.319h-15.5c-1.378 0-2.5 1.121-2.5 2.5v27c0 1.378 1.122 2.5 2.5 2.5h23c1.378 0 2.5-1.122 2.5-2.5v-19.5c0-0.448-0.137-1.23-1.319-2.841zM24.543 5.457c0.959 0.959 1.712 1.825 2.268 2.543h-4.811v-4.811c0.718 0.556 1.584 1.309 2.543 2.268zM28 29.5c0 0.271-0.229 0.5-0.5 0.5h-23c-0.271 0-0.5-0.229-0.5-0.5v-27c0-0.271 0.229-0.5 0.5-0.5 0 0 15.499-0 15.5 0v7c0 0.552 0.448 1 1 1h7v19.5z\"></path>\n",
       "<path d=\"M23 26h-14c-0.552 0-1-0.448-1-1s0.448-1 1-1h14c0.552 0 1 0.448 1 1s-0.448 1-1 1z\"></path>\n",
       "<path d=\"M23 22h-14c-0.552 0-1-0.448-1-1s0.448-1 1-1h14c0.552 0 1 0.448 1 1s-0.448 1-1 1z\"></path>\n",
       "<path d=\"M23 18h-14c-0.552 0-1-0.448-1-1s0.448-1 1-1h14c0.552 0 1 0.448 1 1s-0.448 1-1 1z\"></path>\n",
       "</symbol>\n",
       "</defs>\n",
       "</svg>\n",
       "<style>/* CSS stylesheet for displaying xarray objects in jupyterlab.\n",
       " *\n",
       " */\n",
       "\n",
       ":root {\n",
       "  --xr-font-color0: var(--jp-content-font-color0, rgba(0, 0, 0, 1));\n",
       "  --xr-font-color2: var(--jp-content-font-color2, rgba(0, 0, 0, 0.54));\n",
       "  --xr-font-color3: var(--jp-content-font-color3, rgba(0, 0, 0, 0.38));\n",
       "  --xr-border-color: var(--jp-border-color2, #e0e0e0);\n",
       "  --xr-disabled-color: var(--jp-layout-color3, #bdbdbd);\n",
       "  --xr-background-color: var(--jp-layout-color0, white);\n",
       "  --xr-background-color-row-even: var(--jp-layout-color1, white);\n",
       "  --xr-background-color-row-odd: var(--jp-layout-color2, #eeeeee);\n",
       "}\n",
       "\n",
       "html[theme=dark],\n",
       "body.vscode-dark {\n",
       "  --xr-font-color0: rgba(255, 255, 255, 1);\n",
       "  --xr-font-color2: rgba(255, 255, 255, 0.54);\n",
       "  --xr-font-color3: rgba(255, 255, 255, 0.38);\n",
       "  --xr-border-color: #1F1F1F;\n",
       "  --xr-disabled-color: #515151;\n",
       "  --xr-background-color: #111111;\n",
       "  --xr-background-color-row-even: #111111;\n",
       "  --xr-background-color-row-odd: #313131;\n",
       "}\n",
       "\n",
       ".xr-wrap {\n",
       "  display: block;\n",
       "  min-width: 300px;\n",
       "  max-width: 700px;\n",
       "}\n",
       "\n",
       ".xr-text-repr-fallback {\n",
       "  /* fallback to plain text repr when CSS is not injected (untrusted notebook) */\n",
       "  display: none;\n",
       "}\n",
       "\n",
       ".xr-header {\n",
       "  padding-top: 6px;\n",
       "  padding-bottom: 6px;\n",
       "  margin-bottom: 4px;\n",
       "  border-bottom: solid 1px var(--xr-border-color);\n",
       "}\n",
       "\n",
       ".xr-header > div,\n",
       ".xr-header > ul {\n",
       "  display: inline;\n",
       "  margin-top: 0;\n",
       "  margin-bottom: 0;\n",
       "}\n",
       "\n",
       ".xr-obj-type,\n",
       ".xr-array-name {\n",
       "  margin-left: 2px;\n",
       "  margin-right: 10px;\n",
       "}\n",
       "\n",
       ".xr-obj-type {\n",
       "  color: var(--xr-font-color2);\n",
       "}\n",
       "\n",
       ".xr-sections {\n",
       "  padding-left: 0 !important;\n",
       "  display: grid;\n",
       "  grid-template-columns: 150px auto auto 1fr 20px 20px;\n",
       "}\n",
       "\n",
       ".xr-section-item {\n",
       "  display: contents;\n",
       "}\n",
       "\n",
       ".xr-section-item input {\n",
       "  display: none;\n",
       "}\n",
       "\n",
       ".xr-section-item input + label {\n",
       "  color: var(--xr-disabled-color);\n",
       "}\n",
       "\n",
       ".xr-section-item input:enabled + label {\n",
       "  cursor: pointer;\n",
       "  color: var(--xr-font-color2);\n",
       "}\n",
       "\n",
       ".xr-section-item input:enabled + label:hover {\n",
       "  color: var(--xr-font-color0);\n",
       "}\n",
       "\n",
       ".xr-section-summary {\n",
       "  grid-column: 1;\n",
       "  color: var(--xr-font-color2);\n",
       "  font-weight: 500;\n",
       "}\n",
       "\n",
       ".xr-section-summary > span {\n",
       "  display: inline-block;\n",
       "  padding-left: 0.5em;\n",
       "}\n",
       "\n",
       ".xr-section-summary-in:disabled + label {\n",
       "  color: var(--xr-font-color2);\n",
       "}\n",
       "\n",
       ".xr-section-summary-in + label:before {\n",
       "  display: inline-block;\n",
       "  content: '►';\n",
       "  font-size: 11px;\n",
       "  width: 15px;\n",
       "  text-align: center;\n",
       "}\n",
       "\n",
       ".xr-section-summary-in:disabled + label:before {\n",
       "  color: var(--xr-disabled-color);\n",
       "}\n",
       "\n",
       ".xr-section-summary-in:checked + label:before {\n",
       "  content: '▼';\n",
       "}\n",
       "\n",
       ".xr-section-summary-in:checked + label > span {\n",
       "  display: none;\n",
       "}\n",
       "\n",
       ".xr-section-summary,\n",
       ".xr-section-inline-details {\n",
       "  padding-top: 4px;\n",
       "  padding-bottom: 4px;\n",
       "}\n",
       "\n",
       ".xr-section-inline-details {\n",
       "  grid-column: 2 / -1;\n",
       "}\n",
       "\n",
       ".xr-section-details {\n",
       "  display: none;\n",
       "  grid-column: 1 / -1;\n",
       "  margin-bottom: 5px;\n",
       "}\n",
       "\n",
       ".xr-section-summary-in:checked ~ .xr-section-details {\n",
       "  display: contents;\n",
       "}\n",
       "\n",
       ".xr-array-wrap {\n",
       "  grid-column: 1 / -1;\n",
       "  display: grid;\n",
       "  grid-template-columns: 20px auto;\n",
       "}\n",
       "\n",
       ".xr-array-wrap > label {\n",
       "  grid-column: 1;\n",
       "  vertical-align: top;\n",
       "}\n",
       "\n",
       ".xr-preview {\n",
       "  color: var(--xr-font-color3);\n",
       "}\n",
       "\n",
       ".xr-array-preview,\n",
       ".xr-array-data {\n",
       "  padding: 0 5px !important;\n",
       "  grid-column: 2;\n",
       "}\n",
       "\n",
       ".xr-array-data,\n",
       ".xr-array-in:checked ~ .xr-array-preview {\n",
       "  display: none;\n",
       "}\n",
       "\n",
       ".xr-array-in:checked ~ .xr-array-data,\n",
       ".xr-array-preview {\n",
       "  display: inline-block;\n",
       "}\n",
       "\n",
       ".xr-dim-list {\n",
       "  display: inline-block !important;\n",
       "  list-style: none;\n",
       "  padding: 0 !important;\n",
       "  margin: 0;\n",
       "}\n",
       "\n",
       ".xr-dim-list li {\n",
       "  display: inline-block;\n",
       "  padding: 0;\n",
       "  margin: 0;\n",
       "}\n",
       "\n",
       ".xr-dim-list:before {\n",
       "  content: '(';\n",
       "}\n",
       "\n",
       ".xr-dim-list:after {\n",
       "  content: ')';\n",
       "}\n",
       "\n",
       ".xr-dim-list li:not(:last-child):after {\n",
       "  content: ',';\n",
       "  padding-right: 5px;\n",
       "}\n",
       "\n",
       ".xr-has-index {\n",
       "  font-weight: bold;\n",
       "}\n",
       "\n",
       ".xr-var-list,\n",
       ".xr-var-item {\n",
       "  display: contents;\n",
       "}\n",
       "\n",
       ".xr-var-item > div,\n",
       ".xr-var-item label,\n",
       ".xr-var-item > .xr-var-name span {\n",
       "  background-color: var(--xr-background-color-row-even);\n",
       "  margin-bottom: 0;\n",
       "}\n",
       "\n",
       ".xr-var-item > .xr-var-name:hover span {\n",
       "  padding-right: 5px;\n",
       "}\n",
       "\n",
       ".xr-var-list > li:nth-child(odd) > div,\n",
       ".xr-var-list > li:nth-child(odd) > label,\n",
       ".xr-var-list > li:nth-child(odd) > .xr-var-name span {\n",
       "  background-color: var(--xr-background-color-row-odd);\n",
       "}\n",
       "\n",
       ".xr-var-name {\n",
       "  grid-column: 1;\n",
       "}\n",
       "\n",
       ".xr-var-dims {\n",
       "  grid-column: 2;\n",
       "}\n",
       "\n",
       ".xr-var-dtype {\n",
       "  grid-column: 3;\n",
       "  text-align: right;\n",
       "  color: var(--xr-font-color2);\n",
       "}\n",
       "\n",
       ".xr-var-preview {\n",
       "  grid-column: 4;\n",
       "}\n",
       "\n",
       ".xr-var-name,\n",
       ".xr-var-dims,\n",
       ".xr-var-dtype,\n",
       ".xr-preview,\n",
       ".xr-attrs dt {\n",
       "  white-space: nowrap;\n",
       "  overflow: hidden;\n",
       "  text-overflow: ellipsis;\n",
       "  padding-right: 10px;\n",
       "}\n",
       "\n",
       ".xr-var-name:hover,\n",
       ".xr-var-dims:hover,\n",
       ".xr-var-dtype:hover,\n",
       ".xr-attrs dt:hover {\n",
       "  overflow: visible;\n",
       "  width: auto;\n",
       "  z-index: 1;\n",
       "}\n",
       "\n",
       ".xr-var-attrs,\n",
       ".xr-var-data {\n",
       "  display: none;\n",
       "  background-color: var(--xr-background-color) !important;\n",
       "  padding-bottom: 5px !important;\n",
       "}\n",
       "\n",
       ".xr-var-attrs-in:checked ~ .xr-var-attrs,\n",
       ".xr-var-data-in:checked ~ .xr-var-data {\n",
       "  display: block;\n",
       "}\n",
       "\n",
       ".xr-var-data > table {\n",
       "  float: right;\n",
       "}\n",
       "\n",
       ".xr-var-name span,\n",
       ".xr-var-data,\n",
       ".xr-attrs {\n",
       "  padding-left: 25px !important;\n",
       "}\n",
       "\n",
       ".xr-attrs,\n",
       ".xr-var-attrs,\n",
       ".xr-var-data {\n",
       "  grid-column: 1 / -1;\n",
       "}\n",
       "\n",
       "dl.xr-attrs {\n",
       "  padding: 0;\n",
       "  margin: 0;\n",
       "  display: grid;\n",
       "  grid-template-columns: 125px auto;\n",
       "}\n",
       "\n",
       ".xr-attrs dt,\n",
       ".xr-attrs dd {\n",
       "  padding: 0;\n",
       "  margin: 0;\n",
       "  float: left;\n",
       "  padding-right: 10px;\n",
       "  width: auto;\n",
       "}\n",
       "\n",
       ".xr-attrs dt {\n",
       "  font-weight: normal;\n",
       "  grid-column: 1;\n",
       "}\n",
       "\n",
       ".xr-attrs dt:hover span {\n",
       "  display: inline-block;\n",
       "  background: var(--xr-background-color);\n",
       "  padding-right: 10px;\n",
       "}\n",
       "\n",
       ".xr-attrs dd {\n",
       "  grid-column: 2;\n",
       "  white-space: pre-wrap;\n",
       "  word-break: break-all;\n",
       "}\n",
       "\n",
       ".xr-icon-database,\n",
       ".xr-icon-file-text2 {\n",
       "  display: inline-block;\n",
       "  vertical-align: middle;\n",
       "  width: 1em;\n",
       "  height: 1.5em !important;\n",
       "  stroke-width: 0;\n",
       "  stroke: currentColor;\n",
       "  fill: currentColor;\n",
       "}\n",
       "</style><pre class='xr-text-repr-fallback'>&lt;xarray.Dataset&gt;\n",
       "Dimensions:          (chain: 1, draw: 500)\n",
       "Coordinates:\n",
       "  * chain            (chain) int64 0\n",
       "  * draw             (draw) int64 0 1 2 3 4 5 6 ... 493 494 495 496 497 498 499\n",
       "Data variables:\n",
       "    num_conversions  (chain, draw) int64 72 111 113 195 271 ... 120 190 75 53\n",
       "Attributes:\n",
       "    created_at:                 2022-05-01T00:34:07.276105\n",
       "    arviz_version:              0.12.0\n",
       "    inference_library:          pymc\n",
       "    inference_library_version:  4.0.0b5</pre><div class='xr-wrap' hidden><div class='xr-header'><div class='xr-obj-type'>xarray.Dataset</div></div><ul class='xr-sections'><li class='xr-section-item'><input id='section-80620c71-747e-44cd-9a1b-86f2747e4eeb' class='xr-section-summary-in' type='checkbox' disabled ><label for='section-80620c71-747e-44cd-9a1b-86f2747e4eeb' class='xr-section-summary'  title='Expand/collapse section'>Dimensions:</label><div class='xr-section-inline-details'><ul class='xr-dim-list'><li><span class='xr-has-index'>chain</span>: 1</li><li><span class='xr-has-index'>draw</span>: 500</li></ul></div><div class='xr-section-details'></div></li><li class='xr-section-item'><input id='section-58d4286f-cac2-41f8-9c09-24c3c36f0b69' class='xr-section-summary-in' type='checkbox'  checked><label for='section-58d4286f-cac2-41f8-9c09-24c3c36f0b69' class='xr-section-summary' >Coordinates: <span>(2)</span></label><div class='xr-section-inline-details'></div><div class='xr-section-details'><ul class='xr-var-list'><li class='xr-var-item'><div class='xr-var-name'><span class='xr-has-index'>chain</span></div><div class='xr-var-dims'>(chain)</div><div class='xr-var-dtype'>int64</div><div class='xr-var-preview xr-preview'>0</div><input id='attrs-ba261955-21b9-4944-bf5b-2b337744eaa9' class='xr-var-attrs-in' type='checkbox' disabled><label for='attrs-ba261955-21b9-4944-bf5b-2b337744eaa9' title='Show/Hide attributes'><svg class='icon xr-icon-file-text2'><use xlink:href='#icon-file-text2'></use></svg></label><input id='data-69c07f13-b80b-4908-ae24-1b875848ba31' class='xr-var-data-in' type='checkbox'><label for='data-69c07f13-b80b-4908-ae24-1b875848ba31' title='Show/Hide data repr'><svg class='icon xr-icon-database'><use xlink:href='#icon-database'></use></svg></label><div class='xr-var-attrs'><dl class='xr-attrs'></dl></div><div class='xr-var-data'><pre>array([0])</pre></div></li><li class='xr-var-item'><div class='xr-var-name'><span class='xr-has-index'>draw</span></div><div class='xr-var-dims'>(draw)</div><div class='xr-var-dtype'>int64</div><div class='xr-var-preview xr-preview'>0 1 2 3 4 5 ... 495 496 497 498 499</div><input id='attrs-4b24c0aa-d3a9-410c-9759-8dcdca1b9257' class='xr-var-attrs-in' type='checkbox' disabled><label for='attrs-4b24c0aa-d3a9-410c-9759-8dcdca1b9257' title='Show/Hide attributes'><svg class='icon xr-icon-file-text2'><use xlink:href='#icon-file-text2'></use></svg></label><input id='data-a0e0434d-758f-4e59-900a-9c7e66345c67' class='xr-var-data-in' type='checkbox'><label for='data-a0e0434d-758f-4e59-900a-9c7e66345c67' title='Show/Hide data repr'><svg class='icon xr-icon-database'><use xlink:href='#icon-database'></use></svg></label><div class='xr-var-attrs'><dl class='xr-attrs'></dl></div><div class='xr-var-data'><pre>array([  0,   1,   2, ..., 497, 498, 499])</pre></div></li></ul></div></li><li class='xr-section-item'><input id='section-dae1fdb2-b0bf-453c-8519-b6868edf4a86' class='xr-section-summary-in' type='checkbox'  checked><label for='section-dae1fdb2-b0bf-453c-8519-b6868edf4a86' class='xr-section-summary' >Data variables: <span>(1)</span></label><div class='xr-section-inline-details'></div><div class='xr-section-details'><ul class='xr-var-list'><li class='xr-var-item'><div class='xr-var-name'><span>num_conversions</span></div><div class='xr-var-dims'>(chain, draw)</div><div class='xr-var-dtype'>int64</div><div class='xr-var-preview xr-preview'>72 111 113 195 ... 120 190 75 53</div><input id='attrs-758548ef-38f2-4389-9e45-fc9f3b62e164' class='xr-var-attrs-in' type='checkbox' disabled><label for='attrs-758548ef-38f2-4389-9e45-fc9f3b62e164' title='Show/Hide attributes'><svg class='icon xr-icon-file-text2'><use xlink:href='#icon-file-text2'></use></svg></label><input id='data-f17e6807-0620-4a69-9c27-abae57f2c1cc' class='xr-var-data-in' type='checkbox'><label for='data-f17e6807-0620-4a69-9c27-abae57f2c1cc' title='Show/Hide data repr'><svg class='icon xr-icon-database'><use xlink:href='#icon-database'></use></svg></label><div class='xr-var-attrs'><dl class='xr-attrs'></dl></div><div class='xr-var-data'><pre>array([[ 72, 111, 113, 195, 271, 172,  70, 156,  64, 137, 117,  54, 208,\n",
       "        185, 256,  82, 258, 245, 268, 250, 232, 183, 137, 128, 145,  64,\n",
       "         84,  76, 124,  84, 203, 146, 120, 221, 369, 416, 181, 161,  88,\n",
       "         42, 305, 291,  80, 188, 342, 119,  76,  94, 134, 209, 203, 199,\n",
       "        302,  51, 181, 280, 170,  79, 194, 193, 115, 122, 310, 134, 102,\n",
       "        268, 165, 103,   7, 246, 142, 104, 327, 143, 276, 117, 115, 541,\n",
       "        172, 134, 198, 202, 280, 157, 153,  61, 130, 171, 115, 133, 355,\n",
       "         71, 111, 320,  21, 108, 198, 251, 191,  44, 167, 218, 203,  52,\n",
       "        302, 108, 239, 102,  33, 190, 125, 185,  49, 339,  46,  37, 207,\n",
       "         55, 118, 102, 362, 143,  60, 147, 176, 162, 164,  87, 316,  87,\n",
       "        143, 205, 164, 114,  90, 179, 342, 122,  65, 283,  45, 113, 187,\n",
       "        426, 139, 199,  87, 169,  55, 242, 150, 108, 399,  60, 239,  61,\n",
       "        205, 101,  80,  51, 127, 240,  60, 231, 124, 205,  89,  62, 230,\n",
       "        160, 205,  89,  51, 133, 357, 260, 166, 177, 221, 254,  93, 204,\n",
       "        100, 144, 159,  85, 133, 107, 179, 174,  68, 101, 445, 329, 233,\n",
       "        105, 269, 118, 179,  45,  88, 181, 162,  79, 232, 119, 315, 172,\n",
       "         71, 146, 134,  96, 144, 309,  71,  70, 294, 163, 223, 225, 113,\n",
       "        376, 153, 141,  76,  72, 126, 115, 184, 192, 229, 161, 295, 214,\n",
       "        137,  20, 365,  66,  57,  80, 224, 141,  44, 357, 242,  95,  81,\n",
       "        235, 225,  97, 193,  83, 150,  36, 451, 104, 202, 440, 184, 157,\n",
       "         49, 269,  58,  71, 139, 176, 179, 107,  92, 246, 251, 242, 136,\n",
       "        141, 149, 171, 198, 204,  57,  95,  72,  27, 102,  86, 375, 320,\n",
       "        206,  92, 220, 253,  56, 103,  56,  63,  21, 200, 299, 159,  56,\n",
       "         77, 212,  68,  92, 193,  42, 265,  84, 144,  53, 289, 364,  61,\n",
       "         16,  97,  86, 128, 434, 246, 216, 204, 122, 192, 220, 192, 134,\n",
       "        162,  47, 195,  57, 190, 104,  45,  37, 171,  39, 127,  93, 158,\n",
       "        346, 135,  70,  35, 267, 453, 107,  13,  20, 223, 114, 397, 169,\n",
       "        118, 275,  63, 310, 185,  84,  48, 146, 178, 183, 203, 113, 207,\n",
       "        459, 124,  86, 208, 272,  84,  61, 147, 453,  59, 142, 267, 122,\n",
       "        175,  47, 314, 208, 108, 104, 185,  47, 234, 193, 161, 291, 209,\n",
       "        218, 234,  62, 225,  64, 231, 308,  77, 301, 367, 209,  72, 171,\n",
       "        218, 239, 232,  72, 228, 151,  42, 219, 131, 129,  77, 116, 206,\n",
       "        230, 257, 330,  58, 183, 175, 108,  48,  72, 221, 189, 100, 124,\n",
       "        342,  26, 167, 233, 289, 261,  63,  90, 159, 155, 267, 208, 274,\n",
       "        410,  48, 156, 389, 213, 178, 485, 362, 263, 148, 296,  71, 317,\n",
       "        129, 147, 162, 103, 257,  64, 459, 164,  25,  77, 400,  73, 554,\n",
       "        238, 319, 173,  70, 161, 121, 412, 112, 144, 305, 145,  60, 409,\n",
       "        172, 114, 208, 188,  51, 276, 130, 106, 124, 176, 243,  54,  38,\n",
       "         53, 201, 120, 190,  75,  53]])</pre></div></li></ul></div></li><li class='xr-section-item'><input id='section-c4ba7c9f-4a85-415c-8c1d-19eb00eda4a6' class='xr-section-summary-in' type='checkbox'  checked><label for='section-c4ba7c9f-4a85-415c-8c1d-19eb00eda4a6' class='xr-section-summary' >Attributes: <span>(4)</span></label><div class='xr-section-inline-details'></div><div class='xr-section-details'><dl class='xr-attrs'><dt><span>created_at :</span></dt><dd>2022-05-01T00:34:07.276105</dd><dt><span>arviz_version :</span></dt><dd>0.12.0</dd><dt><span>inference_library :</span></dt><dd>pymc</dd><dt><span>inference_library_version :</span></dt><dd>4.0.0b5</dd></dl></div></li></ul></div></div><br></div>\n",
       "                      </ul>\n",
       "                  </div>\n",
       "            </li>\n",
       "            \n",
       "            <li class = \"xr-section-item\">\n",
       "                  <input id=\"idata_observed_data76f22b64-1e78-45f9-909c-af000dce15c1\" class=\"xr-section-summary-in\" type=\"checkbox\">\n",
       "                  <label for=\"idata_observed_data76f22b64-1e78-45f9-909c-af000dce15c1\" class = \"xr-section-summary\">observed_data</label>\n",
       "                  <div class=\"xr-section-inline-details\"></div>\n",
       "                  <div class=\"xr-section-details\">\n",
       "                      <ul id=\"xr-dataset-coord-list\" class=\"xr-var-list\">\n",
       "                          <div style=\"padding-left:2rem;\"><div><svg style=\"position: absolute; width: 0; height: 0; overflow: hidden\">\n",
       "<defs>\n",
       "<symbol id=\"icon-database\" viewBox=\"0 0 32 32\">\n",
       "<path d=\"M16 0c-8.837 0-16 2.239-16 5v4c0 2.761 7.163 5 16 5s16-2.239 16-5v-4c0-2.761-7.163-5-16-5z\"></path>\n",
       "<path d=\"M16 17c-8.837 0-16-2.239-16-5v6c0 2.761 7.163 5 16 5s16-2.239 16-5v-6c0 2.761-7.163 5-16 5z\"></path>\n",
       "<path d=\"M16 26c-8.837 0-16-2.239-16-5v6c0 2.761 7.163 5 16 5s16-2.239 16-5v-6c0 2.761-7.163 5-16 5z\"></path>\n",
       "</symbol>\n",
       "<symbol id=\"icon-file-text2\" viewBox=\"0 0 32 32\">\n",
       "<path d=\"M28.681 7.159c-0.694-0.947-1.662-2.053-2.724-3.116s-2.169-2.030-3.116-2.724c-1.612-1.182-2.393-1.319-2.841-1.319h-15.5c-1.378 0-2.5 1.121-2.5 2.5v27c0 1.378 1.122 2.5 2.5 2.5h23c1.378 0 2.5-1.122 2.5-2.5v-19.5c0-0.448-0.137-1.23-1.319-2.841zM24.543 5.457c0.959 0.959 1.712 1.825 2.268 2.543h-4.811v-4.811c0.718 0.556 1.584 1.309 2.543 2.268zM28 29.5c0 0.271-0.229 0.5-0.5 0.5h-23c-0.271 0-0.5-0.229-0.5-0.5v-27c0-0.271 0.229-0.5 0.5-0.5 0 0 15.499-0 15.5 0v7c0 0.552 0.448 1 1 1h7v19.5z\"></path>\n",
       "<path d=\"M23 26h-14c-0.552 0-1-0.448-1-1s0.448-1 1-1h14c0.552 0 1 0.448 1 1s-0.448 1-1 1z\"></path>\n",
       "<path d=\"M23 22h-14c-0.552 0-1-0.448-1-1s0.448-1 1-1h14c0.552 0 1 0.448 1 1s-0.448 1-1 1z\"></path>\n",
       "<path d=\"M23 18h-14c-0.552 0-1-0.448-1-1s0.448-1 1-1h14c0.552 0 1 0.448 1 1s-0.448 1-1 1z\"></path>\n",
       "</symbol>\n",
       "</defs>\n",
       "</svg>\n",
       "<style>/* CSS stylesheet for displaying xarray objects in jupyterlab.\n",
       " *\n",
       " */\n",
       "\n",
       ":root {\n",
       "  --xr-font-color0: var(--jp-content-font-color0, rgba(0, 0, 0, 1));\n",
       "  --xr-font-color2: var(--jp-content-font-color2, rgba(0, 0, 0, 0.54));\n",
       "  --xr-font-color3: var(--jp-content-font-color3, rgba(0, 0, 0, 0.38));\n",
       "  --xr-border-color: var(--jp-border-color2, #e0e0e0);\n",
       "  --xr-disabled-color: var(--jp-layout-color3, #bdbdbd);\n",
       "  --xr-background-color: var(--jp-layout-color0, white);\n",
       "  --xr-background-color-row-even: var(--jp-layout-color1, white);\n",
       "  --xr-background-color-row-odd: var(--jp-layout-color2, #eeeeee);\n",
       "}\n",
       "\n",
       "html[theme=dark],\n",
       "body.vscode-dark {\n",
       "  --xr-font-color0: rgba(255, 255, 255, 1);\n",
       "  --xr-font-color2: rgba(255, 255, 255, 0.54);\n",
       "  --xr-font-color3: rgba(255, 255, 255, 0.38);\n",
       "  --xr-border-color: #1F1F1F;\n",
       "  --xr-disabled-color: #515151;\n",
       "  --xr-background-color: #111111;\n",
       "  --xr-background-color-row-even: #111111;\n",
       "  --xr-background-color-row-odd: #313131;\n",
       "}\n",
       "\n",
       ".xr-wrap {\n",
       "  display: block;\n",
       "  min-width: 300px;\n",
       "  max-width: 700px;\n",
       "}\n",
       "\n",
       ".xr-text-repr-fallback {\n",
       "  /* fallback to plain text repr when CSS is not injected (untrusted notebook) */\n",
       "  display: none;\n",
       "}\n",
       "\n",
       ".xr-header {\n",
       "  padding-top: 6px;\n",
       "  padding-bottom: 6px;\n",
       "  margin-bottom: 4px;\n",
       "  border-bottom: solid 1px var(--xr-border-color);\n",
       "}\n",
       "\n",
       ".xr-header > div,\n",
       ".xr-header > ul {\n",
       "  display: inline;\n",
       "  margin-top: 0;\n",
       "  margin-bottom: 0;\n",
       "}\n",
       "\n",
       ".xr-obj-type,\n",
       ".xr-array-name {\n",
       "  margin-left: 2px;\n",
       "  margin-right: 10px;\n",
       "}\n",
       "\n",
       ".xr-obj-type {\n",
       "  color: var(--xr-font-color2);\n",
       "}\n",
       "\n",
       ".xr-sections {\n",
       "  padding-left: 0 !important;\n",
       "  display: grid;\n",
       "  grid-template-columns: 150px auto auto 1fr 20px 20px;\n",
       "}\n",
       "\n",
       ".xr-section-item {\n",
       "  display: contents;\n",
       "}\n",
       "\n",
       ".xr-section-item input {\n",
       "  display: none;\n",
       "}\n",
       "\n",
       ".xr-section-item input + label {\n",
       "  color: var(--xr-disabled-color);\n",
       "}\n",
       "\n",
       ".xr-section-item input:enabled + label {\n",
       "  cursor: pointer;\n",
       "  color: var(--xr-font-color2);\n",
       "}\n",
       "\n",
       ".xr-section-item input:enabled + label:hover {\n",
       "  color: var(--xr-font-color0);\n",
       "}\n",
       "\n",
       ".xr-section-summary {\n",
       "  grid-column: 1;\n",
       "  color: var(--xr-font-color2);\n",
       "  font-weight: 500;\n",
       "}\n",
       "\n",
       ".xr-section-summary > span {\n",
       "  display: inline-block;\n",
       "  padding-left: 0.5em;\n",
       "}\n",
       "\n",
       ".xr-section-summary-in:disabled + label {\n",
       "  color: var(--xr-font-color2);\n",
       "}\n",
       "\n",
       ".xr-section-summary-in + label:before {\n",
       "  display: inline-block;\n",
       "  content: '►';\n",
       "  font-size: 11px;\n",
       "  width: 15px;\n",
       "  text-align: center;\n",
       "}\n",
       "\n",
       ".xr-section-summary-in:disabled + label:before {\n",
       "  color: var(--xr-disabled-color);\n",
       "}\n",
       "\n",
       ".xr-section-summary-in:checked + label:before {\n",
       "  content: '▼';\n",
       "}\n",
       "\n",
       ".xr-section-summary-in:checked + label > span {\n",
       "  display: none;\n",
       "}\n",
       "\n",
       ".xr-section-summary,\n",
       ".xr-section-inline-details {\n",
       "  padding-top: 4px;\n",
       "  padding-bottom: 4px;\n",
       "}\n",
       "\n",
       ".xr-section-inline-details {\n",
       "  grid-column: 2 / -1;\n",
       "}\n",
       "\n",
       ".xr-section-details {\n",
       "  display: none;\n",
       "  grid-column: 1 / -1;\n",
       "  margin-bottom: 5px;\n",
       "}\n",
       "\n",
       ".xr-section-summary-in:checked ~ .xr-section-details {\n",
       "  display: contents;\n",
       "}\n",
       "\n",
       ".xr-array-wrap {\n",
       "  grid-column: 1 / -1;\n",
       "  display: grid;\n",
       "  grid-template-columns: 20px auto;\n",
       "}\n",
       "\n",
       ".xr-array-wrap > label {\n",
       "  grid-column: 1;\n",
       "  vertical-align: top;\n",
       "}\n",
       "\n",
       ".xr-preview {\n",
       "  color: var(--xr-font-color3);\n",
       "}\n",
       "\n",
       ".xr-array-preview,\n",
       ".xr-array-data {\n",
       "  padding: 0 5px !important;\n",
       "  grid-column: 2;\n",
       "}\n",
       "\n",
       ".xr-array-data,\n",
       ".xr-array-in:checked ~ .xr-array-preview {\n",
       "  display: none;\n",
       "}\n",
       "\n",
       ".xr-array-in:checked ~ .xr-array-data,\n",
       ".xr-array-preview {\n",
       "  display: inline-block;\n",
       "}\n",
       "\n",
       ".xr-dim-list {\n",
       "  display: inline-block !important;\n",
       "  list-style: none;\n",
       "  padding: 0 !important;\n",
       "  margin: 0;\n",
       "}\n",
       "\n",
       ".xr-dim-list li {\n",
       "  display: inline-block;\n",
       "  padding: 0;\n",
       "  margin: 0;\n",
       "}\n",
       "\n",
       ".xr-dim-list:before {\n",
       "  content: '(';\n",
       "}\n",
       "\n",
       ".xr-dim-list:after {\n",
       "  content: ')';\n",
       "}\n",
       "\n",
       ".xr-dim-list li:not(:last-child):after {\n",
       "  content: ',';\n",
       "  padding-right: 5px;\n",
       "}\n",
       "\n",
       ".xr-has-index {\n",
       "  font-weight: bold;\n",
       "}\n",
       "\n",
       ".xr-var-list,\n",
       ".xr-var-item {\n",
       "  display: contents;\n",
       "}\n",
       "\n",
       ".xr-var-item > div,\n",
       ".xr-var-item label,\n",
       ".xr-var-item > .xr-var-name span {\n",
       "  background-color: var(--xr-background-color-row-even);\n",
       "  margin-bottom: 0;\n",
       "}\n",
       "\n",
       ".xr-var-item > .xr-var-name:hover span {\n",
       "  padding-right: 5px;\n",
       "}\n",
       "\n",
       ".xr-var-list > li:nth-child(odd) > div,\n",
       ".xr-var-list > li:nth-child(odd) > label,\n",
       ".xr-var-list > li:nth-child(odd) > .xr-var-name span {\n",
       "  background-color: var(--xr-background-color-row-odd);\n",
       "}\n",
       "\n",
       ".xr-var-name {\n",
       "  grid-column: 1;\n",
       "}\n",
       "\n",
       ".xr-var-dims {\n",
       "  grid-column: 2;\n",
       "}\n",
       "\n",
       ".xr-var-dtype {\n",
       "  grid-column: 3;\n",
       "  text-align: right;\n",
       "  color: var(--xr-font-color2);\n",
       "}\n",
       "\n",
       ".xr-var-preview {\n",
       "  grid-column: 4;\n",
       "}\n",
       "\n",
       ".xr-var-name,\n",
       ".xr-var-dims,\n",
       ".xr-var-dtype,\n",
       ".xr-preview,\n",
       ".xr-attrs dt {\n",
       "  white-space: nowrap;\n",
       "  overflow: hidden;\n",
       "  text-overflow: ellipsis;\n",
       "  padding-right: 10px;\n",
       "}\n",
       "\n",
       ".xr-var-name:hover,\n",
       ".xr-var-dims:hover,\n",
       ".xr-var-dtype:hover,\n",
       ".xr-attrs dt:hover {\n",
       "  overflow: visible;\n",
       "  width: auto;\n",
       "  z-index: 1;\n",
       "}\n",
       "\n",
       ".xr-var-attrs,\n",
       ".xr-var-data {\n",
       "  display: none;\n",
       "  background-color: var(--xr-background-color) !important;\n",
       "  padding-bottom: 5px !important;\n",
       "}\n",
       "\n",
       ".xr-var-attrs-in:checked ~ .xr-var-attrs,\n",
       ".xr-var-data-in:checked ~ .xr-var-data {\n",
       "  display: block;\n",
       "}\n",
       "\n",
       ".xr-var-data > table {\n",
       "  float: right;\n",
       "}\n",
       "\n",
       ".xr-var-name span,\n",
       ".xr-var-data,\n",
       ".xr-attrs {\n",
       "  padding-left: 25px !important;\n",
       "}\n",
       "\n",
       ".xr-attrs,\n",
       ".xr-var-attrs,\n",
       ".xr-var-data {\n",
       "  grid-column: 1 / -1;\n",
       "}\n",
       "\n",
       "dl.xr-attrs {\n",
       "  padding: 0;\n",
       "  margin: 0;\n",
       "  display: grid;\n",
       "  grid-template-columns: 125px auto;\n",
       "}\n",
       "\n",
       ".xr-attrs dt,\n",
       ".xr-attrs dd {\n",
       "  padding: 0;\n",
       "  margin: 0;\n",
       "  float: left;\n",
       "  padding-right: 10px;\n",
       "  width: auto;\n",
       "}\n",
       "\n",
       ".xr-attrs dt {\n",
       "  font-weight: normal;\n",
       "  grid-column: 1;\n",
       "}\n",
       "\n",
       ".xr-attrs dt:hover span {\n",
       "  display: inline-block;\n",
       "  background: var(--xr-background-color);\n",
       "  padding-right: 10px;\n",
       "}\n",
       "\n",
       ".xr-attrs dd {\n",
       "  grid-column: 2;\n",
       "  white-space: pre-wrap;\n",
       "  word-break: break-all;\n",
       "}\n",
       "\n",
       ".xr-icon-database,\n",
       ".xr-icon-file-text2 {\n",
       "  display: inline-block;\n",
       "  vertical-align: middle;\n",
       "  width: 1em;\n",
       "  height: 1.5em !important;\n",
       "  stroke-width: 0;\n",
       "  stroke: currentColor;\n",
       "  fill: currentColor;\n",
       "}\n",
       "</style><pre class='xr-text-repr-fallback'>&lt;xarray.Dataset&gt;\n",
       "Dimensions:                (num_conversions_dim_0: 1)\n",
       "Coordinates:\n",
       "  * num_conversions_dim_0  (num_conversions_dim_0) int64 0\n",
       "Data variables:\n",
       "    num_conversions        (num_conversions_dim_0) int64 294\n",
       "Attributes:\n",
       "    created_at:                 2022-05-01T00:34:07.276904\n",
       "    arviz_version:              0.12.0\n",
       "    inference_library:          pymc\n",
       "    inference_library_version:  4.0.0b5</pre><div class='xr-wrap' hidden><div class='xr-header'><div class='xr-obj-type'>xarray.Dataset</div></div><ul class='xr-sections'><li class='xr-section-item'><input id='section-e1e12765-af1c-472e-91ea-75b99ba3e79d' class='xr-section-summary-in' type='checkbox' disabled ><label for='section-e1e12765-af1c-472e-91ea-75b99ba3e79d' class='xr-section-summary'  title='Expand/collapse section'>Dimensions:</label><div class='xr-section-inline-details'><ul class='xr-dim-list'><li><span class='xr-has-index'>num_conversions_dim_0</span>: 1</li></ul></div><div class='xr-section-details'></div></li><li class='xr-section-item'><input id='section-82088670-82ec-4908-8c73-feaeca7fbdbd' class='xr-section-summary-in' type='checkbox'  checked><label for='section-82088670-82ec-4908-8c73-feaeca7fbdbd' class='xr-section-summary' >Coordinates: <span>(1)</span></label><div class='xr-section-inline-details'></div><div class='xr-section-details'><ul class='xr-var-list'><li class='xr-var-item'><div class='xr-var-name'><span class='xr-has-index'>num_conversions_dim_0</span></div><div class='xr-var-dims'>(num_conversions_dim_0)</div><div class='xr-var-dtype'>int64</div><div class='xr-var-preview xr-preview'>0</div><input id='attrs-a3062e37-7f16-45ff-9017-6b0642ce48f2' class='xr-var-attrs-in' type='checkbox' disabled><label for='attrs-a3062e37-7f16-45ff-9017-6b0642ce48f2' title='Show/Hide attributes'><svg class='icon xr-icon-file-text2'><use xlink:href='#icon-file-text2'></use></svg></label><input id='data-094eb0e5-8ce2-402d-a5ae-181b34273f11' class='xr-var-data-in' type='checkbox'><label for='data-094eb0e5-8ce2-402d-a5ae-181b34273f11' title='Show/Hide data repr'><svg class='icon xr-icon-database'><use xlink:href='#icon-database'></use></svg></label><div class='xr-var-attrs'><dl class='xr-attrs'></dl></div><div class='xr-var-data'><pre>array([0])</pre></div></li></ul></div></li><li class='xr-section-item'><input id='section-4c159859-d650-4aec-a59a-d1bee3130f54' class='xr-section-summary-in' type='checkbox'  checked><label for='section-4c159859-d650-4aec-a59a-d1bee3130f54' class='xr-section-summary' >Data variables: <span>(1)</span></label><div class='xr-section-inline-details'></div><div class='xr-section-details'><ul class='xr-var-list'><li class='xr-var-item'><div class='xr-var-name'><span>num_conversions</span></div><div class='xr-var-dims'>(num_conversions_dim_0)</div><div class='xr-var-dtype'>int64</div><div class='xr-var-preview xr-preview'>294</div><input id='attrs-8c03b6e2-8a79-43b0-bb80-bf4acf30c15b' class='xr-var-attrs-in' type='checkbox' disabled><label for='attrs-8c03b6e2-8a79-43b0-bb80-bf4acf30c15b' title='Show/Hide attributes'><svg class='icon xr-icon-file-text2'><use xlink:href='#icon-file-text2'></use></svg></label><input id='data-a514ec8c-682a-4531-b8ec-80cb9e70c8a6' class='xr-var-data-in' type='checkbox'><label for='data-a514ec8c-682a-4531-b8ec-80cb9e70c8a6' title='Show/Hide data repr'><svg class='icon xr-icon-database'><use xlink:href='#icon-database'></use></svg></label><div class='xr-var-attrs'><dl class='xr-attrs'></dl></div><div class='xr-var-data'><pre>array([294])</pre></div></li></ul></div></li><li class='xr-section-item'><input id='section-6fbee37e-5446-45a6-9995-bb2fb5cc17e4' class='xr-section-summary-in' type='checkbox'  checked><label for='section-6fbee37e-5446-45a6-9995-bb2fb5cc17e4' class='xr-section-summary' >Attributes: <span>(4)</span></label><div class='xr-section-inline-details'></div><div class='xr-section-details'><dl class='xr-attrs'><dt><span>created_at :</span></dt><dd>2022-05-01T00:34:07.276904</dd><dt><span>arviz_version :</span></dt><dd>0.12.0</dd><dt><span>inference_library :</span></dt><dd>pymc</dd><dt><span>inference_library_version :</span></dt><dd>4.0.0b5</dd></dl></div></li></ul></div></div><br></div>\n",
       "                      </ul>\n",
       "                  </div>\n",
       "            </li>\n",
       "            \n",
       "              </ul>\n",
       "            </div>\n",
       "            <style> /* CSS stylesheet for displaying InferenceData objects in jupyterlab.\n",
       " *\n",
       " */\n",
       "\n",
       ":root {\n",
       "  --xr-font-color0: var(--jp-content-font-color0, rgba(0, 0, 0, 1));\n",
       "  --xr-font-color2: var(--jp-content-font-color2, rgba(0, 0, 0, 0.54));\n",
       "  --xr-font-color3: var(--jp-content-font-color3, rgba(0, 0, 0, 0.38));\n",
       "  --xr-border-color: var(--jp-border-color2, #e0e0e0);\n",
       "  --xr-disabled-color: var(--jp-layout-color3, #bdbdbd);\n",
       "  --xr-background-color: var(--jp-layout-color0, white);\n",
       "  --xr-background-color-row-even: var(--jp-layout-color1, white);\n",
       "  --xr-background-color-row-odd: var(--jp-layout-color2, #eeeeee);\n",
       "}\n",
       "\n",
       "html[theme=dark],\n",
       "body.vscode-dark {\n",
       "  --xr-font-color0: rgba(255, 255, 255, 1);\n",
       "  --xr-font-color2: rgba(255, 255, 255, 0.54);\n",
       "  --xr-font-color3: rgba(255, 255, 255, 0.38);\n",
       "  --xr-border-color: #1F1F1F;\n",
       "  --xr-disabled-color: #515151;\n",
       "  --xr-background-color: #111111;\n",
       "  --xr-background-color-row-even: #111111;\n",
       "  --xr-background-color-row-odd: #313131;\n",
       "}\n",
       "\n",
       ".xr-wrap {\n",
       "  display: block;\n",
       "  min-width: 300px;\n",
       "  max-width: 700px;\n",
       "}\n",
       "\n",
       ".xr-text-repr-fallback {\n",
       "  /* fallback to plain text repr when CSS is not injected (untrusted notebook) */\n",
       "  display: none;\n",
       "}\n",
       "\n",
       ".xr-header {\n",
       "  padding-top: 6px;\n",
       "  padding-bottom: 6px;\n",
       "  margin-bottom: 4px;\n",
       "  border-bottom: solid 1px var(--xr-border-color);\n",
       "}\n",
       "\n",
       ".xr-header > div,\n",
       ".xr-header > ul {\n",
       "  display: inline;\n",
       "  margin-top: 0;\n",
       "  margin-bottom: 0;\n",
       "}\n",
       "\n",
       ".xr-obj-type,\n",
       ".xr-array-name {\n",
       "  margin-left: 2px;\n",
       "  margin-right: 10px;\n",
       "}\n",
       "\n",
       ".xr-obj-type {\n",
       "  color: var(--xr-font-color2);\n",
       "}\n",
       "\n",
       ".xr-sections {\n",
       "  padding-left: 0 !important;\n",
       "  display: grid;\n",
       "  grid-template-columns: 150px auto auto 1fr 20px 20px;\n",
       "}\n",
       "\n",
       ".xr-sections.group-sections {\n",
       "  grid-template-columns: auto;\n",
       "}\n",
       "\n",
       ".xr-section-item {\n",
       "  display: contents;\n",
       "}\n",
       "\n",
       ".xr-section-item input {\n",
       "  display: none;\n",
       "}\n",
       "\n",
       ".xr-section-item input + label {\n",
       "  color: var(--xr-disabled-color);\n",
       "}\n",
       "\n",
       ".xr-section-item input:enabled + label {\n",
       "  cursor: pointer;\n",
       "  color: var(--xr-font-color2);\n",
       "}\n",
       "\n",
       ".xr-section-item input:enabled + label:hover {\n",
       "  color: var(--xr-font-color0);\n",
       "}\n",
       "\n",
       ".xr-section-summary {\n",
       "  grid-column: 1;\n",
       "  color: var(--xr-font-color2);\n",
       "  font-weight: 500;\n",
       "}\n",
       "\n",
       ".xr-section-summary > span {\n",
       "  display: inline-block;\n",
       "  padding-left: 0.5em;\n",
       "}\n",
       "\n",
       ".xr-section-summary-in:disabled + label {\n",
       "  color: var(--xr-font-color2);\n",
       "}\n",
       "\n",
       ".xr-section-summary-in + label:before {\n",
       "  display: inline-block;\n",
       "  content: '►';\n",
       "  font-size: 11px;\n",
       "  width: 15px;\n",
       "  text-align: center;\n",
       "}\n",
       "\n",
       ".xr-section-summary-in:disabled + label:before {\n",
       "  color: var(--xr-disabled-color);\n",
       "}\n",
       "\n",
       ".xr-section-summary-in:checked + label:before {\n",
       "  content: '▼';\n",
       "}\n",
       "\n",
       ".xr-section-summary-in:checked + label > span {\n",
       "  display: none;\n",
       "}\n",
       "\n",
       ".xr-section-summary,\n",
       ".xr-section-inline-details {\n",
       "  padding-top: 4px;\n",
       "  padding-bottom: 4px;\n",
       "}\n",
       "\n",
       ".xr-section-inline-details {\n",
       "  grid-column: 2 / -1;\n",
       "}\n",
       "\n",
       ".xr-section-details {\n",
       "  display: none;\n",
       "  grid-column: 1 / -1;\n",
       "  margin-bottom: 5px;\n",
       "}\n",
       "\n",
       ".xr-section-summary-in:checked ~ .xr-section-details {\n",
       "  display: contents;\n",
       "}\n",
       "\n",
       ".xr-array-wrap {\n",
       "  grid-column: 1 / -1;\n",
       "  display: grid;\n",
       "  grid-template-columns: 20px auto;\n",
       "}\n",
       "\n",
       ".xr-array-wrap > label {\n",
       "  grid-column: 1;\n",
       "  vertical-align: top;\n",
       "}\n",
       "\n",
       ".xr-preview {\n",
       "  color: var(--xr-font-color3);\n",
       "}\n",
       "\n",
       ".xr-array-preview,\n",
       ".xr-array-data {\n",
       "  padding: 0 5px !important;\n",
       "  grid-column: 2;\n",
       "}\n",
       "\n",
       ".xr-array-data,\n",
       ".xr-array-in:checked ~ .xr-array-preview {\n",
       "  display: none;\n",
       "}\n",
       "\n",
       ".xr-array-in:checked ~ .xr-array-data,\n",
       ".xr-array-preview {\n",
       "  display: inline-block;\n",
       "}\n",
       "\n",
       ".xr-dim-list {\n",
       "  display: inline-block !important;\n",
       "  list-style: none;\n",
       "  padding: 0 !important;\n",
       "  margin: 0;\n",
       "}\n",
       "\n",
       ".xr-dim-list li {\n",
       "  display: inline-block;\n",
       "  padding: 0;\n",
       "  margin: 0;\n",
       "}\n",
       "\n",
       ".xr-dim-list:before {\n",
       "  content: '(';\n",
       "}\n",
       "\n",
       ".xr-dim-list:after {\n",
       "  content: ')';\n",
       "}\n",
       "\n",
       ".xr-dim-list li:not(:last-child):after {\n",
       "  content: ',';\n",
       "  padding-right: 5px;\n",
       "}\n",
       "\n",
       ".xr-has-index {\n",
       "  font-weight: bold;\n",
       "}\n",
       "\n",
       ".xr-var-list,\n",
       ".xr-var-item {\n",
       "  display: contents;\n",
       "}\n",
       "\n",
       ".xr-var-item > div,\n",
       ".xr-var-item label,\n",
       ".xr-var-item > .xr-var-name span {\n",
       "  background-color: var(--xr-background-color-row-even);\n",
       "  margin-bottom: 0;\n",
       "}\n",
       "\n",
       ".xr-var-item > .xr-var-name:hover span {\n",
       "  padding-right: 5px;\n",
       "}\n",
       "\n",
       ".xr-var-list > li:nth-child(odd) > div,\n",
       ".xr-var-list > li:nth-child(odd) > label,\n",
       ".xr-var-list > li:nth-child(odd) > .xr-var-name span {\n",
       "  background-color: var(--xr-background-color-row-odd);\n",
       "}\n",
       "\n",
       ".xr-var-name {\n",
       "  grid-column: 1;\n",
       "}\n",
       "\n",
       ".xr-var-dims {\n",
       "  grid-column: 2;\n",
       "}\n",
       "\n",
       ".xr-var-dtype {\n",
       "  grid-column: 3;\n",
       "  text-align: right;\n",
       "  color: var(--xr-font-color2);\n",
       "}\n",
       "\n",
       ".xr-var-preview {\n",
       "  grid-column: 4;\n",
       "}\n",
       "\n",
       ".xr-var-name,\n",
       ".xr-var-dims,\n",
       ".xr-var-dtype,\n",
       ".xr-preview,\n",
       ".xr-attrs dt {\n",
       "  white-space: nowrap;\n",
       "  overflow: hidden;\n",
       "  text-overflow: ellipsis;\n",
       "  padding-right: 10px;\n",
       "}\n",
       "\n",
       ".xr-var-name:hover,\n",
       ".xr-var-dims:hover,\n",
       ".xr-var-dtype:hover,\n",
       ".xr-attrs dt:hover {\n",
       "  overflow: visible;\n",
       "  width: auto;\n",
       "  z-index: 1;\n",
       "}\n",
       "\n",
       ".xr-var-attrs,\n",
       ".xr-var-data {\n",
       "  display: none;\n",
       "  background-color: var(--xr-background-color) !important;\n",
       "  padding-bottom: 5px !important;\n",
       "}\n",
       "\n",
       ".xr-var-attrs-in:checked ~ .xr-var-attrs,\n",
       ".xr-var-data-in:checked ~ .xr-var-data {\n",
       "  display: block;\n",
       "}\n",
       "\n",
       ".xr-var-data > table {\n",
       "  float: right;\n",
       "}\n",
       "\n",
       ".xr-var-name span,\n",
       ".xr-var-data,\n",
       ".xr-attrs {\n",
       "  padding-left: 25px !important;\n",
       "}\n",
       "\n",
       ".xr-attrs,\n",
       ".xr-var-attrs,\n",
       ".xr-var-data {\n",
       "  grid-column: 1 / -1;\n",
       "}\n",
       "\n",
       "dl.xr-attrs {\n",
       "  padding: 0;\n",
       "  margin: 0;\n",
       "  display: grid;\n",
       "  grid-template-columns: 125px auto;\n",
       "}\n",
       "\n",
       ".xr-attrs dt, dd {\n",
       "  padding: 0;\n",
       "  margin: 0;\n",
       "  float: left;\n",
       "  padding-right: 10px;\n",
       "  width: auto;\n",
       "}\n",
       "\n",
       ".xr-attrs dt {\n",
       "  font-weight: normal;\n",
       "  grid-column: 1;\n",
       "}\n",
       "\n",
       ".xr-attrs dt:hover span {\n",
       "  display: inline-block;\n",
       "  background: var(--xr-background-color);\n",
       "  padding-right: 10px;\n",
       "}\n",
       "\n",
       ".xr-attrs dd {\n",
       "  grid-column: 2;\n",
       "  white-space: pre-wrap;\n",
       "  word-break: break-all;\n",
       "}\n",
       "\n",
       ".xr-icon-database,\n",
       ".xr-icon-file-text2 {\n",
       "  display: inline-block;\n",
       "  vertical-align: middle;\n",
       "  width: 1em;\n",
       "  height: 1.5em !important;\n",
       "  stroke-width: 0;\n",
       "  stroke: currentColor;\n",
       "  fill: currentColor;\n",
       "}\n",
       ".xr-wrap{width:700px!important;} </style>"
      ],
      "text/plain": [
       "Inference data with groups:\n",
       "\t> prior\n",
       "\t> prior_predictive\n",
       "\t> observed_data"
      ]
     },
     "execution_count": 23,
     "metadata": {},
     "output_type": "execute_result"
    }
   ],
   "source": [
    "# Live coded in the recording\n",
    "prior_a"
   ]
  },
  {
   "cell_type": "markdown",
   "id": "656dc4f7",
   "metadata": {
    "slideshow": {
     "slide_type": "notes"
    }
   },
   "source": [
    "How do we show what our beliefs are in data space before we see any data? That's the prior predictive.\n",
    "\n",
    "Let's use PyMC to generate this its quite easy its only one line. Note we don't even need to sample posterior, remember this is the distribution *before* we incorporate any data.\n",
    "\n",
    "Aside from the mathematics of a prior predictive another great feature of the prior predictive is that it helps us check if our model is specified correctly. Let's try running this\n",
    "\n",
    "Oops theres an error in the model specification, did you catch it? We accidentally flipped the input parameters to our binomial likelihood. Good thing we caught it early."
   ]
  },
  {
   "cell_type": "markdown",
   "id": "2257890e",
   "metadata": {
    "slideshow": {
     "slide_type": "slide"
    }
   },
   "source": [
    "## Plotting our Prior predictive"
   ]
  },
  {
   "cell_type": "code",
   "execution_count": 31,
   "id": "4fc02bc9",
   "metadata": {},
   "outputs": [
    {
     "data": {
      "image/png": "[encoded data removed]",
      "text/plain": [
       "<Figure size 1152x432 with 2 Axes>"
      ]
     },
     "metadata": {
      "needs_background": "light"
     },
     "output_type": "display_data"
    }
   ],
   "source": [
    "fig, axes = plt.subplots(2, 1, figsize=(16, 6), sharex=False)\n",
    "az.plot_dist(prior_a.prior[\"conversion_rate\"], ax=axes[0])\n",
    "axes[0].set(\n",
    "    xlabel=\"Parameter Space: Prior conversion rate\",\n",
    "    ylabel=\"Plausibility\",\n",
    "    title=\"Prior Check\",\n",
    ")\n",
    "\n",
    "az.plot_dist(prior_a.prior_predictive[\"num_conversions\"], ax=axes[1])\n",
    "axes[1].set(\n",
    "    xlabel=\"Data Space: Num Conversions expected prior to seeing data\",\n",
    "    ylabel=\"Plausibility\",\n",
    "    title=\"Prior Predictive Check\",\n",
    ")\n",
    "\n",
    "fig.tight_layout();"
   ]
  },
  {
   "cell_type": "markdown",
   "id": "6829c436",
   "metadata": {
    "slideshow": {
     "slide_type": "notes"
    }
   },
   "source": [
    "Alright now we have our prior distribution and prior predictive. The top plot shows our prior belief in parameter space. We acn see most of the distribution mass is between 0 and 50% and there isn't much and the bottom shows it in data space, perfect for discussions with your boss who doesn't understand the Bayesian Matrix as well as you do.\n"
   ]
  },
  {
   "cell_type": "markdown",
   "id": "8a8efff9",
   "metadata": {},
   "source": [
    "## Posterior Predictive Distribution"
   ]
  },
  {
   "cell_type": "code",
   "execution_count": 65,
   "id": "198d782d",
   "metadata": {},
   "outputs": [],
   "source": [
    "# Simulate Data\n",
    "np.random.seed(3)\n",
    "n_visitors = 1000\n",
    "conversion_rate=.3\n",
    "\n",
    "# Simulate 1000 visits\n",
    "observed_visits = stats.bernoulli(p=conversion_rate).rvs(n_visitors)\n",
    "observed_conversions = observed_visits.sum()"
   ]
  },
  {
   "cell_type": "code",
   "execution_count": 66,
   "id": "61e1c1f1",
   "metadata": {},
   "outputs": [
    {
     "name": "stderr",
     "output_type": "stream",
     "text": [
      "Auto-assigning NUTS sampler...\n",
      "Initializing NUTS using jitter+adapt_diag...\n",
      "Multiprocess sampling (4 chains in 4 jobs)\n",
      "NUTS: [conversion_rate]\n"
     ]
    },
    {
     "data": {
      "text/html": [
       "\n",
       "    <div>\n",
       "        <style>\n",
       "            /* Turns off some styling */\n",
       "            progress {\n",
       "                /* gets rid of default border in Firefox and Opera. */\n",
       "                border: none;\n",
       "                /* Needs to be in here for Safari polyfill so background images work as expected. */\n",
       "                background-size: auto;\n",
       "            }\n",
       "            .progress-bar-interrupted, .progress-bar-interrupted::-webkit-progress-bar {\n",
       "                background: #F44336;\n",
       "            }\n",
       "        </style>\n",
       "      <progress value='8000' class='' max='8000' style='width:300px; height:20px; vertical-align: middle;'></progress>\n",
       "      100.00% [8000/8000 00:01<00:00 Sampling 4 chains, 0 divergences]\n",
       "    </div>\n",
       "    "
      ],
      "text/plain": [
       "<IPython.core.display.HTML object>"
      ]
     },
     "metadata": {},
     "output_type": "display_data"
    },
    {
     "name": "stderr",
     "output_type": "stream",
     "text": [
      "Sampling 4 chains for 1_000 tune and 1_000 draw iterations (4_000 + 4_000 draws total) took 1 seconds.\n"
     ]
    },
    {
     "data": {
      "text/html": [
       "\n",
       "    <div>\n",
       "        <style>\n",
       "            /* Turns off some styling */\n",
       "            progress {\n",
       "                /* gets rid of default border in Firefox and Opera. */\n",
       "                border: none;\n",
       "                /* Needs to be in here for Safari polyfill so background images work as expected. */\n",
       "                background-size: auto;\n",
       "            }\n",
       "            .progress-bar-interrupted, .progress-bar-interrupted::-webkit-progress-bar {\n",
       "                background: #F44336;\n",
       "            }\n",
       "        </style>\n",
       "      <progress value='4000' class='' max='4000' style='width:300px; height:20px; vertical-align: middle;'></progress>\n",
       "      100.00% [4000/4000 00:00<00:00]\n",
       "    </div>\n",
       "    "
      ],
      "text/plain": [
       "<IPython.core.display.HTML object>"
      ]
     },
     "metadata": {},
     "output_type": "display_data"
    }
   ],
   "source": [
    "with pm.Model() as ab_test_model:\n",
    "    \n",
    "    # parameter we want to infer with prior\n",
    "    conversion_rate = pm.Beta(\"conversion_rate\", 2, 10)\n",
    "\n",
    "    \n",
    "    # Connection between parameter and observations\n",
    "    likelihood = pm.Binomial(\"num_conversions\", \n",
    "                                p=conversion_rate, \n",
    "                                n=n_visitors,\n",
    "                                observed=observed_conversions)\n",
    "    \n",
    "    prior_a = pm.sample_prior_predictive(samples=10000)\n",
    "\n",
    "    # The magic inference Button\n",
    "    idata = pm.sample()\n",
    "    idata.extend(prior_a)\n",
    "    \n",
    "    # Posterior Predictive\n",
    "    idata.extend(pm.sample_posterior_predictive(idata))"
   ]
  },
  {
   "cell_type": "markdown",
   "id": "a0315c06",
   "metadata": {
    "slideshow": {
     "slide_type": "notes"
    }
   },
   "source": [
    "The posterior predictive, as the name implies, uses the posterior to predict the future. We only need to add one extra line to generate a posterior predictive. Note how we pass in the idata which contains the posterior samples, unlike the prior predictive. \n",
    "\n",
    "This is because we need our posterior distribution for these prediction "
   ]
  },
  {
   "cell_type": "markdown",
   "id": "b0ddd9c9",
   "metadata": {},
   "source": [
    "## Posterior Predictive Arrays"
   ]
  },
  {
   "cell_type": "code",
   "execution_count": 67,
   "id": "721c6ead",
   "metadata": {},
   "outputs": [
    {
     "data": {
      "text/html": [
       "<div><svg style=\"position: absolute; width: 0; height: 0; overflow: hidden\">\n",
       "<defs>\n",
       "<symbol id=\"icon-database\" viewBox=\"0 0 32 32\">\n",
       "<path d=\"M16 0c-8.837 0-16 2.239-16 5v4c0 2.761 7.163 5 16 5s16-2.239 16-5v-4c0-2.761-7.163-5-16-5z\"></path>\n",
       "<path d=\"M16 17c-8.837 0-16-2.239-16-5v6c0 2.761 7.163 5 16 5s16-2.239 16-5v-6c0 2.761-7.163 5-16 5z\"></path>\n",
       "<path d=\"M16 26c-8.837 0-16-2.239-16-5v6c0 2.761 7.163 5 16 5s16-2.239 16-5v-6c0 2.761-7.163 5-16 5z\"></path>\n",
       "</symbol>\n",
       "<symbol id=\"icon-file-text2\" viewBox=\"0 0 32 32\">\n",
       "<path d=\"M28.681 7.159c-0.694-0.947-1.662-2.053-2.724-3.116s-2.169-2.030-3.116-2.724c-1.612-1.182-2.393-1.319-2.841-1.319h-15.5c-1.378 0-2.5 1.121-2.5 2.5v27c0 1.378 1.122 2.5 2.5 2.5h23c1.378 0 2.5-1.122 2.5-2.5v-19.5c0-0.448-0.137-1.23-1.319-2.841zM24.543 5.457c0.959 0.959 1.712 1.825 2.268 2.543h-4.811v-4.811c0.718 0.556 1.584 1.309 2.543 2.268zM28 29.5c0 0.271-0.229 0.5-0.5 0.5h-23c-0.271 0-0.5-0.229-0.5-0.5v-27c0-0.271 0.229-0.5 0.5-0.5 0 0 15.499-0 15.5 0v7c0 0.552 0.448 1 1 1h7v19.5z\"></path>\n",
       "<path d=\"M23 26h-14c-0.552 0-1-0.448-1-1s0.448-1 1-1h14c0.552 0 1 0.448 1 1s-0.448 1-1 1z\"></path>\n",
       "<path d=\"M23 22h-14c-0.552 0-1-0.448-1-1s0.448-1 1-1h14c0.552 0 1 0.448 1 1s-0.448 1-1 1z\"></path>\n",
       "<path d=\"M23 18h-14c-0.552 0-1-0.448-1-1s0.448-1 1-1h14c0.552 0 1 0.448 1 1s-0.448 1-1 1z\"></path>\n",
       "</symbol>\n",
       "</defs>\n",
       "</svg>\n",
       "<style>/* CSS stylesheet for displaying xarray objects in jupyterlab.\n",
       " *\n",
       " */\n",
       "\n",
       ":root {\n",
       "  --xr-font-color0: var(--jp-content-font-color0, rgba(0, 0, 0, 1));\n",
       "  --xr-font-color2: var(--jp-content-font-color2, rgba(0, 0, 0, 0.54));\n",
       "  --xr-font-color3: var(--jp-content-font-color3, rgba(0, 0, 0, 0.38));\n",
       "  --xr-border-color: var(--jp-border-color2, #e0e0e0);\n",
       "  --xr-disabled-color: var(--jp-layout-color3, #bdbdbd);\n",
       "  --xr-background-color: var(--jp-layout-color0, white);\n",
       "  --xr-background-color-row-even: var(--jp-layout-color1, white);\n",
       "  --xr-background-color-row-odd: var(--jp-layout-color2, #eeeeee);\n",
       "}\n",
       "\n",
       "html[theme=dark],\n",
       "body.vscode-dark {\n",
       "  --xr-font-color0: rgba(255, 255, 255, 1);\n",
       "  --xr-font-color2: rgba(255, 255, 255, 0.54);\n",
       "  --xr-font-color3: rgba(255, 255, 255, 0.38);\n",
       "  --xr-border-color: #1F1F1F;\n",
       "  --xr-disabled-color: #515151;\n",
       "  --xr-background-color: #111111;\n",
       "  --xr-background-color-row-even: #111111;\n",
       "  --xr-background-color-row-odd: #313131;\n",
       "}\n",
       "\n",
       ".xr-wrap {\n",
       "  display: block;\n",
       "  min-width: 300px;\n",
       "  max-width: 700px;\n",
       "}\n",
       "\n",
       ".xr-text-repr-fallback {\n",
       "  /* fallback to plain text repr when CSS is not injected (untrusted notebook) */\n",
       "  display: none;\n",
       "}\n",
       "\n",
       ".xr-header {\n",
       "  padding-top: 6px;\n",
       "  padding-bottom: 6px;\n",
       "  margin-bottom: 4px;\n",
       "  border-bottom: solid 1px var(--xr-border-color);\n",
       "}\n",
       "\n",
       ".xr-header > div,\n",
       ".xr-header > ul {\n",
       "  display: inline;\n",
       "  margin-top: 0;\n",
       "  margin-bottom: 0;\n",
       "}\n",
       "\n",
       ".xr-obj-type,\n",
       ".xr-array-name {\n",
       "  margin-left: 2px;\n",
       "  margin-right: 10px;\n",
       "}\n",
       "\n",
       ".xr-obj-type {\n",
       "  color: var(--xr-font-color2);\n",
       "}\n",
       "\n",
       ".xr-sections {\n",
       "  padding-left: 0 !important;\n",
       "  display: grid;\n",
       "  grid-template-columns: 150px auto auto 1fr 20px 20px;\n",
       "}\n",
       "\n",
       ".xr-section-item {\n",
       "  display: contents;\n",
       "}\n",
       "\n",
       ".xr-section-item input {\n",
       "  display: none;\n",
       "}\n",
       "\n",
       ".xr-section-item input + label {\n",
       "  color: var(--xr-disabled-color);\n",
       "}\n",
       "\n",
       ".xr-section-item input:enabled + label {\n",
       "  cursor: pointer;\n",
       "  color: var(--xr-font-color2);\n",
       "}\n",
       "\n",
       ".xr-section-item input:enabled + label:hover {\n",
       "  color: var(--xr-font-color0);\n",
       "}\n",
       "\n",
       ".xr-section-summary {\n",
       "  grid-column: 1;\n",
       "  color: var(--xr-font-color2);\n",
       "  font-weight: 500;\n",
       "}\n",
       "\n",
       ".xr-section-summary > span {\n",
       "  display: inline-block;\n",
       "  padding-left: 0.5em;\n",
       "}\n",
       "\n",
       ".xr-section-summary-in:disabled + label {\n",
       "  color: var(--xr-font-color2);\n",
       "}\n",
       "\n",
       ".xr-section-summary-in + label:before {\n",
       "  display: inline-block;\n",
       "  content: '►';\n",
       "  font-size: 11px;\n",
       "  width: 15px;\n",
       "  text-align: center;\n",
       "}\n",
       "\n",
       ".xr-section-summary-in:disabled + label:before {\n",
       "  color: var(--xr-disabled-color);\n",
       "}\n",
       "\n",
       ".xr-section-summary-in:checked + label:before {\n",
       "  content: '▼';\n",
       "}\n",
       "\n",
       ".xr-section-summary-in:checked + label > span {\n",
       "  display: none;\n",
       "}\n",
       "\n",
       ".xr-section-summary,\n",
       ".xr-section-inline-details {\n",
       "  padding-top: 4px;\n",
       "  padding-bottom: 4px;\n",
       "}\n",
       "\n",
       ".xr-section-inline-details {\n",
       "  grid-column: 2 / -1;\n",
       "}\n",
       "\n",
       ".xr-section-details {\n",
       "  display: none;\n",
       "  grid-column: 1 / -1;\n",
       "  margin-bottom: 5px;\n",
       "}\n",
       "\n",
       ".xr-section-summary-in:checked ~ .xr-section-details {\n",
       "  display: contents;\n",
       "}\n",
       "\n",
       ".xr-array-wrap {\n",
       "  grid-column: 1 / -1;\n",
       "  display: grid;\n",
       "  grid-template-columns: 20px auto;\n",
       "}\n",
       "\n",
       ".xr-array-wrap > label {\n",
       "  grid-column: 1;\n",
       "  vertical-align: top;\n",
       "}\n",
       "\n",
       ".xr-preview {\n",
       "  color: var(--xr-font-color3);\n",
       "}\n",
       "\n",
       ".xr-array-preview,\n",
       ".xr-array-data {\n",
       "  padding: 0 5px !important;\n",
       "  grid-column: 2;\n",
       "}\n",
       "\n",
       ".xr-array-data,\n",
       ".xr-array-in:checked ~ .xr-array-preview {\n",
       "  display: none;\n",
       "}\n",
       "\n",
       ".xr-array-in:checked ~ .xr-array-data,\n",
       ".xr-array-preview {\n",
       "  display: inline-block;\n",
       "}\n",
       "\n",
       ".xr-dim-list {\n",
       "  display: inline-block !important;\n",
       "  list-style: none;\n",
       "  padding: 0 !important;\n",
       "  margin: 0;\n",
       "}\n",
       "\n",
       ".xr-dim-list li {\n",
       "  display: inline-block;\n",
       "  padding: 0;\n",
       "  margin: 0;\n",
       "}\n",
       "\n",
       ".xr-dim-list:before {\n",
       "  content: '(';\n",
       "}\n",
       "\n",
       ".xr-dim-list:after {\n",
       "  content: ')';\n",
       "}\n",
       "\n",
       ".xr-dim-list li:not(:last-child):after {\n",
       "  content: ',';\n",
       "  padding-right: 5px;\n",
       "}\n",
       "\n",
       ".xr-has-index {\n",
       "  font-weight: bold;\n",
       "}\n",
       "\n",
       ".xr-var-list,\n",
       ".xr-var-item {\n",
       "  display: contents;\n",
       "}\n",
       "\n",
       ".xr-var-item > div,\n",
       ".xr-var-item label,\n",
       ".xr-var-item > .xr-var-name span {\n",
       "  background-color: var(--xr-background-color-row-even);\n",
       "  margin-bottom: 0;\n",
       "}\n",
       "\n",
       ".xr-var-item > .xr-var-name:hover span {\n",
       "  padding-right: 5px;\n",
       "}\n",
       "\n",
       ".xr-var-list > li:nth-child(odd) > div,\n",
       ".xr-var-list > li:nth-child(odd) > label,\n",
       ".xr-var-list > li:nth-child(odd) > .xr-var-name span {\n",
       "  background-color: var(--xr-background-color-row-odd);\n",
       "}\n",
       "\n",
       ".xr-var-name {\n",
       "  grid-column: 1;\n",
       "}\n",
       "\n",
       ".xr-var-dims {\n",
       "  grid-column: 2;\n",
       "}\n",
       "\n",
       ".xr-var-dtype {\n",
       "  grid-column: 3;\n",
       "  text-align: right;\n",
       "  color: var(--xr-font-color2);\n",
       "}\n",
       "\n",
       ".xr-var-preview {\n",
       "  grid-column: 4;\n",
       "}\n",
       "\n",
       ".xr-var-name,\n",
       ".xr-var-dims,\n",
       ".xr-var-dtype,\n",
       ".xr-preview,\n",
       ".xr-attrs dt {\n",
       "  white-space: nowrap;\n",
       "  overflow: hidden;\n",
       "  text-overflow: ellipsis;\n",
       "  padding-right: 10px;\n",
       "}\n",
       "\n",
       ".xr-var-name:hover,\n",
       ".xr-var-dims:hover,\n",
       ".xr-var-dtype:hover,\n",
       ".xr-attrs dt:hover {\n",
       "  overflow: visible;\n",
       "  width: auto;\n",
       "  z-index: 1;\n",
       "}\n",
       "\n",
       ".xr-var-attrs,\n",
       ".xr-var-data {\n",
       "  display: none;\n",
       "  background-color: var(--xr-background-color) !important;\n",
       "  padding-bottom: 5px !important;\n",
       "}\n",
       "\n",
       ".xr-var-attrs-in:checked ~ .xr-var-attrs,\n",
       ".xr-var-data-in:checked ~ .xr-var-data {\n",
       "  display: block;\n",
       "}\n",
       "\n",
       ".xr-var-data > table {\n",
       "  float: right;\n",
       "}\n",
       "\n",
       ".xr-var-name span,\n",
       ".xr-var-data,\n",
       ".xr-attrs {\n",
       "  padding-left: 25px !important;\n",
       "}\n",
       "\n",
       ".xr-attrs,\n",
       ".xr-var-attrs,\n",
       ".xr-var-data {\n",
       "  grid-column: 1 / -1;\n",
       "}\n",
       "\n",
       "dl.xr-attrs {\n",
       "  padding: 0;\n",
       "  margin: 0;\n",
       "  display: grid;\n",
       "  grid-template-columns: 125px auto;\n",
       "}\n",
       "\n",
       ".xr-attrs dt,\n",
       ".xr-attrs dd {\n",
       "  padding: 0;\n",
       "  margin: 0;\n",
       "  float: left;\n",
       "  padding-right: 10px;\n",
       "  width: auto;\n",
       "}\n",
       "\n",
       ".xr-attrs dt {\n",
       "  font-weight: normal;\n",
       "  grid-column: 1;\n",
       "}\n",
       "\n",
       ".xr-attrs dt:hover span {\n",
       "  display: inline-block;\n",
       "  background: var(--xr-background-color);\n",
       "  padding-right: 10px;\n",
       "}\n",
       "\n",
       ".xr-attrs dd {\n",
       "  grid-column: 2;\n",
       "  white-space: pre-wrap;\n",
       "  word-break: break-all;\n",
       "}\n",
       "\n",
       ".xr-icon-database,\n",
       ".xr-icon-file-text2 {\n",
       "  display: inline-block;\n",
       "  vertical-align: middle;\n",
       "  width: 1em;\n",
       "  height: 1.5em !important;\n",
       "  stroke-width: 0;\n",
       "  stroke: currentColor;\n",
       "  fill: currentColor;\n",
       "}\n",
       "</style><pre class='xr-text-repr-fallback'>&lt;xarray.DataArray &#x27;num_conversions&#x27; (chain: 4, draw: 1000)&gt;\n",
       "array([[285, 279, 298, ..., 268, 324, 292],\n",
       "       [273, 253, 295, ..., 334, 306, 309],\n",
       "       [306, 270, 285, ..., 276, 296, 303],\n",
       "       [314, 317, 275, ..., 319, 313, 292]])\n",
       "Coordinates:\n",
       "  * chain    (chain) int64 0 1 2 3\n",
       "  * draw     (draw) int64 0 1 2 3 4 5 6 7 8 ... 992 993 994 995 996 997 998 999</pre><div class='xr-wrap' hidden><div class='xr-header'><div class='xr-obj-type'>xarray.DataArray</div><div class='xr-array-name'>'num_conversions'</div><ul class='xr-dim-list'><li><span class='xr-has-index'>chain</span>: 4</li><li><span class='xr-has-index'>draw</span>: 1000</li></ul></div><ul class='xr-sections'><li class='xr-section-item'><div class='xr-array-wrap'><input id='section-43994bbc-c917-4854-a437-2e2d5534e839' class='xr-array-in' type='checkbox' checked><label for='section-43994bbc-c917-4854-a437-2e2d5534e839' title='Show/hide data repr'><svg class='icon xr-icon-database'><use xlink:href='#icon-database'></use></svg></label><div class='xr-array-preview xr-preview'><span>285 279 298 264 283 319 262 288 ... 308 261 288 263 301 319 313 292</span></div><div class='xr-array-data'><pre>array([[285, 279, 298, ..., 268, 324, 292],\n",
       "       [273, 253, 295, ..., 334, 306, 309],\n",
       "       [306, 270, 285, ..., 276, 296, 303],\n",
       "       [314, 317, 275, ..., 319, 313, 292]])</pre></div></div></li><li class='xr-section-item'><input id='section-5391c279-6fdc-449b-bdf8-a310add41629' class='xr-section-summary-in' type='checkbox'  checked><label for='section-5391c279-6fdc-449b-bdf8-a310add41629' class='xr-section-summary' >Coordinates: <span>(2)</span></label><div class='xr-section-inline-details'></div><div class='xr-section-details'><ul class='xr-var-list'><li class='xr-var-item'><div class='xr-var-name'><span class='xr-has-index'>chain</span></div><div class='xr-var-dims'>(chain)</div><div class='xr-var-dtype'>int64</div><div class='xr-var-preview xr-preview'>0 1 2 3</div><input id='attrs-5fee8602-6647-457c-b9f3-75111766ae87' class='xr-var-attrs-in' type='checkbox' disabled><label for='attrs-5fee8602-6647-457c-b9f3-75111766ae87' title='Show/Hide attributes'><svg class='icon xr-icon-file-text2'><use xlink:href='#icon-file-text2'></use></svg></label><input id='data-7cb6bee6-baaa-4af0-b720-08682a998018' class='xr-var-data-in' type='checkbox'><label for='data-7cb6bee6-baaa-4af0-b720-08682a998018' title='Show/Hide data repr'><svg class='icon xr-icon-database'><use xlink:href='#icon-database'></use></svg></label><div class='xr-var-attrs'><dl class='xr-attrs'></dl></div><div class='xr-var-data'><pre>array([0, 1, 2, 3])</pre></div></li><li class='xr-var-item'><div class='xr-var-name'><span class='xr-has-index'>draw</span></div><div class='xr-var-dims'>(draw)</div><div class='xr-var-dtype'>int64</div><div class='xr-var-preview xr-preview'>0 1 2 3 4 5 ... 995 996 997 998 999</div><input id='attrs-88994c1e-6738-4fe4-8966-af023c76b468' class='xr-var-attrs-in' type='checkbox' disabled><label for='attrs-88994c1e-6738-4fe4-8966-af023c76b468' title='Show/Hide attributes'><svg class='icon xr-icon-file-text2'><use xlink:href='#icon-file-text2'></use></svg></label><input id='data-5c7190fc-fe57-4dac-98da-279564aab7e0' class='xr-var-data-in' type='checkbox'><label for='data-5c7190fc-fe57-4dac-98da-279564aab7e0' title='Show/Hide data repr'><svg class='icon xr-icon-database'><use xlink:href='#icon-database'></use></svg></label><div class='xr-var-attrs'><dl class='xr-attrs'></dl></div><div class='xr-var-data'><pre>array([  0,   1,   2, ..., 997, 998, 999])</pre></div></li></ul></div></li><li class='xr-section-item'><input id='section-82d9b6ff-7452-4be7-8ad5-2619eb392265' class='xr-section-summary-in' type='checkbox' disabled ><label for='section-82d9b6ff-7452-4be7-8ad5-2619eb392265' class='xr-section-summary'  title='Expand/collapse section'>Attributes: <span>(0)</span></label><div class='xr-section-inline-details'></div><div class='xr-section-details'><dl class='xr-attrs'></dl></div></li></ul></div></div>"
      ],
      "text/plain": [
       "<xarray.DataArray 'num_conversions' (chain: 4, draw: 1000)>\n",
       "array([[285, 279, 298, ..., 268, 324, 292],\n",
       "       [273, 253, 295, ..., 334, 306, 309],\n",
       "       [306, 270, 285, ..., 276, 296, 303],\n",
       "       [314, 317, 275, ..., 319, 313, 292]])\n",
       "Coordinates:\n",
       "  * chain    (chain) int64 0 1 2 3\n",
       "  * draw     (draw) int64 0 1 2 3 4 5 6 7 8 ... 992 993 994 995 996 997 998 999"
      ]
     },
     "execution_count": 67,
     "metadata": {},
     "output_type": "execute_result"
    }
   ],
   "source": [
    "idata.posterior_predictive.num_conversions"
   ]
  },
  {
   "cell_type": "markdown",
   "id": "ad9c71aa",
   "metadata": {
    "slideshow": {
     "slide_type": "notes"
    }
   },
   "source": [
    "We get arrays of simulated futures, conditioned on the data!\n",
    "\n",
    "So why is posterior predictive useful\n",
    "\n",
    "* Sometimes were not interested in the parameters at all, but only what we believe will happen. You'll see that in the next lesson\n",
    "* Other times we need to make a decision. Posterior predictive gives us not only the most likely future, but every single possible future weighted with the probability it will happen\n",
    "\n",
    "This will be easier if we visualize it so let's jump to "
   ]
  },
  {
   "cell_type": "markdown",
   "id": "1fbbf9f1",
   "metadata": {
    "slideshow": {
     "slide_type": "slide"
    }
   },
   "source": [
    "## Posterior and Posterior Predictive Plots"
   ]
  },
  {
   "cell_type": "code",
   "execution_count": 68,
   "id": "22141d44",
   "metadata": {},
   "outputs": [
    {
     "data": {
      "image/png": "[encoded data removed]",
      "text/plain": [
       "<Figure size 1152x432 with 2 Axes>"
      ]
     },
     "metadata": {
      "needs_background": "light"
     },
     "output_type": "display_data"
    }
   ],
   "source": [
    "fig, axes = plt.subplots(2, 1, figsize=(16,6), sharex=False)\n",
    "az.plot_dist(idata.posterior[\"conversion_rate\"], ax=axes[0])\n",
    "axes[0].set(ylabel=\"Plausibility\", title=\"Posterior Plot\")\n",
    "fig.tight_layout()\n",
    "az.plot_dist(idata.posterior_predictive[\"num_conversions\"], ax=axes[1])\n",
    "axes[1].set(xlabel=\"Data Space: Num Conversions expected prior to seeing data\", \n",
    "       ylabel=\"Plausibility\", \n",
    "       title=\"Posterior Predictive Check\");"
   ]
  },
  {
   "cell_type": "markdown",
   "id": "84d27f34",
   "metadata": {},
   "source": [
    "## Prior Predictive and Posterior Predictive Compared"
   ]
  },
  {
   "cell_type": "code",
   "execution_count": 76,
   "id": "39b68979",
   "metadata": {},
   "outputs": [
    {
     "data": {
      "image/png": "[encoded data removed]",
      "text/plain": [
       "<Figure size 1152x432 with 2 Axes>"
      ]
     },
     "metadata": {
      "needs_background": "light"
     },
     "output_type": "display_data"
    }
   ],
   "source": [
    "fig, axes = plt.subplots(2, 1, figsize=(16,6), sharex=True)\n",
    "az.plot_dist(idata.prior_predictive[\"num_conversions\"], hist_kwargs=dict(bins=20), ax=axes[0])\n",
    "\n",
    "axes[0].set(ylabel=\"Plausibility\", \n",
    "       title=\"Prior Predictive Check\");fig.tight_layout()\n",
    "\n",
    "az.plot_dist(idata.posterior_predictive[\"num_conversions\"], hist_kwargs=dict(bins=20), ax=axes[1])\n",
    "axes[1].set(xlabel=\"Data Space: Num Conversions expected prior to seeing data\", \n",
    "       ylabel=\"Plausibility\", \n",
    "       title=\"Posterior Predictive Check\")\n",
    "\n",
    "axes[1].set_xticks(np.arange(0,1000, 100));"
   ]
  },
  {
   "cell_type": "markdown",
   "id": "1ed77885",
   "metadata": {
    "slideshow": {
     "slide_type": "notes"
    }
   },
   "source": [
    "Why is posterior predictive useful\n",
    "\n",
    "* Sometimes were not interested in the parameters at all, but only what we believe will happen. You'll see that in the next lesson\n",
    "* Other times we need to make a decision. Posterior predictive gives us not only the most likely future, but every single possible future weighted with the probability it will happen"
   ]
  },
  {
   "cell_type": "markdown",
   "id": "6c38101b",
   "metadata": {},
   "source": [
    "<img src=\"img/GenerativeSamples.jpg\" width=\"600\">"
   ]
  },
  {
   "cell_type": "markdown",
   "id": "54386b62",
   "metadata": {},
   "source": [
    "These tools are possible because Bayesian models are generative, meaning they can generate outcomes. This is an incredible benefit over discriminative models, which can only fit existing data, but not generate new data\n",
    "\n",
    "So if we didn't think computational Bayesian models were cool enough, this really should convince you. \n"
   ]
  },
  {
   "cell_type": "markdown",
   "id": "3be517ce",
   "metadata": {},
   "source": [
    "## Section Recap\n",
    "* Predictive distributions are the link from parameter to data space\\\n",
    "* Two types\n",
    "  * Prior Predictive\n",
    "  * Posterior Predictive\n",
    "* Many uses, both in modeling and Bayesian workflow\n",
    "* Powerful feature of Bayesian Models\n",
    "  * Easily implemented with one line of code"
   ]
  },
  {
   "cell_type": "markdown",
   "id": "6f45aece",
   "metadata": {},
   "source": [
    "# Markov Chain Monte Carlo\n",
    "The magic behind the magic inference button"
   ]
  },
  {
   "cell_type": "markdown",
   "id": "30baac13",
   "metadata": {},
   "source": [
    "## All you need to know\n",
    "* Markov Chain Monte Carlo magic part of the magic machine\n",
    "* It uses computational samples to estimate the posterior\n",
    "* Modern versions are very flexible and very fast\n",
    "  * Pay attention to the diagnostics though!"
   ]
  },
  {
   "cell_type": "markdown",
   "id": "97ec7d2f",
   "metadata": {
    "slideshow": {
     "slide_type": "slide"
    }
   },
   "source": [
    "##  The magic inference button AKA Markov Chain Monte Carlo"
   ]
  },
  {
   "cell_type": "markdown",
   "id": "25fbe90f",
   "metadata": {},
   "source": [
    "It's using Markov Chain Monte which is a sampling based algorithm\n",
    "\n",
    "* Works well on many models relatively automatically\n",
    "* Is efficient and returns results relatively quickly\n",
    "* Is pretty good at getting the right result\n",
    "  * But if it can't comes with a good set of diagnostics to guide you\n",
    "\n",
    "\n",
    "Building our own engine\n",
    "* You will never need to do this\n",
    "* The version we're building here is not goo"
   ]
  },
  {
   "cell_type": "code",
   "execution_count": 27,
   "id": "d4355e09",
   "metadata": {},
   "outputs": [],
   "source": [
    "# Manual calculation of the posterior\n",
    "def post(θ, observed, α=1, β=1):\n",
    "    if 0 <= θ <= 1:\n",
    "        \n",
    "        # Prior\n",
    "        prior = stats.beta(α, β).pdf(θ)\n",
    "        \n",
    "        # Likellihood\n",
    "        like  = stats.bernoulli(θ).pmf(observed).prod()\n",
    "        \n",
    "        # Multiplication\n",
    "        prob = like * prior\n",
    "    else:\n",
    "        \n",
    "        # If out of bounds \n",
    "        prob = -np.inf\n",
    "    return prob"
   ]
  },
  {
   "cell_type": "markdown",
   "id": "0a5137f4",
   "metadata": {},
   "source": [
    "1. Get the posterior value of where you are\n",
    "2. Randomly select another parameter\n",
    "3. Calculate posterior value at new parameter value\n",
    "4. Calculate ratio\n",
    "\n",
    "5. Draw a random value from a uniform distribution\n",
    "6. If value from uniform distribution is lower move to new position\n",
    "   * Otherwise stay where you are and try again\n",
    "   \n",
    " \n",
    "Repeat many more times"
   ]
  },
  {
   "cell_type": "markdown",
   "id": "fe2a8ce1",
   "metadata": {},
   "source": [
    "## Basic Implementation"
   ]
  },
  {
   "cell_type": "markdown",
   "id": "d86f303e",
   "metadata": {},
   "source": [
    "```python\n",
    "n_iters = 10000\n",
    "can_sd = 0.05\n",
    "α = β =  1\n",
    "θ = 0.5\n",
    "\n",
    "trace = {\"θ\":np.zeros(n_iters)}\n",
    "p2 = post(θ, observed_visits, α, β)\n",
    "\n",
    "for iter in range(n_iters):\n",
    "\n",
    "    θ_can = stats.norm(θ, can_sd).rvs(1)\n",
    "    p1 = post(θ_can, observed_visits, α, β)\n",
    "    \n",
    "    # This is why we don't need marginal likelihood!\n",
    "    pa = p1 / (p2)\n",
    "        \n",
    "    if pa > stats.uniform(0, 1).rvs(1):\n",
    "        θ = θ_can\n",
    "        p2 = p1\n",
    "\n",
    "    trace[\"θ\"][iter] = θ\n",
    "```"
   ]
  },
  {
   "cell_type": "markdown",
   "id": "b1f16000",
   "metadata": {
    "slideshow": {
     "slide_type": "notes"
    }
   },
   "source": [
    "Here's what the algorithm looks like for the most basic version of this algorithm. It's the same steps as the one above but in code. It actually works, feel free to try it out know its very  slow.\n",
    "\n",
    "One interesting thing to note. You likely were wondering why we didn't cover marginal likelihood earlier in this lesson. Well its because its very hard to calculate, its actually so hard to calculate that one of the most important features of MCMC is we don't need to calculate it at all. See this one line here. By dividing out our posterior the marginal likelihood actually cancels out. This small mathematical trick is a massive achievement so don't take it for granted!"
   ]
  },
  {
   "cell_type": "markdown",
   "id": "b162c40a",
   "metadata": {
    "slideshow": {
     "slide_type": "slide"
    }
   },
   "source": [
    "## Original Version: Metropolis Hasting\n",
    "<img src=\"img/OldCar.png\" width=\"1200\">"
   ]
  },
  {
   "cell_type": "markdown",
   "id": "c5bd68a9",
   "metadata": {
    "slideshow": {
     "slide_type": "notes"
    }
   },
   "source": [
    "That's because what we've implemented here is a version of MCMC called Metropolis Hastings. It's one of the initial versions of MCMC and like this car here. while it works it's it slow, inefficient, and tends to require a lot of hand tuning to get it to work juuusstt right"
   ]
  },
  {
   "cell_type": "markdown",
   "id": "7eb589f3",
   "metadata": {
    "slideshow": {
     "slide_type": "slide"
    }
   },
   "source": [
    "## Modern Speed Machine: HMC\n",
    "<img src=\"img/Formula1Car.png\" width=\"1000\">"
   ]
  },
  {
   "cell_type": "markdown",
   "id": "5ef494c4",
   "metadata": {
    "slideshow": {
     "slide_type": "notes"
    }
   },
   "source": [
    "Modern PPls like PyMC use a much better version of MCMC called Hamiltonian Monte Carlo, or HMC for short. Thats why you you see the line \"Using NUTS\" after running `pm.sample` in sample in PyMC\n",
    "\n",
    "Like this F1 car it still uses the original principle, but has additional updates and systems that make it wayyy faster and easier to use.\n",
    "\n"
   ]
  },
  {
   "cell_type": "markdown",
   "id": "48f3f2a1",
   "metadata": {
    "slideshow": {
     "slide_type": "slide"
    }
   },
   "source": [
    "## MCMC Sampling in Action\n",
    "<br>\n",
    "<center> <video src=\"img/SamplerVideo.mp4\" width=\"1000\"/></center>"
   ]
  },
  {
   "cell_type": "markdown",
   "id": "ef0d1c7d",
   "metadata": {},
   "source": [
    "Here is a video of MCMC in action. Its about a minute long, lets take a moment to talk through what's happening.\n",
    "\n",
    "Chain"
   ]
  },
  {
   "cell_type": "markdown",
   "id": "03ce7dda",
   "metadata": {},
   "source": [
    "## Trace Plot"
   ]
  },
  {
   "cell_type": "code",
   "execution_count": 90,
   "id": "ba295208",
   "metadata": {},
   "outputs": [
    {
     "data": {
      "image/png": "[encoded data removed]",
      "text/plain": [
       "<Figure size 1296x288 with 2 Axes>"
      ]
     },
     "metadata": {
      "needs_background": "light"
     },
     "output_type": "display_data"
    }
   ],
   "source": [
    "az.plot_trace(idata, combined=True, figsize=(18,4));"
   ]
  },
  {
   "cell_type": "markdown",
   "id": "72183bf9",
   "metadata": {},
   "source": [
    "That's what you see on the right on the trace plot. As the name implies its tracing the samples. With MCMC based inference you'll see traceplots often. That's because they're a key diagnostic to ensure sampling is working as expected.\n",
    "\n",
    "The X axis integer number of the draw, and the Y axis is the value of the sample at that draw. The reason you see so many lines is that we don't just sample with chain of samples, but typically multiple at once. What we're looking for is a \"fuzzy caterpillar\", this indicates the samples are coming from the full distribution of the posterior and aren't stuck in one place. You'll see more traceplots later in this course."
   ]
  },
  {
   "cell_type": "markdown",
   "id": "f0f99a3a",
   "metadata": {},
   "source": [
    "## Section Summary\n",
    "* Markov Chain Monte Carlo magic part of the magic machine\n",
    "* It uses computational samples to estimate the posterior\n",
    "* Modern versions are very flexible and very fast\n",
    "  * Still requires checking with diagnostics"
   ]
  },
  {
   "cell_type": "markdown",
   "id": "6c34b8ca",
   "metadata": {
    "slideshow": {
     "slide_type": "slide"
    }
   },
   "source": [
    "# Lesson Summary\n",
    "Unfinished for now\n",
    "\n",
    "* The three terms we care about in Bayes Rule\n",
    "  * And the one we don't\n",
    "* The different types of priors\n",
    "  * Informative \n",
    "  * Uninformative\n",
    "* How to calculate likelihood given data\n",
    "* How to calculate a simple posterior"
   ]
  }
 ],
 "metadata": {
  "celltoolbar": "Slideshow",
  "kernelspec": {
   "display_name": "Python 3 (ipykernel)",
   "language": "python",
   "name": "python3"
  },
  "language_info": {
   "codemirror_mode": {
    "name": "ipython",
    "version": 3
   },
   "file_extension": ".py",
   "mimetype": "text/x-python",
   "name": "python",
   "nbconvert_exporter": "python",
   "pygments_lexer": "ipython3",
   "version": "3.9.7"
  }
 },
 "nbformat": 4,
 "nbformat_minor": 5
}
