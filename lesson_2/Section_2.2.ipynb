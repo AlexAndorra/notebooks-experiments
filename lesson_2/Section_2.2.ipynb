{
 "cells": [
  {
   "cell_type": "markdown",
   "metadata": {
    "hideCode": false,
    "hidePrompt": false,
    "slideshow": {
     "slide_type": "skip"
    }
   },
   "source": [
    " # Section 2.4 Probability Mass and Density Function"
   ]
  },
  {
   "cell_type": "code",
   "execution_count": 27,
   "metadata": {
    "hideCode": false,
    "hidePrompt": false,
    "slideshow": {
     "slide_type": "skip"
    }
   },
   "outputs": [],
   "source": [
    "import arviz as az\n",
    "import matplotlib.pyplot as plt\n",
    "import numpy as np\n",
    "import pandas as pd\n",
    "import pymc as pm\n",
    "import scipy\n",
    "from scipy import stats"
   ]
  },
  {
   "cell_type": "code",
   "execution_count": 7,
   "metadata": {
    "hideCode": false,
    "hidePrompt": false,
    "slideshow": {
     "slide_type": "skip"
    }
   },
   "outputs": [],
   "source": [
    "%matplotlib inline\n",
    "az.style.use(\"arviz-darkgrid\")\n",
    "RANDOM_SEED = 8265\n",
    "np.random.seed(RANDOM_SEED)"
   ]
  },
  {
   "cell_type": "markdown",
   "metadata": {
    "hideCode": false,
    "hidePrompt": false,
    "slideshow": {
     "slide_type": "slide"
    }
   },
   "source": [
    "# Formalizing our distribution intuition\n",
    "The intuitive description is enough to get the general idea of distributions \n",
    "\n",
    "But we do need to be much more specific if we are to perform calculations"
   ]
  },
  {
   "cell_type": "markdown",
   "metadata": {
    "hideCode": false,
    "hidePrompt": false
   },
   "source": [
    "# Math vs Computation: Mean point estimate\n",
    "\n",
    "$$\n",
    "\\LARGE\n",
    "\\bar{Y} = \\frac{\\sum_{N}^{i=0}Y_i}{N}\n",
    "$$\n",
    "\n",
    "This is the way it's been done for thousands of years prior to computers."
   ]
  },
  {
   "cell_type": "code",
   "execution_count": 3,
   "metadata": {
    "hideCode": false,
    "hidePrompt": false
   },
   "outputs": [
    {
     "data": {
      "text/plain": [
       "3.5"
      ]
     },
     "execution_count": 3,
     "metadata": {},
     "output_type": "execute_result"
    }
   ],
   "source": [
    "np.mean([2,2,4,6])"
   ]
  },
  {
   "cell_type": "markdown",
   "metadata": {
    "hideCode": false,
    "hidePrompt": false
   },
   "source": [
    "This *doesn't* mean the math is not important, its not the only way to learn and \"get stuff done\" these days.\n",
    "\n",
    "This will be one of the few sections that shows the math symbols. Subsequent sections will focus on the code."
   ]
  },
  {
   "cell_type": "markdown",
   "metadata": {
    "hideCode": false,
    "hidePrompt": false,
    "slideshow": {
     "slide_type": "slide"
    }
   },
   "source": [
    "# Introducing the Bernoulli distribution\n",
    "A Bernoulli distribution is just a distribution that describes the probability of one outcome in a binary situation. Or in other words\n",
    "\n",
    "The probability\n",
    "* A coin toss is heads\n",
    "* that the person of your dreams says yes to a dinner date\n",
    "* you eat a salad today\n",
    "\n",
    "Two outcomes does not mean 50/50 chance!"
   ]
  },
  {
   "cell_type": "markdown",
   "metadata": {
    "hideCode": false,
    "hidePrompt": false
   },
   "source": [
    "# Let's computationally define a distribution\n",
    "We'll specify .3 chance of observing a *1*, which implicitly means .7 chance of observing a *0*\n",
    "\n",
    "We could specify this mathematically as such\n",
    "$$\n",
    "f(k;p) = \\begin{cases}\n",
    "   p & \\text{if }k=1, \\\\\n",
    "   q = 1-p & \\text {if } k = 0.\n",
    " \\end{cases} \\\\\n",
    " \\text{where }p =.3 \n",
    "$$\n",
    "\n",
    "In the case of the Bernoulli distribution one parameter *p* is needed to fully specify the distribution, and k is the random outcome.\n",
    "\n",
    "\n",
    "Let's specify the distribution using code. We'll be using the `scipy.stats` library"
   ]
  },
  {
   "cell_type": "code",
   "execution_count": 28,
   "metadata": {
    "hideCode": false,
    "hidePrompt": false
   },
   "outputs": [],
   "source": [
    "p = 0.3\n",
    "bern = stats.bernoulli(p)"
   ]
  },
  {
   "cell_type": "markdown",
   "metadata": {},
   "source": [
    "# Plotting the Probability Mass Function\n",
    "\n",
    "Now that we've defined a probability distribution defined computationally we can use it to determine the amount of *mass* associated with the potential outcomes 0 and 1"
   ]
  },
  {
   "cell_type": "code",
   "execution_count": 30,
   "metadata": {},
   "outputs": [
    {
     "data": {
      "text/plain": [
       "(0.7, 0.3)"
      ]
     },
     "execution_count": 30,
     "metadata": {},
     "output_type": "execute_result"
    }
   ],
   "source": [
    "bern.pmf(0), bern.pmf(1)"
   ]
  },
  {
   "cell_type": "markdown",
   "metadata": {
    "hideCode": false,
    "hidePrompt": false
   },
   "source": [
    "# We can plot the probability mass function too\n",
    "The vertical height represents the proportion of mass associated with each outcome 0 and 1. "
   ]
  },
  {
   "cell_type": "code",
   "execution_count": 39,
   "metadata": {
    "hideCode": false,
    "hidePrompt": false
   },
   "outputs": [
    {
     "data": {
      "text/plain": [
       "<matplotlib.collections.LineCollection at 0x7f4f574ea070>"
      ]
     },
     "execution_count": 39,
     "metadata": {},
     "output_type": "execute_result"
    },
    {
     "data": {
      "image/png": "[encoded data removed]",
      "text/plain": [
       "<Figure size 432x288 with 1 Axes>"
      ]
     },
     "metadata": {
      "needs_background": "light"
     },
     "output_type": "display_data"
    }
   ],
   "source": [
    "fig, ax = plt.subplots()\n",
    "potential_outcomes = np.arange(2)\n",
    "ax.vlines(potential_outcomes, 0, bern.pmf(potential_outcomes), colors='b', linestyles='-', lw=10);"
   ]
  },
  {
   "cell_type": "markdown",
   "metadata": {},
   "source": [
    "Right now you may be thinking Well \"duh\", that was obvious. We didn't a computer to tell us that. Let's work through a more complicated case."
   ]
  },
  {
   "cell_type": "markdown",
   "metadata": {
    "slideshow": {
     "slide_type": "slide"
    }
   },
   "source": [
    "# Introducing the Binomial distribution\n",
    "What if we now are interested in the probability of N number of successful outcomes, where the probability of success is .3 and we run 7 trials.\n",
    "\n",
    "For example in a 7 day week, if there is a 30% chance we eat a salad, in a given week what is probability we eat 0, 1,2,3,4,5,6 or 7 salads?\n",
    "\n",
    "As before we have a mathematical formulation \n",
    "\n",
    "$ f(k,n,p) = \\Pr(k;n,p) = \\Pr(X = k) = \\binom{n}{k}p^k(1-p)^{n-k}$\n",
    "\n",
    "In this case there are two parameters are needed to specify the distribution,\n",
    "* *p* the probability of success on an individual trial \n",
    "* *n* the number of trials. \n",
    "\n",
    "K is the random outcome, which represents how many sucess"
   ]
  },
  {
   "cell_type": "markdown",
   "metadata": {},
   "source": [
    "# Calculating a probability for a single random outcome\n",
    "What is the chance we eat we eat 3 salads in a 7 day period?"
   ]
  },
  {
   "cell_type": "code",
   "execution_count": 48,
   "metadata": {},
   "outputs": [
    {
     "data": {
      "text/plain": [
       "0.2268944999999999"
      ]
     },
     "execution_count": 48,
     "metadata": {},
     "output_type": "execute_result"
    }
   ],
   "source": [
    "binom = stats.binom(n=7, p=.3)\n",
    "\n",
    "number_of_salads_we_might_eat = 3\n",
    "binom.pmf(number_of_salads_we_might_eat)"
   ]
  },
  {
   "cell_type": "markdown",
   "metadata": {},
   "source": [
    "There's a 22% chance "
   ]
  },
  {
   "cell_type": "markdown",
   "metadata": {},
   "source": [
    "# Plotting a binomial probability mass function\n",
    "Because we defined things computationally we can use our handy plotting tools to visualize the probability mass function"
   ]
  },
  {
   "cell_type": "code",
   "execution_count": 46,
   "metadata": {},
   "outputs": [
    {
     "data": {
      "image/png": "[encoded data removed]",
      "text/plain": [
       "<Figure size 432x288 with 1 Axes>"
      ]
     },
     "metadata": {
      "needs_background": "light"
     },
     "output_type": "display_data"
    }
   ],
   "source": [
    "fig, ax = plt.subplots()\n",
    "potential_outcomes = np.arange(8)\n",
    "ax.vlines(potential_outcomes, 0, binom.pmf(potential_outcomes), colors='b', linestyles='-', lw=10);"
   ]
  },
  {
   "cell_type": "markdown",
   "metadata": {
    "hideCode": false,
    "hidePrompt": false
   },
   "source": [
    "We'd use the probability mass function to tell us. In this case we can see that 1 is less likely than 0, and we can see by how much"
   ]
  },
  {
   "cell_type": "markdown",
   "metadata": {},
   "source": [
    "# Mapping potential outcomes to probability is key\n",
    "\n",
    "Probability mass functions convert *potential outcomes* to the probability that the outcome will occur.\n",
    "To do so we must have a distribution with parameters that fully specify the range and shape of the probability"
   ]
  },
  {
   "cell_type": "markdown",
   "metadata": {
    "hideCode": false,
    "hidePrompt": false
   },
   "source": [
    "# What about continuous outcomes?\n",
    "\n",
    "So far we've covered discrete outcomes, but what about continuous outcomes, like the range of human heights?\n",
    "\n",
    "The intuition is best gained if we jump into an example\n",
    "\n",
    "What if we knew the distribution of human heights is distributed with mean 127 centimeters and standard deviation 20? \n",
    "\n",
    "What is the probability that find someone with height 120 cm?"
   ]
  },
  {
   "cell_type": "markdown",
   "metadata": {},
   "source": [
    "# Specification with math notation: Normal Distribution\n",
    "\n",
    "Like before there is a formal mathematical definition for Normal distribution  \n",
    "$$\n",
    "\\LARGE\n",
    "f(x) = \\frac{1}{\\sigma\\sqrt{2\\pi}} e^{-\\frac{1}{2}\\left(\\frac{x - \\mu}{\\sigma}\\right)^2}\n",
    "$$\n",
    "\n",
    "We can directly to mathematical code if we'd like"
   ]
  },
  {
   "cell_type": "code",
   "execution_count": 51,
   "metadata": {},
   "outputs": [
    {
     "data": {
      "text/plain": [
       "0.0187620173458469"
      ]
     },
     "execution_count": 51,
     "metadata": {},
     "output_type": "execute_result"
    }
   ],
   "source": [
    "# Distribution parameters\n",
    "μ, σ = 127, 20\n",
    "\n",
    "x = 120\n",
    "1 / (σ * np.sqrt(2 * np.pi)) * np.exp(-1 / 2 * ((x - μ) / σ) ** 2)"
   ]
  },
  {
   "cell_type": "markdown",
   "metadata": {},
   "source": [
    "But its much easier to use `scipy.stats`"
   ]
  },
  {
   "cell_type": "code",
   "execution_count": 52,
   "metadata": {
    "hideCode": false,
    "hidePrompt": false
   },
   "outputs": [
    {
     "data": {
      "text/plain": [
       "0.018762017345846895"
      ]
     },
     "execution_count": 52,
     "metadata": {},
     "output_type": "execute_result"
    }
   ],
   "source": [
    "heights = stats.norm(127, 20)\n",
    "heights.pdf(120)"
   ]
  },
  {
   "cell_type": "markdown",
   "metadata": {},
   "source": [
    "# So we got our answer right?\n",
    "In both calculations we got a value of .18, which means 18% right?\n",
    "\n",
    "**Wrong** \n",
    "\n",
    "In continuous distribution we are no longer getting a probability *mass* but instead a probability *density*. You may have noticed the method signature changed from `dist.pmf` to `dist.pdf` to reflect this change."
   ]
  },
  {
   "cell_type": "markdown",
   "metadata": {
    "hideCode": false,
    "hidePrompt": false
   },
   "source": [
    "# Warning: Counter Intuitive Concept \n",
    "The probability of an observation of any single number in a continuous distribution is **0**, whether that be 120, 127, 4000, or 10.\n",
    "\n",
    "This is because of the foundational way mathematical measure theory works. In a continuous distribution any single number is infinitely small so it can't have mass. We can get the probability for a *range* of numbers but that's not important for this course.\n",
    "\n",
    "What is important is the relative value which the probability density function gives us. Let's walk through an example"
   ]
  },
  {
   "cell_type": "markdown",
   "metadata": {
    "hideCode": false,
    "hidePrompt": false
   },
   "source": [
    "# Probability Density Function Introduction\n",
    "PDFs that take in a value, and output the relative *likelihood* of that value occurring given a distribution."
   ]
  },
  {
   "cell_type": "code",
   "execution_count": 42,
   "metadata": {
    "hideCode": false,
    "hidePrompt": false
   },
   "outputs": [
    {
     "data": {
      "text/plain": [
       "(0.019947114020071634, 0.00801916636709598)"
      ]
     },
     "execution_count": 42,
     "metadata": {},
     "output_type": "execute_result"
    }
   ],
   "source": [
    "heights.pdf(127), heights.pdf(100)"
   ]
  },
  {
   "cell_type": "markdown",
   "metadata": {},
   "source": [
    "The numbers were are telling us that finding a person with height 127cm is more likely than finding someone with height 100"
   ]
  },
  {
   "cell_type": "markdown",
   "metadata": {
    "hideCode": false,
    "hidePrompt": false
   },
   "source": [
    "# Visual representation of PDF and relative heights\n",
    "Unlike our bernoulli plot, a plot of a normal distribution with PDFs is very helpful.\n",
    "\n",
    "In blue is the PDF for a range of possible heights. The red lines represent the PDF value of 100 cm and 127 cm."
   ]
  },
  {
   "cell_type": "code",
   "execution_count": 40,
   "metadata": {
    "hideCode": false,
    "hidePrompt": false,
    "slideshow": {
     "slide_type": "skip"
    }
   },
   "outputs": [
    {
     "data": {
      "text/plain": [
       "[None]"
      ]
     },
     "execution_count": 40,
     "metadata": {},
     "output_type": "execute_result"
    },
    {
     "data": {
      "image/png": "[encoded data removed]",
      "text/plain": [
       "<Figure size 2100x900 with 1 Axes>"
      ]
     },
     "metadata": {},
     "output_type": "display_data"
    }
   ],
   "source": [
    "x = np.linspace(60, 194)\n",
    "y = heights.pdf(x)\n",
    "\n",
    "fig, ax = plt.subplots(figsize=(21,9))\n",
    "ax.plot(x,y, linewidth=15)\n",
    "ax.set_yticks([])\n",
    "ax.set_title(\"Distribution of beliefs\", fontsize=30)\n",
    "ax.set_xlabel(\"Mean value\", fontsize=30)\n",
    "ax.set_ylabel(\"Relative belief\", fontsize=30)\n",
    "ax.tick_params(axis='x', labelsize=25)\n",
    "markerline, stemline, baseline = ax.stem(100, heights.pdf(100), \"r\")\n",
    "plt.setp(stemline, linewidth = 10)\n",
    "\n",
    "markerline, stemline, baseline = ax.stem(127, heights.pdf(127), \"r\")\n",
    "plt.setp(stemline, linewidth = 10)"
   ]
  },
  {
   "cell_type": "markdown",
   "metadata": {},
   "source": [
    "The length of the red lines makes it much easier to judge the relative likelihood of the outcomes."
   ]
  },
  {
   "cell_type": "markdown",
   "metadata": {
    "hideCode": false,
    "hidePrompt": false
   },
   "source": [
    "# What is Log PDF\n",
    "Its just the PDF value but transformed into the log scale. \n",
    "\n",
    "This is done for purely computational stability reasons. Again this is a computational detail that is not important to understand up front. We bring this up as you may hear the term logpdf and don't want it to surprise you.\n",
    "\n",
    "So be aware you may see the the terms pdf, and logpdf. Just translate that in your head as \"a thing that gives me relative likelihoods of seeing a certain value\""
   ]
  },
  {
   "cell_type": "code",
   "execution_count": 20,
   "metadata": {
    "hideCode": false,
    "hidePrompt": false
   },
   "outputs": [
    {
     "data": {
      "text/plain": [
       "(-3.9146708067586635, -3.9146708067586635)"
      ]
     },
     "execution_count": 20,
     "metadata": {},
     "output_type": "execute_result"
    }
   ],
   "source": [
    "np.log(heights.pdf(127)), heights.logpdf(127)"
   ]
  },
  {
   "cell_type": "markdown",
   "metadata": {
    "hideCode": false,
    "hidePrompt": false
   },
   "source": [
    "# Section Summary\n",
    "* Probability Mass and Density functions tell us how the probability of observations is *spread* across a range of possible values\n",
    "* If we have a possible value, we can use PMF and PDF to tell us the relative likelihood of occurrence of that value, versus any other value *That's all you need to takeaway*\n",
    "* Log PDF the same concept, just with a mathematical transform applied\n"
   ]
  }
 ],
 "metadata": {
  "celltoolbar": "Slideshow",
  "hide_code_all_hidden": false,
  "kernelspec": {
   "display_name": "Python 3 (ipykernel)",
   "language": "python",
   "name": "python3"
  },
  "language_info": {
   "codemirror_mode": {
    "name": "ipython",
    "version": 3
   },
   "file_extension": ".py",
   "mimetype": "text/x-python",
   "name": "python",
   "nbconvert_exporter": "python",
   "pygments_lexer": "ipython3",
   "version": "3.9.7"
  }
 },
 "nbformat": 4,
 "nbformat_minor": 4
}
