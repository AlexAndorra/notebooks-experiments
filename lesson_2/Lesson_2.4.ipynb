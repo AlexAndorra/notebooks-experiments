{
 "cells": [
  {
   "cell_type": "markdown",
   "metadata": {
    "slideshow": {
     "slide_type": "skip"
    }
   },
   "source": [
    " # Section 2.4 Probability Mass and Density Function"
   ]
  },
  {
   "cell_type": "code",
   "execution_count": 2,
   "metadata": {
    "slideshow": {
     "slide_type": "skip"
    }
   },
   "outputs": [
    {
     "name": "stderr",
     "output_type": "stream",
     "text": [
      "WARNING (theano.link.c.cmodule): install mkl with `conda install mkl-service`: No module named 'mkl'\n"
     ]
    }
   ],
   "source": [
    "import numpy as np\n",
    "import pandas as pd\n",
    "import pymc3 as pm\n",
    "from scipy import stats\n",
    "import scipy\n",
    "import arviz as az\n",
    "import matplotlib.pyplot as plt"
   ]
  },
  {
   "cell_type": "code",
   "execution_count": 3,
   "metadata": {
    "slideshow": {
     "slide_type": "skip"
    }
   },
   "outputs": [],
   "source": [
    "az.style.use(\"arviz-darkgrid\")\n",
    "RANDOM_SEED = 8265\n",
    "np.random.seed(RANDOM_SEED)"
   ]
  },
  {
   "cell_type": "markdown",
   "metadata": {
    "slideshow": {
     "slide_type": "slide"
    }
   },
   "source": [
    "# Probability Mass and Density Function\n",
    "If we have a distribution, how can we describe how the probability is distributed?"
   ]
  },
  {
   "cell_type": "markdown",
   "metadata": {
    "slideshow": {
     "slide_type": "slide"
    }
   },
   "source": [
    "# Let's define a distribution\n",
    "We'll use a Bernoulli distribution. A Bernoulli distribution is just a distribution that describes the probability of one outcome in a binary situation. Or in other words\n",
    "\n",
    "The probability\n",
    "* A coin toss is heads\n",
    "* that the person of your dreams says yes to dinner date proposal\n",
    "* you eat a salad today\n",
    "\n",
    "Two outcomes does not mean 50/50 chance!"
   ]
  },
  {
   "cell_type": "markdown",
   "metadata": {},
   "source": [
    "# Let's computationally define a distribution\n",
    "We'll specify 1/3 chance of observing a *1*, which implicitly means 1/3 chance of observing a *0*"
   ]
  },
  {
   "cell_type": "code",
   "execution_count": 4,
   "metadata": {},
   "outputs": [],
   "source": [
    "p=.3\n",
    "bern = stats.bernoulli(p)"
   ]
  },
  {
   "cell_type": "markdown",
   "metadata": {},
   "source": [
    "# Lets draw a 10000 random samples and see what we get"
   ]
  },
  {
   "cell_type": "code",
   "execution_count": 7,
   "metadata": {},
   "outputs": [
    {
     "data": {
      "text/plain": [
       "0.3066"
      ]
     },
     "execution_count": 7,
     "metadata": {},
     "output_type": "execute_result"
    }
   ],
   "source": [
    "num_samples = 10000\n",
    "samples = bern.rvs(num_samples)\n",
    "samples.sum()/samples.shape[0]"
   ]
  },
  {
   "cell_type": "markdown",
   "metadata": {},
   "source": [
    "Unsurprisingly a number very close to .3"
   ]
  },
  {
   "cell_type": "markdown",
   "metadata": {},
   "source": [
    "# But what if we want to go the other way around\n",
    "What if we were given an observation *1* and we wanted to understand how much of the distribution's mass associated with 1"
   ]
  },
  {
   "cell_type": "code",
   "execution_count": 11,
   "metadata": {},
   "outputs": [
    {
     "data": {
      "text/plain": [
       "(0.3, 0.7)"
      ]
     },
     "execution_count": 11,
     "metadata": {},
     "output_type": "execute_result"
    }
   ],
   "source": [
    "bern.pmf(1), bern.pmf(0)"
   ]
  },
  {
   "cell_type": "markdown",
   "metadata": {},
   "source": [
    "We'd use the probability mass function to tell us. In this case we can see that 1 less likely than 0, and we can see by how much"
   ]
  },
  {
   "cell_type": "markdown",
   "metadata": {},
   "source": [
    "# This similar concept exists for continuous concepts\n",
    "What if we knew the distribution of human heights is distributed with mean 127 centimeters and standard deviation 20"
   ]
  },
  {
   "cell_type": "code",
   "execution_count": 13,
   "metadata": {},
   "outputs": [],
   "source": [
    "heights = stats.norm(127, 20)"
   ]
  },
  {
   "cell_type": "markdown",
   "metadata": {},
   "source": [
    "What is the likelihood we observe someone with height 120 cm?"
   ]
  },
  {
   "cell_type": "markdown",
   "metadata": {},
   "source": [
    "# Warning: Counter Intuitive Concept \n",
    "The probability of an observation of any single number in a continuous is **0**, whether that be 120cm, 127cm, 4000cm, or 10cm.\n",
    "\n",
    "This is because of the foundational way mathematical measure theory works.\n",
    "\n",
    "Note though, we don't need to know the probability of any one observed value, what we need is the relative values which the probability density function gives us"
   ]
  },
  {
   "cell_type": "markdown",
   "metadata": {},
   "source": [
    "# Getting the Probability Density Function\n",
    "All we need is a function that takes in a value, and tells us the relative likelihood of that value occurring given a distribution"
   ]
  },
  {
   "cell_type": "code",
   "execution_count": 19,
   "metadata": {},
   "outputs": [
    {
     "data": {
      "text/plain": [
       "(0.019947114020071634, 0.00801916636709598, 0.0)"
      ]
     },
     "execution_count": 19,
     "metadata": {},
     "output_type": "execute_result"
    }
   ],
   "source": [
    "heights.pdf(127), heights.pdf(100), heights.pdf(4000)"
   ]
  },
  {
   "cell_type": "markdown",
   "metadata": {},
   "source": [
    "Don't worry about the exact math. Just focus on the intuition of relative likelihood"
   ]
  },
  {
   "cell_type": "markdown",
   "metadata": {},
   "source": [
    "# Log PDF\n",
    "Its just PDF but transformed into the log scale. This is done for purely computational stability reasons. Again this is a computational detail that is not important to understand up front. We bring this up as you may hear the term logpdf and don't want it to surprise you.\n",
    "\n",
    "So be aware you may see the the terms pdf, and logpdf. Just translate that in your head as \"a thing that gives me relative likelihoods of seeing that a certain value\""
   ]
  },
  {
   "cell_type": "code",
   "execution_count": 20,
   "metadata": {},
   "outputs": [
    {
     "data": {
      "text/plain": [
       "(-3.9146708067586635, -3.9146708067586635)"
      ]
     },
     "execution_count": 20,
     "metadata": {},
     "output_type": "execute_result"
    }
   ],
   "source": [
    "np.log(heights.pdf(127)), heights.logpdf(127)"
   ]
  },
  {
   "cell_type": "markdown",
   "metadata": {},
   "source": [
    "# Summary\n",
    "* Probability Mass and Density functions tell us how the probability of observations is *spread* across a range of possible values\n",
    "* Log PDF the same concept, just with a mathematical transform applied\n",
    "* If we have a possible value, we can use PMF and PDF to tell us the relative likelihood of occurrence of that value, versus any other value *That's all you need to takeaway*\n"
   ]
  }
 ],
 "metadata": {
  "celltoolbar": "Slideshow",
  "kernelspec": {
   "display_name": "Python 3",
   "language": "python",
   "name": "python3"
  },
  "language_info": {
   "codemirror_mode": {
    "name": "ipython",
    "version": 3
   },
   "file_extension": ".py",
   "mimetype": "text/x-python",
   "name": "python",
   "nbconvert_exporter": "python",
   "pygments_lexer": "ipython3",
   "version": "3.8.3"
  }
 },
 "nbformat": 4,
 "nbformat_minor": 4
}
