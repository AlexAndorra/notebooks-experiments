{
 "cells": [
  {
   "cell_type": "markdown",
   "metadata": {
    "slideshow": {
     "slide_type": "skip"
    }
   },
   "source": [
    "# Section 2.1 Distributions"
   ]
  },
  {
   "cell_type": "code",
   "execution_count": 6,
   "metadata": {
    "slideshow": {
     "slide_type": "skip"
    }
   },
   "outputs": [
    {
     "name": "stderr",
     "output_type": "stream",
     "text": [
      "UsageError: Line magic function `%matplotiib` not found.\n"
     ]
    }
   ],
   "source": [
    "import arviz as az\n",
    "import matplotlib.pyplot as plt\n",
    "import numpy as np\n",
    "import pandas as pd\n",
    "import pymc3 as pm\n",
    "import scipy\n",
    "from scipy import stats"
   ]
  },
  {
   "cell_type": "code",
   "execution_count": 2,
   "metadata": {
    "slideshow": {
     "slide_type": "skip"
    }
   },
   "outputs": [],
   "source": [
    "az.style.use(\"arviz-darkgrid\")\n",
    "RANDOM_SEED = 8265\n",
    "np.random.seed(RANDOM_SEED)"
   ]
  },
  {
   "cell_type": "markdown",
   "metadata": {
    "slideshow": {
     "slide_type": "slide"
    }
   },
   "source": [
    "# Distributions\n",
    "A range of values and the relative occurrence, or belief, in each value"
   ]
  },
  {
   "cell_type": "markdown",
   "metadata": {
    "slideshow": {
     "slide_type": "slide"
    }
   },
   "source": [
    "# Let's start with an observed point"
   ]
  },
  {
   "cell_type": "code",
   "execution_count": 3,
   "metadata": {},
   "outputs": [],
   "source": [
    "observation = [\"cow\"]"
   ]
  },
  {
   "cell_type": "markdown",
   "metadata": {},
   "source": [
    "Not much to see here"
   ]
  },
  {
   "cell_type": "markdown",
   "metadata": {
    "slideshow": {
     "slide_type": "slide"
    }
   },
   "source": [
    "# Observed distribution\n",
    "What we have seen and how much of each "
   ]
  },
  {
   "cell_type": "code",
   "execution_count": 4,
   "metadata": {},
   "outputs": [
    {
     "data": {
      "image/png": "[encoded data removed]",
      "text/plain": [
       "<Figure size 720x480 with 1 Axes>"
      ]
     },
     "metadata": {},
     "output_type": "display_data"
    }
   ],
   "source": [
    "observations = [\"cow\", \"cow\", \"cat\", \"dog\"]\n",
    "sns.histplot(observations, shrink=.9);"
   ]
  },
  {
   "cell_type": "markdown",
   "metadata": {
    "slideshow": {
     "slide_type": "slide"
    }
   },
   "source": [
    "# That's for things we can observe\n",
    "What about things we can't directly observe, like estimates?"
   ]
  },
  {
   "cell_type": "markdown",
   "metadata": {
    "slideshow": {
     "slide_type": "slide"
    }
   },
   "source": [
    "# Expressing a single belief with point estimates \n",
    "Point estimates are what they sound like, an estimate of a single point describing a dataset\n",
    "\n",
    "Examples include\n",
    "* Mean\n",
    "* Median\n",
    "* Standard Deviation\n",
    "* Quantile\n",
    "\n",
    "For example if we observe the values  \n",
    "`observations = [2,2,4,6]`  \n",
    "we could estimate the true population mean to be 3.5\n"
   ]
  },
  {
   "cell_type": "markdown",
   "metadata": {
    "slideshow": {
     "slide_type": "slide"
    }
   },
   "source": [
    "# Expressing infinite beliefs with distributions"
   ]
  },
  {
   "cell_type": "code",
   "execution_count": 1,
   "metadata": {},
   "outputs": [],
   "source": [
    "def hide_code_in_slideshow():   \n",
    "    from IPython import display\n",
    "    import binascii\n",
    "    import os\n",
    "    uid = binascii.hexlify(os.urandom(8)).decode()    \n",
    "    html = \"\"\"<div id=\"%s\"></div>\n",
    "    <script type=\"text/javascript\">\n",
    "        $(function(){\n",
    "            var p = $(\"#%s\");\n",
    "            if (p.length==0) return;\n",
    "            while (!p.hasClass(\"cell\")) {\n",
    "                p=p.parent();\n",
    "                if (p.prop(\"tagName\") ==\"body\") return;\n",
    "            }\n",
    "            var cell = p;\n",
    "            cell.find(\".input\").addClass(\"hide-in-slideshow\")\n",
    "        });\n",
    "    </script>\"\"\" % (uid, uid)\n",
    "    display.display_html(html, raw=True)\n"
   ]
  },
  {
   "cell_type": "code",
   "execution_count": 9,
   "metadata": {
    "scrolled": false,
    "slideshow": {
     "slide_type": "slide"
    },
    "tags": [
     "to_remove"
    ]
   },
   "outputs": [],
   "source": [
    "mean_belief = stats.norm(3, 2)\n",
    "x = np.linspace(-3, 9)\n",
    "y = mean_belief.pdf(x)\n",
    "\n",
    "fig, ax = plt.subplots(figsize=(21,9))\n",
    "ax.plot(x,y, linewidth=15)\n",
    "ax.set_yticks([])\n",
    "ax.set_title(\"Distribution of beliefs\", fontsize=30)\n",
    "ax.set_xlabel(\"Mean value\", fontsize=30)\n",
    "ax.set_ylabel(\"Relative belief\", fontsize=30)\n",
    "ax.tick_params(axis='x', labelsize=25)\n"
   ]
  },
  {
   "cell_type": "markdown",
   "metadata": {},
   "source": [
    "<img src=\"img/MeanBelief.png?modified=12345677\" width=100% style=\"margin-left:auto; margin-right:auto\">"
   ]
  },
  {
   "cell_type": "markdown",
   "metadata": {
    "slideshow": {
     "slide_type": "slide"
    }
   },
   "source": [
    "# Distributions can be used to describe many things\n",
    "* The values of things we can directly observe\n",
    "* Our beliefs in the parameters of other distributions\n",
    "    * An example is Uniform distribution used to describe possible means for a Normal distribution\n",
    "* Probabilities which are a *special case* of distributions\n",
    "    * These distributions can only sum to 1"
   ]
  },
  {
   "cell_type": "markdown",
   "metadata": {
    "slideshow": {
     "slide_type": "slide"
    }
   },
   "source": [
    "# Formalizing the intuition\n",
    "The intuitive description is enough to get the general idea of distributions \n",
    "\n",
    "but we do need to be much more specific if we are to perform calculations"
   ]
  },
  {
   "cell_type": "markdown",
   "metadata": {
    "slideshow": {
     "slide_type": "slide"
    }
   },
   "source": [
    "# Specification with math notation: Mean point estimate\n",
    "\n",
    "$$\n",
    "\\LARGE\n",
    "\\bar{Y} = \\frac{\\sum_{N}^{i=0}Y_i}{N}\n",
    "$$\n",
    "\n",
    "This is the way it's been done for thousands of years prior to computers"
   ]
  },
  {
   "cell_type": "markdown",
   "metadata": {
    "slideshow": {
     "slide_type": "slide"
    }
   },
   "source": [
    "# Specification with math notation: Normal Distribution\n",
    "$$\n",
    "\\LARGE\n",
    "f(x) = \\frac{1}{\\sigma\\sqrt{2\\pi}} e^{-\\frac{1}{2}\\left(\\frac{x - \\mu}{\\sigma}\\right)^2}\n",
    "$$"
   ]
  },
  {
   "cell_type": "code",
   "execution_count": 6,
   "metadata": {},
   "outputs": [
    {
     "data": {
      "text/plain": [
       "0.1329807601338109"
      ]
     },
     "execution_count": 6,
     "metadata": {},
     "output_type": "execute_result"
    }
   ],
   "source": [
    "μ, σ = 0, 3\n",
    "x = 0\n",
    "1 / (σ * np.sqrt(2 * np.pi)) * np.exp(-1 / 2 * ((x - μ) / σ) ** 2)"
   ]
  },
  {
   "cell_type": "markdown",
   "metadata": {},
   "source": [
    "This is hos we calculate the the height for a Normal Probability Distribution with Mean 0 and Standard Deviation 3.\n",
    "\n",
    "What this means exactly will be covered in another lesson."
   ]
  },
  {
   "cell_type": "markdown",
   "metadata": {
    "slideshow": {
     "slide_type": "slide"
    }
   },
   "source": [
    "#  Specification with code: Normal Distribution\n",
    "Code is how we will be specifying distributions in this course"
   ]
  },
  {
   "cell_type": "code",
   "execution_count": 7,
   "metadata": {},
   "outputs": [
    {
     "data": {
      "text/plain": [
       "0.1329807601338109"
      ]
     },
     "execution_count": 7,
     "metadata": {},
     "output_type": "execute_result"
    }
   ],
   "source": [
    "μ, σ = 0, 3\n",
    "x = 0\n",
    "scipy.stats.norm(μ, σ).pdf(x)"
   ]
  },
  {
   "cell_type": "markdown",
   "metadata": {},
   "source": [
    "Specifying distributions with code enables computation which will confer many advantages, notably \"easy\" sampling\n",
    "\n",
    "*The idea of sampling is fundamental to this course and will be covered in more detail in its own section*"
   ]
  },
  {
   "cell_type": "markdown",
   "metadata": {
    "slideshow": {
     "slide_type": "slide"
    }
   },
   "source": [
    "# Lesson Summary\n",
    "* Distributions specify the relative frequency of observations, or relative belief, \"of things\"\n",
    "* Distributions can describe many things, such as probability, observations, other parameters\n",
    "    * Probability distributions are a special case of distributions\n",
    "* We will be specifying and interacting with distributions primarily through code in this course"
   ]
  }
 ],
 "metadata": {
  "celltoolbar": "Slideshow",
  "kernelspec": {
   "display_name": "Python 3",
   "language": "python",
   "name": "python3"
  },
  "language_info": {
   "codemirror_mode": {
    "name": "ipython",
    "version": 3
   },
   "file_extension": ".py",
   "mimetype": "text/x-python",
   "name": "python",
   "nbconvert_exporter": "python",
   "pygments_lexer": "ipython3",
   "version": "3.8.3"
  }
 },
 "nbformat": 4,
 "nbformat_minor": 4
}
