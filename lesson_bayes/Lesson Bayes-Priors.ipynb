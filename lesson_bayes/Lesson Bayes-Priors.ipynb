{
 "cells": [
  {
   "cell_type": "markdown",
   "id": "db2f456d",
   "metadata": {},
   "source": [
    "# Lesson Bayes: Priors"
   ]
  },
  {
   "cell_type": "code",
   "execution_count": null,
   "id": "7dd88a89",
   "metadata": {},
   "outputs": [],
   "source": [
    "import arviz as az\n",
    "import matplotlib.pyplot as plt\n",
    "import numpy as np\n",
    "import pandas as pd\n",
    "import scipy\n",
    "from scipy import stats"
   ]
  },
  {
   "cell_type": "markdown",
   "id": "4612faf6",
   "metadata": {},
   "source": [
    "# Priors\n",
    "Expressing beliefs priors to data"
   ]
  },
  {
   "cell_type": "markdown",
   "id": "c87ecaf0",
   "metadata": {},
   "source": [
    "# What is a prior?"
   ]
  },
  {
   "cell_type": "markdown",
   "id": "5acf02be",
   "metadata": {},
   "source": [
    "# What is a prior mathematically"
   ]
  },
  {
   "cell_type": "markdown",
   "id": "c3b9de54",
   "metadata": {},
   "source": [
    "# What is a prior computationally?"
   ]
  },
  {
   "cell_type": "markdown",
   "id": "2ccc57ad",
   "metadata": {},
   "source": [
    "# Some examples of priors"
   ]
  },
  {
   "cell_type": "markdown",
   "id": "c0f76bbf",
   "metadata": {},
   "source": [
    "# Informative vs Uninformative priors"
   ]
  },
  {
   "cell_type": "markdown",
   "id": "64bedf63",
   "metadata": {},
   "source": [
    "# Priors are a form of regularization"
   ]
  },
  {
   "cell_type": "markdown",
   "id": "f29030f2",
   "metadata": {},
   "source": [
    "# A/B Testing Example"
   ]
  },
  {
   "cell_type": "markdown",
   "id": "9ed34162",
   "metadata": {},
   "source": [
    "# Linear Regression Example"
   ]
  },
  {
   "cell_type": "markdown",
   "id": "9747c5a0",
   "metadata": {},
   "source": [
    "# How do we select priors?"
   ]
  }
 ],
 "metadata": {
  "kernelspec": {
   "display_name": "Python 3 (ipykernel)",
   "language": "python",
   "name": "python3"
  },
  "language_info": {
   "codemirror_mode": {
    "name": "ipython",
    "version": 3
   },
   "file_extension": ".py",
   "mimetype": "text/x-python",
   "name": "python",
   "nbconvert_exporter": "python",
   "pygments_lexer": "ipython3",
   "version": "3.9.7"
  }
 },
 "nbformat": 4,
 "nbformat_minor": 5
}
